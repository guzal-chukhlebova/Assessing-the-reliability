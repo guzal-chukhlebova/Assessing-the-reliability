{
 "cells": [
  {
   "cell_type": "markdown",
   "metadata": {},
   "source": [
    "## Подготовка данных"
   ]
  },
  {
   "cell_type": "markdown",
   "metadata": {},
   "source": [
    "### Описание данных"
   ]
  },
  {
   "cell_type": "markdown",
   "metadata": {},
   "source": [
    "*Исследование надёжности заёмщиков*\n",
    "\n",
    "Заказчик — кредитный отдел банка. Нужно разобраться, влияет ли семейное положение и количество детей клиента на факт погашения кредита в срок. \n",
    "\n",
    "Входные данные от банка — статистика о платёжеспособности клиентов.\n",
    "\n",
    "Результаты исследования будут учтены при построении модели кредитного скоринга — специальной системы, которая оценивает способность потенциального заёмщика вернуть кредит банку."
   ]
  },
  {
   "cell_type": "markdown",
   "metadata": {},
   "source": [
    "Файл data хранит следующую информацию о пользователях: \n",
    "- `children` — количество детей в семье;\n",
    "- `days_employed` — общий трудовой стаж в днях;\n",
    "- `dob_years` — возраст клиента в годах;\n",
    "- `education` — уровень образования клиента;\n",
    "- `education_id` — идентификатор уровня образования;\n",
    "- `family_status` — семейное положение;\n",
    "- `family_status_id` — идентификатор семейного положения;\n",
    "- `gender` — пол клиента;\n",
    "- `income_type` — тип занятости;\n",
    "- `debt` — имел ли задолженность по возврату кредитов;\n",
    "- `total_income` — ежемесячный доход;\n",
    "- `purpose` — цель получения кредита."
   ]
  },
  {
   "cell_type": "markdown",
   "metadata": {},
   "source": [
    "### Загрузка данных"
   ]
  },
  {
   "cell_type": "code",
   "execution_count": 1,
   "metadata": {},
   "outputs": [
    {
     "data": {
      "text/html": [
       "<div>\n",
       "<style scoped>\n",
       "    .dataframe tbody tr th:only-of-type {\n",
       "        vertical-align: middle;\n",
       "    }\n",
       "\n",
       "    .dataframe tbody tr th {\n",
       "        vertical-align: top;\n",
       "    }\n",
       "\n",
       "    .dataframe thead th {\n",
       "        text-align: right;\n",
       "    }\n",
       "</style>\n",
       "<table border=\"1\" class=\"dataframe\">\n",
       "  <thead>\n",
       "    <tr style=\"text-align: right;\">\n",
       "      <th></th>\n",
       "      <th>children</th>\n",
       "      <th>days_employed</th>\n",
       "      <th>dob_years</th>\n",
       "      <th>education</th>\n",
       "      <th>education_id</th>\n",
       "      <th>family_status</th>\n",
       "      <th>family_status_id</th>\n",
       "      <th>gender</th>\n",
       "      <th>income_type</th>\n",
       "      <th>debt</th>\n",
       "      <th>total_income</th>\n",
       "      <th>purpose</th>\n",
       "    </tr>\n",
       "  </thead>\n",
       "  <tbody>\n",
       "    <tr>\n",
       "      <th>0</th>\n",
       "      <td>1</td>\n",
       "      <td>-8437.673028</td>\n",
       "      <td>42</td>\n",
       "      <td>высшее</td>\n",
       "      <td>0</td>\n",
       "      <td>женат / замужем</td>\n",
       "      <td>0</td>\n",
       "      <td>F</td>\n",
       "      <td>сотрудник</td>\n",
       "      <td>0</td>\n",
       "      <td>253875.639453</td>\n",
       "      <td>покупка жилья</td>\n",
       "    </tr>\n",
       "    <tr>\n",
       "      <th>1</th>\n",
       "      <td>1</td>\n",
       "      <td>-4024.803754</td>\n",
       "      <td>36</td>\n",
       "      <td>среднее</td>\n",
       "      <td>1</td>\n",
       "      <td>женат / замужем</td>\n",
       "      <td>0</td>\n",
       "      <td>F</td>\n",
       "      <td>сотрудник</td>\n",
       "      <td>0</td>\n",
       "      <td>112080.014102</td>\n",
       "      <td>приобретение автомобиля</td>\n",
       "    </tr>\n",
       "    <tr>\n",
       "      <th>2</th>\n",
       "      <td>0</td>\n",
       "      <td>-5623.422610</td>\n",
       "      <td>33</td>\n",
       "      <td>Среднее</td>\n",
       "      <td>1</td>\n",
       "      <td>женат / замужем</td>\n",
       "      <td>0</td>\n",
       "      <td>M</td>\n",
       "      <td>сотрудник</td>\n",
       "      <td>0</td>\n",
       "      <td>145885.952297</td>\n",
       "      <td>покупка жилья</td>\n",
       "    </tr>\n",
       "    <tr>\n",
       "      <th>3</th>\n",
       "      <td>3</td>\n",
       "      <td>-4124.747207</td>\n",
       "      <td>32</td>\n",
       "      <td>среднее</td>\n",
       "      <td>1</td>\n",
       "      <td>женат / замужем</td>\n",
       "      <td>0</td>\n",
       "      <td>M</td>\n",
       "      <td>сотрудник</td>\n",
       "      <td>0</td>\n",
       "      <td>267628.550329</td>\n",
       "      <td>дополнительное образование</td>\n",
       "    </tr>\n",
       "    <tr>\n",
       "      <th>4</th>\n",
       "      <td>0</td>\n",
       "      <td>340266.072047</td>\n",
       "      <td>53</td>\n",
       "      <td>среднее</td>\n",
       "      <td>1</td>\n",
       "      <td>гражданский брак</td>\n",
       "      <td>1</td>\n",
       "      <td>F</td>\n",
       "      <td>пенсионер</td>\n",
       "      <td>0</td>\n",
       "      <td>158616.077870</td>\n",
       "      <td>сыграть свадьбу</td>\n",
       "    </tr>\n",
       "  </tbody>\n",
       "</table>\n",
       "</div>"
      ],
      "text/plain": [
       "   children  days_employed  dob_years education  education_id  \\\n",
       "0         1   -8437.673028         42    высшее             0   \n",
       "1         1   -4024.803754         36   среднее             1   \n",
       "2         0   -5623.422610         33   Среднее             1   \n",
       "3         3   -4124.747207         32   среднее             1   \n",
       "4         0  340266.072047         53   среднее             1   \n",
       "\n",
       "      family_status  family_status_id gender income_type  debt   total_income  \\\n",
       "0   женат / замужем                 0      F   сотрудник     0  253875.639453   \n",
       "1   женат / замужем                 0      F   сотрудник     0  112080.014102   \n",
       "2   женат / замужем                 0      M   сотрудник     0  145885.952297   \n",
       "3   женат / замужем                 0      M   сотрудник     0  267628.550329   \n",
       "4  гражданский брак                 1      F   пенсионер     0  158616.077870   \n",
       "\n",
       "                      purpose  \n",
       "0               покупка жилья  \n",
       "1     приобретение автомобиля  \n",
       "2               покупка жилья  \n",
       "3  дополнительное образование  \n",
       "4             сыграть свадьбу  "
      ]
     },
     "execution_count": 1,
     "metadata": {},
     "output_type": "execute_result"
    }
   ],
   "source": [
    "# импорт библиотеки pandas\n",
    "import pandas as pd\n",
    "# чтение файла с данными и сохранение в df\n",
    "server_path = '/datasets/data.csv'\n",
    "local_path = 'data.csv' \n",
    "#использую конструкцию try-except удобства запуска локально и через сервер практикума\n",
    "try:  \n",
    "    df = pd.read_csv(server_path)     \n",
    "except: \n",
    "    df = pd.read_csv(local_path) \n",
    "df.head()    "
   ]
  },
  {
   "cell_type": "markdown",
   "metadata": {},
   "source": [
    "Оценка объёма данных в таблице: "
   ]
  },
  {
   "cell_type": "code",
   "execution_count": 2,
   "metadata": {},
   "outputs": [
    {
     "name": "stdout",
     "output_type": "stream",
     "text": [
      "<class 'pandas.core.frame.DataFrame'>\n",
      "RangeIndex: 21525 entries, 0 to 21524\n",
      "Data columns (total 12 columns):\n",
      " #   Column            Non-Null Count  Dtype  \n",
      "---  ------            --------------  -----  \n",
      " 0   children          21525 non-null  int64  \n",
      " 1   days_employed     19351 non-null  float64\n",
      " 2   dob_years         21525 non-null  int64  \n",
      " 3   education         21525 non-null  object \n",
      " 4   education_id      21525 non-null  int64  \n",
      " 5   family_status     21525 non-null  object \n",
      " 6   family_status_id  21525 non-null  int64  \n",
      " 7   gender            21525 non-null  object \n",
      " 8   income_type       21525 non-null  object \n",
      " 9   debt              21525 non-null  int64  \n",
      " 10  total_income      19351 non-null  float64\n",
      " 11  purpose           21525 non-null  object \n",
      "dtypes: float64(2), int64(5), object(5)\n",
      "memory usage: 2.0+ MB\n"
     ]
    }
   ],
   "source": [
    "# получение общей информации о данных в таблице df\n",
    "df.info()"
   ]
  },
  {
   "cell_type": "markdown",
   "metadata": {},
   "source": [
    "Итак, в таблице двенадцать столбцов. Тип данных в столбцах — int64, float64, object."
   ]
  },
  {
   "cell_type": "markdown",
   "metadata": {},
   "source": [
    "**Вывод**"
   ]
  },
  {
   "cell_type": "markdown",
   "metadata": {},
   "source": [
    "В каждой строке таблицы - статистика платёжеспособность клиента. Большая часть колонок описывает клиента: количество детей в семье, общий трудовой стаж, возраст, уровень образования, семейное положение, пол, тип занятости, доход. Остальные данные сообщают о кредитной банковской истории клиента: имел ли задолженность по возврату кредитов, цель получения кредита.\n",
    "\n",
    "Предварительно можно утверждать, что, данных достаточно для проверки гипотез. Но встречаются пропуски в данных, значение '-8437.673028' в стоблце 'days_employed' не соответсвует стандарной записи общего трудового стажа в днях, а также значения в стоблце 'education' оформлены с расхождением хорошего стиля (записаны в разных регистрах). \n",
    "\n",
    "Чтобы двигаться дальше, нужно устранить проблемы в данных."
   ]
  },
  {
   "cell_type": "markdown",
   "metadata": {},
   "source": [
    "## Шаг 2. Предобработка данных"
   ]
  },
  {
   "cell_type": "markdown",
   "metadata": {},
   "source": [
    "### Обработка пропусков"
   ]
  },
  {
   "cell_type": "markdown",
   "metadata": {},
   "source": [
    "Сначала посчитаем, сколько в таблице пропущенных значений."
   ]
  },
  {
   "cell_type": "code",
   "execution_count": 3,
   "metadata": {},
   "outputs": [
    {
     "data": {
      "text/plain": [
       "children               0\n",
       "days_employed       2174\n",
       "dob_years              0\n",
       "education              0\n",
       "education_id           0\n",
       "family_status          0\n",
       "family_status_id       0\n",
       "gender                 0\n",
       "income_type            0\n",
       "debt                   0\n",
       "total_income        2174\n",
       "purpose                0\n",
       "dtype: int64"
      ]
     },
     "execution_count": 3,
     "metadata": {},
     "output_type": "execute_result"
    }
   ],
   "source": [
    "# подсчёт пропусков\n",
    "df.isna().sum()"
   ]
  },
  {
   "cell_type": "markdown",
   "metadata": {},
   "source": [
    "Источник трафика пропущен в 2174 случаях. Это примерно 10% от всех значений датафрейма df, в котором 21525 строк. Удалив строки с NaN, мы лишим себя почти 1/10 данных, что впоследствии повлияет на метрики возврата кредита и выводы исследования."
   ]
  },
  {
   "cell_type": "markdown",
   "metadata": {},
   "source": [
    "Методом isna() найдём все строки с пропусками в столбце total_income и days_employed и просмотрим первые пять."
   ]
  },
  {
   "cell_type": "code",
   "execution_count": 4,
   "metadata": {},
   "outputs": [
    {
     "data": {
      "text/html": [
       "<div>\n",
       "<style scoped>\n",
       "    .dataframe tbody tr th:only-of-type {\n",
       "        vertical-align: middle;\n",
       "    }\n",
       "\n",
       "    .dataframe tbody tr th {\n",
       "        vertical-align: top;\n",
       "    }\n",
       "\n",
       "    .dataframe thead th {\n",
       "        text-align: right;\n",
       "    }\n",
       "</style>\n",
       "<table border=\"1\" class=\"dataframe\">\n",
       "  <thead>\n",
       "    <tr style=\"text-align: right;\">\n",
       "      <th></th>\n",
       "      <th>children</th>\n",
       "      <th>days_employed</th>\n",
       "      <th>dob_years</th>\n",
       "      <th>education</th>\n",
       "      <th>education_id</th>\n",
       "      <th>family_status</th>\n",
       "      <th>family_status_id</th>\n",
       "      <th>gender</th>\n",
       "      <th>income_type</th>\n",
       "      <th>debt</th>\n",
       "      <th>total_income</th>\n",
       "      <th>purpose</th>\n",
       "    </tr>\n",
       "  </thead>\n",
       "  <tbody>\n",
       "    <tr>\n",
       "      <th>12</th>\n",
       "      <td>0</td>\n",
       "      <td>NaN</td>\n",
       "      <td>65</td>\n",
       "      <td>среднее</td>\n",
       "      <td>1</td>\n",
       "      <td>гражданский брак</td>\n",
       "      <td>1</td>\n",
       "      <td>M</td>\n",
       "      <td>пенсионер</td>\n",
       "      <td>0</td>\n",
       "      <td>NaN</td>\n",
       "      <td>сыграть свадьбу</td>\n",
       "    </tr>\n",
       "    <tr>\n",
       "      <th>26</th>\n",
       "      <td>0</td>\n",
       "      <td>NaN</td>\n",
       "      <td>41</td>\n",
       "      <td>среднее</td>\n",
       "      <td>1</td>\n",
       "      <td>женат / замужем</td>\n",
       "      <td>0</td>\n",
       "      <td>M</td>\n",
       "      <td>госслужащий</td>\n",
       "      <td>0</td>\n",
       "      <td>NaN</td>\n",
       "      <td>образование</td>\n",
       "    </tr>\n",
       "    <tr>\n",
       "      <th>29</th>\n",
       "      <td>0</td>\n",
       "      <td>NaN</td>\n",
       "      <td>63</td>\n",
       "      <td>среднее</td>\n",
       "      <td>1</td>\n",
       "      <td>Не женат / не замужем</td>\n",
       "      <td>4</td>\n",
       "      <td>F</td>\n",
       "      <td>пенсионер</td>\n",
       "      <td>0</td>\n",
       "      <td>NaN</td>\n",
       "      <td>строительство жилой недвижимости</td>\n",
       "    </tr>\n",
       "    <tr>\n",
       "      <th>41</th>\n",
       "      <td>0</td>\n",
       "      <td>NaN</td>\n",
       "      <td>50</td>\n",
       "      <td>среднее</td>\n",
       "      <td>1</td>\n",
       "      <td>женат / замужем</td>\n",
       "      <td>0</td>\n",
       "      <td>F</td>\n",
       "      <td>госслужащий</td>\n",
       "      <td>0</td>\n",
       "      <td>NaN</td>\n",
       "      <td>сделка с подержанным автомобилем</td>\n",
       "    </tr>\n",
       "    <tr>\n",
       "      <th>55</th>\n",
       "      <td>0</td>\n",
       "      <td>NaN</td>\n",
       "      <td>54</td>\n",
       "      <td>среднее</td>\n",
       "      <td>1</td>\n",
       "      <td>гражданский брак</td>\n",
       "      <td>1</td>\n",
       "      <td>F</td>\n",
       "      <td>пенсионер</td>\n",
       "      <td>1</td>\n",
       "      <td>NaN</td>\n",
       "      <td>сыграть свадьбу</td>\n",
       "    </tr>\n",
       "  </tbody>\n",
       "</table>\n",
       "</div>"
      ],
      "text/plain": [
       "    children  days_employed  dob_years education  education_id  \\\n",
       "12         0            NaN         65   среднее             1   \n",
       "26         0            NaN         41   среднее             1   \n",
       "29         0            NaN         63   среднее             1   \n",
       "41         0            NaN         50   среднее             1   \n",
       "55         0            NaN         54   среднее             1   \n",
       "\n",
       "            family_status  family_status_id gender  income_type  debt  \\\n",
       "12       гражданский брак                 1      M    пенсионер     0   \n",
       "26        женат / замужем                 0      M  госслужащий     0   \n",
       "29  Не женат / не замужем                 4      F    пенсионер     0   \n",
       "41        женат / замужем                 0      F  госслужащий     0   \n",
       "55       гражданский брак                 1      F    пенсионер     1   \n",
       "\n",
       "    total_income                           purpose  \n",
       "12           NaN                   сыграть свадьбу  \n",
       "26           NaN                       образование  \n",
       "29           NaN  строительство жилой недвижимости  \n",
       "41           NaN  сделка с подержанным автомобилем  \n",
       "55           NaN                   сыграть свадьбу  "
      ]
     },
     "execution_count": 4,
     "metadata": {},
     "output_type": "execute_result"
    }
   ],
   "source": [
    "# подсчёт пропусков для столбца 'days_employed'\n",
    "df[df['days_employed'].isna()].head(5)"
   ]
  },
  {
   "cell_type": "code",
   "execution_count": 5,
   "metadata": {},
   "outputs": [
    {
     "data": {
      "text/html": [
       "<div>\n",
       "<style scoped>\n",
       "    .dataframe tbody tr th:only-of-type {\n",
       "        vertical-align: middle;\n",
       "    }\n",
       "\n",
       "    .dataframe tbody tr th {\n",
       "        vertical-align: top;\n",
       "    }\n",
       "\n",
       "    .dataframe thead th {\n",
       "        text-align: right;\n",
       "    }\n",
       "</style>\n",
       "<table border=\"1\" class=\"dataframe\">\n",
       "  <thead>\n",
       "    <tr style=\"text-align: right;\">\n",
       "      <th></th>\n",
       "      <th>children</th>\n",
       "      <th>days_employed</th>\n",
       "      <th>dob_years</th>\n",
       "      <th>education</th>\n",
       "      <th>education_id</th>\n",
       "      <th>family_status</th>\n",
       "      <th>family_status_id</th>\n",
       "      <th>gender</th>\n",
       "      <th>income_type</th>\n",
       "      <th>debt</th>\n",
       "      <th>total_income</th>\n",
       "      <th>purpose</th>\n",
       "    </tr>\n",
       "  </thead>\n",
       "  <tbody>\n",
       "    <tr>\n",
       "      <th>12</th>\n",
       "      <td>0</td>\n",
       "      <td>NaN</td>\n",
       "      <td>65</td>\n",
       "      <td>среднее</td>\n",
       "      <td>1</td>\n",
       "      <td>гражданский брак</td>\n",
       "      <td>1</td>\n",
       "      <td>M</td>\n",
       "      <td>пенсионер</td>\n",
       "      <td>0</td>\n",
       "      <td>NaN</td>\n",
       "      <td>сыграть свадьбу</td>\n",
       "    </tr>\n",
       "    <tr>\n",
       "      <th>26</th>\n",
       "      <td>0</td>\n",
       "      <td>NaN</td>\n",
       "      <td>41</td>\n",
       "      <td>среднее</td>\n",
       "      <td>1</td>\n",
       "      <td>женат / замужем</td>\n",
       "      <td>0</td>\n",
       "      <td>M</td>\n",
       "      <td>госслужащий</td>\n",
       "      <td>0</td>\n",
       "      <td>NaN</td>\n",
       "      <td>образование</td>\n",
       "    </tr>\n",
       "    <tr>\n",
       "      <th>29</th>\n",
       "      <td>0</td>\n",
       "      <td>NaN</td>\n",
       "      <td>63</td>\n",
       "      <td>среднее</td>\n",
       "      <td>1</td>\n",
       "      <td>Не женат / не замужем</td>\n",
       "      <td>4</td>\n",
       "      <td>F</td>\n",
       "      <td>пенсионер</td>\n",
       "      <td>0</td>\n",
       "      <td>NaN</td>\n",
       "      <td>строительство жилой недвижимости</td>\n",
       "    </tr>\n",
       "    <tr>\n",
       "      <th>41</th>\n",
       "      <td>0</td>\n",
       "      <td>NaN</td>\n",
       "      <td>50</td>\n",
       "      <td>среднее</td>\n",
       "      <td>1</td>\n",
       "      <td>женат / замужем</td>\n",
       "      <td>0</td>\n",
       "      <td>F</td>\n",
       "      <td>госслужащий</td>\n",
       "      <td>0</td>\n",
       "      <td>NaN</td>\n",
       "      <td>сделка с подержанным автомобилем</td>\n",
       "    </tr>\n",
       "    <tr>\n",
       "      <th>55</th>\n",
       "      <td>0</td>\n",
       "      <td>NaN</td>\n",
       "      <td>54</td>\n",
       "      <td>среднее</td>\n",
       "      <td>1</td>\n",
       "      <td>гражданский брак</td>\n",
       "      <td>1</td>\n",
       "      <td>F</td>\n",
       "      <td>пенсионер</td>\n",
       "      <td>1</td>\n",
       "      <td>NaN</td>\n",
       "      <td>сыграть свадьбу</td>\n",
       "    </tr>\n",
       "  </tbody>\n",
       "</table>\n",
       "</div>"
      ],
      "text/plain": [
       "    children  days_employed  dob_years education  education_id  \\\n",
       "12         0            NaN         65   среднее             1   \n",
       "26         0            NaN         41   среднее             1   \n",
       "29         0            NaN         63   среднее             1   \n",
       "41         0            NaN         50   среднее             1   \n",
       "55         0            NaN         54   среднее             1   \n",
       "\n",
       "            family_status  family_status_id gender  income_type  debt  \\\n",
       "12       гражданский брак                 1      M    пенсионер     0   \n",
       "26        женат / замужем                 0      M  госслужащий     0   \n",
       "29  Не женат / не замужем                 4      F    пенсионер     0   \n",
       "41        женат / замужем                 0      F  госслужащий     0   \n",
       "55       гражданский брак                 1      F    пенсионер     1   \n",
       "\n",
       "    total_income                           purpose  \n",
       "12           NaN                   сыграть свадьбу  \n",
       "26           NaN                       образование  \n",
       "29           NaN  строительство жилой недвижимости  \n",
       "41           NaN  сделка с подержанным автомобилем  \n",
       "55           NaN                   сыграть свадьбу  "
      ]
     },
     "execution_count": 5,
     "metadata": {},
     "output_type": "execute_result"
    }
   ],
   "source": [
    "# подсчёт пропусков для столбца 'total_income'\n",
    "df[df['days_employed'].isna()].head(5)"
   ]
  },
  {
   "cell_type": "markdown",
   "metadata": {},
   "source": [
    "Таблицы, демонстрирующие пропуски, и их количество в столбцах 'days_employed' и 'total_income' совпадают. Значит, у клиентов, не имеющих ежемесячного дохода соответственно отсутствует информация по трудовому стажу. На первый взгляд можно сделать вывод, что причина появления пропусков в данных для этой категории клиентов: отсутствие официального места работы. Но в столбце 'income_type' полностью заполнены типы занятости клиентов. Значит возможная причина появления пропусков искажение данных при передаче или сокрытие информации.\n",
    "Общий трудовой стаж в днях и ежемесячный доход — количественные переменные. Пропуски в таких переменных заполняют характерными значениями. Это значения, характеризующие состояние выборки, — набора данных, выбранных для проведения исследования. Чтобы примерно оценить типичные значения выборки, годятся среднее арифметическое или медиана."
   ]
  },
  {
   "cell_type": "markdown",
   "metadata": {},
   "source": [
    "Значения общего трудового стажа в днях представлены в некоторых случаях отрицательными, поэтому, используя метод apply(abs), приведем все значения столбца days_employed к положительным."
   ]
  },
  {
   "cell_type": "code",
   "execution_count": 6,
   "metadata": {},
   "outputs": [],
   "source": [
    "# перевод значений столбца 'days_employed' к положительным числам\n",
    "df['days_employed'] = df['days_employed'].apply(abs)"
   ]
  },
  {
   "cell_type": "markdown",
   "metadata": {},
   "source": [
    "Аномально большие значения общего трудового стажа категории 'пенсионер' предполагаю, что даны в часах, следовательно необходимо перевести данные в дни, поделив значения на 24. "
   ]
  },
  {
   "cell_type": "code",
   "execution_count": 7,
   "metadata": {},
   "outputs": [
    {
     "data": {
      "text/html": [
       "<div>\n",
       "<style scoped>\n",
       "    .dataframe tbody tr th:only-of-type {\n",
       "        vertical-align: middle;\n",
       "    }\n",
       "\n",
       "    .dataframe tbody tr th {\n",
       "        vertical-align: top;\n",
       "    }\n",
       "\n",
       "    .dataframe thead th {\n",
       "        text-align: right;\n",
       "    }\n",
       "</style>\n",
       "<table border=\"1\" class=\"dataframe\">\n",
       "  <thead>\n",
       "    <tr style=\"text-align: right;\">\n",
       "      <th></th>\n",
       "      <th>children</th>\n",
       "      <th>days_employed</th>\n",
       "      <th>dob_years</th>\n",
       "      <th>education</th>\n",
       "      <th>education_id</th>\n",
       "      <th>family_status</th>\n",
       "      <th>family_status_id</th>\n",
       "      <th>gender</th>\n",
       "      <th>income_type</th>\n",
       "      <th>debt</th>\n",
       "      <th>total_income</th>\n",
       "      <th>purpose</th>\n",
       "    </tr>\n",
       "  </thead>\n",
       "  <tbody>\n",
       "    <tr>\n",
       "      <th>4</th>\n",
       "      <td>0</td>\n",
       "      <td>14177.753002</td>\n",
       "      <td>53</td>\n",
       "      <td>среднее</td>\n",
       "      <td>1</td>\n",
       "      <td>гражданский брак</td>\n",
       "      <td>1</td>\n",
       "      <td>F</td>\n",
       "      <td>пенсионер</td>\n",
       "      <td>0</td>\n",
       "      <td>158616.077870</td>\n",
       "      <td>сыграть свадьбу</td>\n",
       "    </tr>\n",
       "    <tr>\n",
       "      <th>12</th>\n",
       "      <td>0</td>\n",
       "      <td>NaN</td>\n",
       "      <td>65</td>\n",
       "      <td>среднее</td>\n",
       "      <td>1</td>\n",
       "      <td>гражданский брак</td>\n",
       "      <td>1</td>\n",
       "      <td>M</td>\n",
       "      <td>пенсионер</td>\n",
       "      <td>0</td>\n",
       "      <td>NaN</td>\n",
       "      <td>сыграть свадьбу</td>\n",
       "    </tr>\n",
       "    <tr>\n",
       "      <th>18</th>\n",
       "      <td>0</td>\n",
       "      <td>16678.380705</td>\n",
       "      <td>53</td>\n",
       "      <td>среднее</td>\n",
       "      <td>1</td>\n",
       "      <td>вдовец / вдова</td>\n",
       "      <td>2</td>\n",
       "      <td>F</td>\n",
       "      <td>пенсионер</td>\n",
       "      <td>0</td>\n",
       "      <td>56823.777243</td>\n",
       "      <td>на покупку подержанного автомобиля</td>\n",
       "    </tr>\n",
       "    <tr>\n",
       "      <th>24</th>\n",
       "      <td>1</td>\n",
       "      <td>14106.331371</td>\n",
       "      <td>57</td>\n",
       "      <td>среднее</td>\n",
       "      <td>1</td>\n",
       "      <td>Не женат / не замужем</td>\n",
       "      <td>4</td>\n",
       "      <td>F</td>\n",
       "      <td>пенсионер</td>\n",
       "      <td>0</td>\n",
       "      <td>290547.235997</td>\n",
       "      <td>операции с коммерческой недвижимостью</td>\n",
       "    </tr>\n",
       "    <tr>\n",
       "      <th>25</th>\n",
       "      <td>0</td>\n",
       "      <td>15147.853723</td>\n",
       "      <td>67</td>\n",
       "      <td>среднее</td>\n",
       "      <td>1</td>\n",
       "      <td>женат / замужем</td>\n",
       "      <td>0</td>\n",
       "      <td>M</td>\n",
       "      <td>пенсионер</td>\n",
       "      <td>0</td>\n",
       "      <td>55112.757732</td>\n",
       "      <td>покупка недвижимости</td>\n",
       "    </tr>\n",
       "  </tbody>\n",
       "</table>\n",
       "</div>"
      ],
      "text/plain": [
       "    children  days_employed  dob_years education  education_id  \\\n",
       "4          0   14177.753002         53   среднее             1   \n",
       "12         0            NaN         65   среднее             1   \n",
       "18         0   16678.380705         53   среднее             1   \n",
       "24         1   14106.331371         57   среднее             1   \n",
       "25         0   15147.853723         67   среднее             1   \n",
       "\n",
       "            family_status  family_status_id gender income_type  debt  \\\n",
       "4        гражданский брак                 1      F   пенсионер     0   \n",
       "12       гражданский брак                 1      M   пенсионер     0   \n",
       "18         вдовец / вдова                 2      F   пенсионер     0   \n",
       "24  Не женат / не замужем                 4      F   пенсионер     0   \n",
       "25        женат / замужем                 0      M   пенсионер     0   \n",
       "\n",
       "     total_income                                purpose  \n",
       "4   158616.077870                        сыграть свадьбу  \n",
       "12            NaN                        сыграть свадьбу  \n",
       "18   56823.777243     на покупку подержанного автомобиля  \n",
       "24  290547.235997  операции с коммерческой недвижимостью  \n",
       "25   55112.757732                   покупка недвижимости  "
      ]
     },
     "execution_count": 7,
     "metadata": {},
     "output_type": "execute_result"
    }
   ],
   "source": [
    "# перевод значений столбца 'days_employed' в дни\n",
    "df.loc[df['days_employed'] >30000, 'days_employed'] = df.loc[df['days_employed'] >30000, 'days_employed'] / 24\n",
    "# проверка выполнения кода\n",
    "df[df['income_type'] == 'пенсионер'].head(5)"
   ]
  },
  {
   "cell_type": "markdown",
   "metadata": {},
   "source": [
    "Определим уникальные значения и количество упоминайний в стобце 'income_type'."
   ]
  },
  {
   "cell_type": "code",
   "execution_count": 8,
   "metadata": {},
   "outputs": [
    {
     "data": {
      "text/plain": [
       "сотрудник          11119\n",
       "компаньон           5085\n",
       "пенсионер           3856\n",
       "госслужащий         1459\n",
       "безработный            2\n",
       "предприниматель        2\n",
       "студент                1\n",
       "в декрете              1\n",
       "Name: income_type, dtype: int64"
      ]
     },
     "execution_count": 8,
     "metadata": {},
     "output_type": "execute_result"
    }
   ],
   "source": [
    "# просмотр уникальных значений и их количества типов занятости\n",
    "df['income_type'].value_counts()"
   ]
  },
  {
   "cell_type": "markdown",
   "metadata": {},
   "source": [
    "Заполним пропущенные значения в столбце 'days_employed' средним значением общего трудового стажа для каждой категории типа занятости."
   ]
  },
  {
   "cell_type": "code",
   "execution_count": 9,
   "metadata": {},
   "outputs": [
    {
     "name": "stdout",
     "output_type": "stream",
     "text": [
      "Пропуски до: 2174\n",
      "сотрудник 2326.4992159718063\n",
      "пенсионер 15208.478801869218\n",
      "компаньон 2111.5243982977295\n",
      "госслужащий 3399.896901695746\n",
      "безработный 15267.235531008522\n",
      "предприниматель 520.8480834953765\n",
      "студент 578.7515535382181\n",
      "в декрете 3296.7599620220594\n",
      "Пропуски после: 0\n"
     ]
    }
   ],
   "source": [
    "# перебор типов занятости в цикле и замена пропущенных значений на среднее значение трудового стажа\n",
    "print('Пропуски до:', df['days_employed'].isna().sum())\n",
    "for item in df['income_type'].unique():\n",
    "    mean = df.loc[df['income_type'] == item, 'days_employed'].mean()\n",
    "    print(item, mean)\n",
    "    df.loc[(df['days_employed'].isna()) & (df['income_type'] == item), 'days_employed'] = mean\n",
    "print('Пропуски после:', df['days_employed'].isna().sum())"
   ]
  },
  {
   "cell_type": "code",
   "execution_count": 10,
   "metadata": {},
   "outputs": [
    {
     "data": {
      "text/plain": [
       "2265604.028722744"
      ]
     },
     "execution_count": 10,
     "metadata": {},
     "output_type": "execute_result"
    }
   ],
   "source": [
    "# просмотр максимального значения в столбце 'total_income'\n",
    "df['total_income'].max()"
   ]
  },
  {
   "cell_type": "code",
   "execution_count": 11,
   "metadata": {},
   "outputs": [
    {
     "data": {
      "text/plain": [
       "20667.26379327158"
      ]
     },
     "execution_count": 11,
     "metadata": {},
     "output_type": "execute_result"
    }
   ],
   "source": [
    "# просмотр минимального значения в столбце 'total_income'\n",
    "df['total_income'].min()"
   ]
  },
  {
   "cell_type": "markdown",
   "metadata": {},
   "source": [
    "Заполним пропущенные значения в столбце 'total_income' медианным значением ежемесячного дохода для каждой категории типа занятости."
   ]
  },
  {
   "cell_type": "code",
   "execution_count": 12,
   "metadata": {},
   "outputs": [
    {
     "name": "stdout",
     "output_type": "stream",
     "text": [
      "Пропуски до: 2174\n",
      "сотрудник 142594.39684740017\n",
      "пенсионер 118514.48641164352\n",
      "компаньон 172357.95096577113\n",
      "госслужащий 150447.9352830068\n",
      "безработный 131339.7516762103\n",
      "предприниматель 499163.1449470857\n",
      "студент 98201.62531401133\n",
      "в декрете 53829.13072905995\n",
      "Пропуски после: 0\n"
     ]
    }
   ],
   "source": [
    "# перебор типов занятости в цикле и замена пропущенных значений на медианное значение ежемесячного дохода\n",
    "print('Пропуски до:', df['total_income'].isna().sum())\n",
    "for item in df['income_type'].unique():\n",
    "    median = df.loc[df['income_type'] == item, 'total_income'].median()\n",
    "    print(item, median)\n",
    "    df.loc[(df['total_income'].isna()) & (df['income_type'] == item), 'total_income'] = median\n",
    "print('Пропуски после:', df['total_income'].isna().sum())"
   ]
  },
  {
   "cell_type": "markdown",
   "metadata": {},
   "source": [
    "**Вывод**"
   ]
  },
  {
   "cell_type": "markdown",
   "metadata": {},
   "source": [
    "В процессе предобработки обнаружены пропущенные значения в столбцах 'days_employed' и 'total_income'.\n",
    "Пропущенные значения заменены в столбце 'days_employed' средним значением. Среднее значение некорректно характеризует данные, когда некоторые значения сильно выделяются среди большинства, поэтому для заполнения пропущенных значений в столбце ежемесячного дохода 'total_income' применён метод median() для каждой категорий."
   ]
  },
  {
   "cell_type": "markdown",
   "metadata": {},
   "source": [
    "### Замена типа данных"
   ]
  },
  {
   "cell_type": "markdown",
   "metadata": {},
   "source": [
    "Проанализируем какие представлены значения в переменных по типу, вызвав метод info()"
   ]
  },
  {
   "cell_type": "code",
   "execution_count": 13,
   "metadata": {},
   "outputs": [
    {
     "name": "stdout",
     "output_type": "stream",
     "text": [
      "<class 'pandas.core.frame.DataFrame'>\n",
      "RangeIndex: 21525 entries, 0 to 21524\n",
      "Data columns (total 12 columns):\n",
      " #   Column            Non-Null Count  Dtype  \n",
      "---  ------            --------------  -----  \n",
      " 0   children          21525 non-null  int64  \n",
      " 1   days_employed     21525 non-null  float64\n",
      " 2   dob_years         21525 non-null  int64  \n",
      " 3   education         21525 non-null  object \n",
      " 4   education_id      21525 non-null  int64  \n",
      " 5   family_status     21525 non-null  object \n",
      " 6   family_status_id  21525 non-null  int64  \n",
      " 7   gender            21525 non-null  object \n",
      " 8   income_type       21525 non-null  object \n",
      " 9   debt              21525 non-null  int64  \n",
      " 10  total_income      21525 non-null  float64\n",
      " 11  purpose           21525 non-null  object \n",
      "dtypes: float64(2), int64(5), object(5)\n",
      "memory usage: 2.0+ MB\n"
     ]
    }
   ],
   "source": [
    "df.info()"
   ]
  },
  {
   "cell_type": "code",
   "execution_count": 14,
   "metadata": {},
   "outputs": [],
   "source": [
    "# перевод вещественных чисел в целые в столбце 'days_employed'\n",
    "df['days_employed'] = df['days_employed'].astype('int')\n",
    "# перевод вещественных чисел в целые в столбце 'total_income'\n",
    "df['total_income'] = df['total_income'].astype('int')"
   ]
  },
  {
   "cell_type": "code",
   "execution_count": 15,
   "metadata": {},
   "outputs": [
    {
     "name": "stdout",
     "output_type": "stream",
     "text": [
      "<class 'pandas.core.frame.DataFrame'>\n",
      "RangeIndex: 21525 entries, 0 to 21524\n",
      "Data columns (total 12 columns):\n",
      " #   Column            Non-Null Count  Dtype \n",
      "---  ------            --------------  ----- \n",
      " 0   children          21525 non-null  int64 \n",
      " 1   days_employed     21525 non-null  int32 \n",
      " 2   dob_years         21525 non-null  int64 \n",
      " 3   education         21525 non-null  object\n",
      " 4   education_id      21525 non-null  int64 \n",
      " 5   family_status     21525 non-null  object\n",
      " 6   family_status_id  21525 non-null  int64 \n",
      " 7   gender            21525 non-null  object\n",
      " 8   income_type       21525 non-null  object\n",
      " 9   debt              21525 non-null  int64 \n",
      " 10  total_income      21525 non-null  int32 \n",
      " 11  purpose           21525 non-null  object\n",
      "dtypes: int32(2), int64(5), object(5)\n",
      "memory usage: 1.8+ MB\n"
     ]
    }
   ],
   "source": [
    "# проверка выполнения метода astype\n",
    "df.info()"
   ]
  },
  {
   "cell_type": "markdown",
   "metadata": {},
   "source": [
    "**Вывод**"
   ]
  },
  {
   "cell_type": "markdown",
   "metadata": {},
   "source": [
    "В таблице представлены столбцы с типом данных int64, float64, object. Вещественные числа (тип данных float64) неточны и могут привести к ошибкам при арифметических операциях, а также увеличивают размер файла и время обработки данных. Поэтому, использовав метод astype, вещественные числа были переведены в целые."
   ]
  },
  {
   "cell_type": "markdown",
   "metadata": {},
   "source": [
    "### Обработка дубликатов"
   ]
  },
  {
   "cell_type": "markdown",
   "metadata": {},
   "source": [
    "Выявим неявные дубликаты в столбце 'education'."
   ]
  },
  {
   "cell_type": "code",
   "execution_count": 16,
   "metadata": {},
   "outputs": [
    {
     "data": {
      "text/plain": [
       "среднее                13750\n",
       "высшее                  4718\n",
       "СРЕДНЕЕ                  772\n",
       "Среднее                  711\n",
       "неоконченное высшее      668\n",
       "ВЫСШЕЕ                   274\n",
       "Высшее                   268\n",
       "начальное                250\n",
       "Неоконченное высшее       47\n",
       "НЕОКОНЧЕННОЕ ВЫСШЕЕ       29\n",
       "НАЧАЛЬНОЕ                 17\n",
       "Начальное                 15\n",
       "ученая степень             4\n",
       "Ученая степень             1\n",
       "УЧЕНАЯ СТЕПЕНЬ             1\n",
       "Name: education, dtype: int64"
      ]
     },
     "execution_count": 16,
     "metadata": {},
     "output_type": "execute_result"
    }
   ],
   "source": [
    "# просмотр уникальных значений и их количества столбца 'education'\n",
    "df['education'].value_counts()"
   ]
  },
  {
   "cell_type": "code",
   "execution_count": 17,
   "metadata": {},
   "outputs": [],
   "source": [
    "# возвращание столбца 'education' с символами, приведёнными к нижнему регистру\n",
    "df['education'] = df['education'].str.lower()"
   ]
  },
  {
   "cell_type": "markdown",
   "metadata": {},
   "source": [
    "Подсчитаем количество дубликатов, используя метод duplicated() в сочетании с sum()."
   ]
  },
  {
   "cell_type": "code",
   "execution_count": 18,
   "metadata": {},
   "outputs": [
    {
     "data": {
      "text/plain": [
       "71"
      ]
     },
     "execution_count": 18,
     "metadata": {},
     "output_type": "execute_result"
    }
   ],
   "source": [
    "# подсчёт явных дубликатов\n",
    "duplicated_number = df.duplicated().sum()\n",
    "duplicated_number"
   ]
  },
  {
   "cell_type": "code",
   "execution_count": 19,
   "metadata": {},
   "outputs": [],
   "source": [
    "# удаление явных дубликатов (с удалением старых индексов и формированием новых)\n",
    "df = df.drop_duplicates().reset_index(drop=True)"
   ]
  },
  {
   "cell_type": "markdown",
   "metadata": {},
   "source": [
    "Проверим выполнение кода."
   ]
  },
  {
   "cell_type": "code",
   "execution_count": 20,
   "metadata": {},
   "outputs": [
    {
     "data": {
      "text/plain": [
       "0"
      ]
     },
     "execution_count": 20,
     "metadata": {},
     "output_type": "execute_result"
    }
   ],
   "source": [
    "# проверка выполнения метода drop_duplicates\n",
    "duplicated_number = df.duplicated().sum()\n",
    "duplicated_number"
   ]
  },
  {
   "cell_type": "markdown",
   "metadata": {},
   "source": [
    "**Вывод**"
   ]
  },
  {
   "cell_type": "markdown",
   "metadata": {},
   "source": [
    "Основные причины возникновения дубликатов — повторные представления, неправильное соединение данных из разных источников, ошибки пользователя при занесении информации. В процессе обработки дубликатов был использован метод drop_duplicates с удалением старых индексов и формированием новых."
   ]
  },
  {
   "cell_type": "markdown",
   "metadata": {},
   "source": [
    "### Лемматизация"
   ]
  },
  {
   "cell_type": "markdown",
   "metadata": {},
   "source": [
    "Импортируем библиотеку pymystem3. При помощи метода unique() определим уникальные значения столбца 'purpose'. К этим значениям  применим лемматизацию и подсчитаем количество лемматизированных слов (для этого вызовем специальный контейнер Counter из модуля collections)."
   ]
  },
  {
   "cell_type": "code",
   "execution_count": 21,
   "metadata": {},
   "outputs": [],
   "source": [
    "# импорт pymystem3\n",
    "from pymystem3 import Mystem\n",
    "m = Mystem()\n",
    "# вызов специальный контейнер Counter из модуля collections\n",
    "from collections import Counter"
   ]
  },
  {
   "cell_type": "code",
   "execution_count": 22,
   "metadata": {},
   "outputs": [
    {
     "data": {
      "text/plain": [
       "Counter({'покупка': 10,\n",
       "         ' ': 96,\n",
       "         'жилье': 7,\n",
       "         'приобретение': 1,\n",
       "         'автомобиль': 9,\n",
       "         'дополнительный': 2,\n",
       "         'образование': 9,\n",
       "         'сыграть': 1,\n",
       "         'свадьба': 3,\n",
       "         'операция': 4,\n",
       "         'с': 5,\n",
       "         'на': 4,\n",
       "         'проведение': 1,\n",
       "         'для': 2,\n",
       "         'семья': 1,\n",
       "         'недвижимость': 10,\n",
       "         'коммерческий': 2,\n",
       "         'жилой': 2,\n",
       "         'строительство': 3,\n",
       "         'собственный': 1,\n",
       "         'подержать': 2,\n",
       "         'свой': 4,\n",
       "         'со': 1,\n",
       "         'заниматься': 2,\n",
       "         'сделка': 2,\n",
       "         'получение': 3,\n",
       "         'высокий': 3,\n",
       "         'профильный': 1,\n",
       "         'сдача': 1,\n",
       "         'ремонт': 1,\n",
       "         '\\n': 1})"
      ]
     },
     "execution_count": 22,
     "metadata": {},
     "output_type": "execute_result"
    }
   ],
   "source": [
    "# установление уникальные значения столбца 'purpose', лемматизация и подсчет количества упоминаний\n",
    "text = df['purpose'].unique()\n",
    "separator = ' '\n",
    "text = separator.join(text)\n",
    "lemmas = m.lemmatize(text)\n",
    "Counter(lemmas)"
   ]
  },
  {
   "cell_type": "markdown",
   "metadata": {},
   "source": [
    "Создадим функцию, которая будет лематизировать последовательно каждую ячейку столбца 'purpose' и проверять, какая из категорий обнаруживается в лемматизированном варианте."
   ]
  },
  {
   "cell_type": "code",
   "execution_count": 23,
   "metadata": {},
   "outputs": [
    {
     "data": {
      "text/plain": [
       "недвижимость          7649\n",
       "автомобиль            4306\n",
       "образование           4013\n",
       "цель не определена    3162\n",
       "свадьба               2324\n",
       "Name: lemmas_purposes, dtype: int64"
      ]
     },
     "execution_count": 23,
     "metadata": {},
     "output_type": "execute_result"
    }
   ],
   "source": [
    "def purpose_lemmas(purpose):\n",
    "    if ('недвиж' in purpose or 'жилье' in purpose):\n",
    "        return 'недвижимость'\n",
    "    elif 'автомоб' in purpose:\n",
    "        return 'автомобиль'\n",
    "    elif 'образ' in purpose:\n",
    "        return 'образование'\n",
    "    elif 'свадь' in purpose:\n",
    "        return 'свадьба'\n",
    "    else:\n",
    "        return 'цель не определена'\n",
    "\n",
    "    \n",
    "df[\"lemmas_purposes\"] = df[\"purpose\"]. apply(purpose_lemmas)\n",
    "df_unique_purp_count = df[\"lemmas_purposes\"].value_counts()\n",
    "df_unique_purp_count"
   ]
  },
  {
   "cell_type": "markdown",
   "metadata": {},
   "source": [
    "**Вывод**"
   ]
  },
  {
   "cell_type": "markdown",
   "metadata": {},
   "source": [
    "Наиболее часто клиенты банка берут кредит для операций, связанных с недвижимостью. Количество обращений по причине приобретения автомобилей и получения образования примерно одиковое и значительно меньше. Реже всего клиенты банка обращаются за кредитом для свадебных мероприятий."
   ]
  },
  {
   "cell_type": "markdown",
   "metadata": {},
   "source": [
    "### Категоризация данных"
   ]
  },
  {
   "cell_type": "markdown",
   "metadata": {},
   "source": [
    "Создадим \"словарь\", где каждой из 21454 статистической записи обращений клиетов запишем 'education_id' и 'education'."
   ]
  },
  {
   "cell_type": "code",
   "execution_count": 24,
   "metadata": {},
   "outputs": [
    {
     "data": {
      "text/html": [
       "<div>\n",
       "<style scoped>\n",
       "    .dataframe tbody tr th:only-of-type {\n",
       "        vertical-align: middle;\n",
       "    }\n",
       "\n",
       "    .dataframe tbody tr th {\n",
       "        vertical-align: top;\n",
       "    }\n",
       "\n",
       "    .dataframe thead th {\n",
       "        text-align: right;\n",
       "    }\n",
       "</style>\n",
       "<table border=\"1\" class=\"dataframe\">\n",
       "  <thead>\n",
       "    <tr style=\"text-align: right;\">\n",
       "      <th></th>\n",
       "      <th>education_id</th>\n",
       "      <th>education</th>\n",
       "    </tr>\n",
       "  </thead>\n",
       "  <tbody>\n",
       "    <tr>\n",
       "      <th>0</th>\n",
       "      <td>0</td>\n",
       "      <td>высшее</td>\n",
       "    </tr>\n",
       "    <tr>\n",
       "      <th>1</th>\n",
       "      <td>1</td>\n",
       "      <td>среднее</td>\n",
       "    </tr>\n",
       "    <tr>\n",
       "      <th>2</th>\n",
       "      <td>1</td>\n",
       "      <td>среднее</td>\n",
       "    </tr>\n",
       "    <tr>\n",
       "      <th>3</th>\n",
       "      <td>1</td>\n",
       "      <td>среднее</td>\n",
       "    </tr>\n",
       "    <tr>\n",
       "      <th>4</th>\n",
       "      <td>1</td>\n",
       "      <td>среднее</td>\n",
       "    </tr>\n",
       "  </tbody>\n",
       "</table>\n",
       "</div>"
      ],
      "text/plain": [
       "   education_id education\n",
       "0             0    высшее\n",
       "1             1   среднее\n",
       "2             1   среднее\n",
       "3             1   среднее\n",
       "4             1   среднее"
      ]
     },
     "execution_count": 24,
     "metadata": {},
     "output_type": "execute_result"
    }
   ],
   "source": [
    "# создание отдельного «словаря», где названию категории 'education' соответствует номер 'education_id'\n",
    "rest_education = df[['education_id','education']]\n",
    "rest_education.head(5)"
   ]
  },
  {
   "cell_type": "markdown",
   "metadata": {},
   "source": [
    "В \"словаре\" присутствуют дубликаты. Их нужно удалить. Применим цепочку методов: drop_duplicates() и reset_index()."
   ]
  },
  {
   "cell_type": "code",
   "execution_count": 25,
   "metadata": {},
   "outputs": [
    {
     "data": {
      "text/html": [
       "<div>\n",
       "<style scoped>\n",
       "    .dataframe tbody tr th:only-of-type {\n",
       "        vertical-align: middle;\n",
       "    }\n",
       "\n",
       "    .dataframe tbody tr th {\n",
       "        vertical-align: top;\n",
       "    }\n",
       "\n",
       "    .dataframe thead th {\n",
       "        text-align: right;\n",
       "    }\n",
       "</style>\n",
       "<table border=\"1\" class=\"dataframe\">\n",
       "  <thead>\n",
       "    <tr style=\"text-align: right;\">\n",
       "      <th></th>\n",
       "      <th>education_id</th>\n",
       "      <th>education</th>\n",
       "    </tr>\n",
       "  </thead>\n",
       "  <tbody>\n",
       "    <tr>\n",
       "      <th>0</th>\n",
       "      <td>0</td>\n",
       "      <td>высшее</td>\n",
       "    </tr>\n",
       "    <tr>\n",
       "      <th>1</th>\n",
       "      <td>1</td>\n",
       "      <td>среднее</td>\n",
       "    </tr>\n",
       "    <tr>\n",
       "      <th>2</th>\n",
       "      <td>2</td>\n",
       "      <td>неоконченное высшее</td>\n",
       "    </tr>\n",
       "    <tr>\n",
       "      <th>3</th>\n",
       "      <td>3</td>\n",
       "      <td>начальное</td>\n",
       "    </tr>\n",
       "    <tr>\n",
       "      <th>4</th>\n",
       "      <td>4</td>\n",
       "      <td>ученая степень</td>\n",
       "    </tr>\n",
       "  </tbody>\n",
       "</table>\n",
       "</div>"
      ],
      "text/plain": [
       "   education_id            education\n",
       "0             0               высшее\n",
       "1             1              среднее\n",
       "2             2  неоконченное высшее\n",
       "3             3            начальное\n",
       "4             4       ученая степень"
      ]
     },
     "execution_count": 25,
     "metadata": {},
     "output_type": "execute_result"
    }
   ],
   "source": [
    "# удаление дубликатов (с удалением старых индексов и формированием новых)\n",
    "rest_education = rest_education.drop_duplicates().reset_index(drop=True)\n",
    "rest_education"
   ]
  },
  {
   "cell_type": "markdown",
   "metadata": {},
   "source": [
    "Аналогично создадим \"словать\" для столбцов 'family_status_id', 'family_status' и для 'income_type' и удалим дубликаты."
   ]
  },
  {
   "cell_type": "code",
   "execution_count": 26,
   "metadata": {},
   "outputs": [
    {
     "data": {
      "text/html": [
       "<div>\n",
       "<style scoped>\n",
       "    .dataframe tbody tr th:only-of-type {\n",
       "        vertical-align: middle;\n",
       "    }\n",
       "\n",
       "    .dataframe tbody tr th {\n",
       "        vertical-align: top;\n",
       "    }\n",
       "\n",
       "    .dataframe thead th {\n",
       "        text-align: right;\n",
       "    }\n",
       "</style>\n",
       "<table border=\"1\" class=\"dataframe\">\n",
       "  <thead>\n",
       "    <tr style=\"text-align: right;\">\n",
       "      <th></th>\n",
       "      <th>family_status_id</th>\n",
       "      <th>family_status</th>\n",
       "    </tr>\n",
       "  </thead>\n",
       "  <tbody>\n",
       "    <tr>\n",
       "      <th>0</th>\n",
       "      <td>0</td>\n",
       "      <td>женат / замужем</td>\n",
       "    </tr>\n",
       "    <tr>\n",
       "      <th>1</th>\n",
       "      <td>1</td>\n",
       "      <td>гражданский брак</td>\n",
       "    </tr>\n",
       "    <tr>\n",
       "      <th>2</th>\n",
       "      <td>2</td>\n",
       "      <td>вдовец / вдова</td>\n",
       "    </tr>\n",
       "    <tr>\n",
       "      <th>3</th>\n",
       "      <td>3</td>\n",
       "      <td>в разводе</td>\n",
       "    </tr>\n",
       "    <tr>\n",
       "      <th>4</th>\n",
       "      <td>4</td>\n",
       "      <td>Не женат / не замужем</td>\n",
       "    </tr>\n",
       "  </tbody>\n",
       "</table>\n",
       "</div>"
      ],
      "text/plain": [
       "   family_status_id          family_status\n",
       "0                 0        женат / замужем\n",
       "1                 1       гражданский брак\n",
       "2                 2         вдовец / вдова\n",
       "3                 3              в разводе\n",
       "4                 4  Не женат / не замужем"
      ]
     },
     "execution_count": 26,
     "metadata": {},
     "output_type": "execute_result"
    }
   ],
   "source": [
    "# создание отдельного «словаря», где названию категории 'family_status' соответствует номер 'family_status_id'\n",
    "rest_family = df[['family_status_id','family_status']]\n",
    "# удаление дубликатов (с удалением старых индексов и формированием новых)\n",
    "rest_family = rest_family.drop_duplicates().reset_index(drop=True)\n",
    "rest_family"
   ]
  },
  {
   "cell_type": "code",
   "execution_count": 27,
   "metadata": {},
   "outputs": [
    {
     "data": {
      "text/html": [
       "<div>\n",
       "<style scoped>\n",
       "    .dataframe tbody tr th:only-of-type {\n",
       "        vertical-align: middle;\n",
       "    }\n",
       "\n",
       "    .dataframe tbody tr th {\n",
       "        vertical-align: top;\n",
       "    }\n",
       "\n",
       "    .dataframe thead th {\n",
       "        text-align: right;\n",
       "    }\n",
       "</style>\n",
       "<table border=\"1\" class=\"dataframe\">\n",
       "  <thead>\n",
       "    <tr style=\"text-align: right;\">\n",
       "      <th></th>\n",
       "      <th>income_type</th>\n",
       "    </tr>\n",
       "  </thead>\n",
       "  <tbody>\n",
       "    <tr>\n",
       "      <th>0</th>\n",
       "      <td>сотрудник</td>\n",
       "    </tr>\n",
       "    <tr>\n",
       "      <th>1</th>\n",
       "      <td>пенсионер</td>\n",
       "    </tr>\n",
       "    <tr>\n",
       "      <th>2</th>\n",
       "      <td>компаньон</td>\n",
       "    </tr>\n",
       "    <tr>\n",
       "      <th>3</th>\n",
       "      <td>госслужащий</td>\n",
       "    </tr>\n",
       "    <tr>\n",
       "      <th>4</th>\n",
       "      <td>безработный</td>\n",
       "    </tr>\n",
       "    <tr>\n",
       "      <th>5</th>\n",
       "      <td>предприниматель</td>\n",
       "    </tr>\n",
       "    <tr>\n",
       "      <th>6</th>\n",
       "      <td>студент</td>\n",
       "    </tr>\n",
       "    <tr>\n",
       "      <th>7</th>\n",
       "      <td>в декрете</td>\n",
       "    </tr>\n",
       "  </tbody>\n",
       "</table>\n",
       "</div>"
      ],
      "text/plain": [
       "       income_type\n",
       "0        сотрудник\n",
       "1        пенсионер\n",
       "2        компаньон\n",
       "3      госслужащий\n",
       "4      безработный\n",
       "5  предприниматель\n",
       "6          студент\n",
       "7        в декрете"
      ]
     },
     "execution_count": 27,
     "metadata": {},
     "output_type": "execute_result"
    }
   ],
   "source": [
    "# создание отдельного «словаря» категории 'income_type'\n",
    "rest_type = df[['income_type']]\n",
    "# удаление дубликатов (с удалением старых индексов и формированием новых)\n",
    "rest_type = rest_type.drop_duplicates().reset_index(drop=True)\n",
    "rest_type"
   ]
  },
  {
   "cell_type": "markdown",
   "metadata": {},
   "source": [
    "Проанализруем содержимое столбца 'gender'."
   ]
  },
  {
   "cell_type": "code",
   "execution_count": 28,
   "metadata": {},
   "outputs": [
    {
     "data": {
      "text/html": [
       "<div>\n",
       "<style scoped>\n",
       "    .dataframe tbody tr th:only-of-type {\n",
       "        vertical-align: middle;\n",
       "    }\n",
       "\n",
       "    .dataframe tbody tr th {\n",
       "        vertical-align: top;\n",
       "    }\n",
       "\n",
       "    .dataframe thead th {\n",
       "        text-align: right;\n",
       "    }\n",
       "</style>\n",
       "<table border=\"1\" class=\"dataframe\">\n",
       "  <thead>\n",
       "    <tr style=\"text-align: right;\">\n",
       "      <th></th>\n",
       "      <th>gender</th>\n",
       "    </tr>\n",
       "  </thead>\n",
       "  <tbody>\n",
       "    <tr>\n",
       "      <th>0</th>\n",
       "      <td>F</td>\n",
       "    </tr>\n",
       "    <tr>\n",
       "      <th>1</th>\n",
       "      <td>M</td>\n",
       "    </tr>\n",
       "    <tr>\n",
       "      <th>2</th>\n",
       "      <td>XNA</td>\n",
       "    </tr>\n",
       "  </tbody>\n",
       "</table>\n",
       "</div>"
      ],
      "text/plain": [
       "  gender\n",
       "0      F\n",
       "1      M\n",
       "2    XNA"
      ]
     },
     "execution_count": 28,
     "metadata": {},
     "output_type": "execute_result"
    }
   ],
   "source": [
    "# создание отдельного «словаря» категории 'gender'\n",
    "rest_gender = df[['gender']]\n",
    "# удаление дубликатов (с удалением старых индексов и формированием новых)\n",
    "rest_gender = rest_gender.drop_duplicates().reset_index(drop=True)\n",
    "rest_gender"
   ]
  },
  {
   "cell_type": "code",
   "execution_count": 29,
   "metadata": {},
   "outputs": [
    {
     "data": {
      "text/plain": [
       "F      14174\n",
       "M       7279\n",
       "XNA        1\n",
       "Name: gender, dtype: int64"
      ]
     },
     "execution_count": 29,
     "metadata": {},
     "output_type": "execute_result"
    }
   ],
   "source": [
    "# просмотр уникальных значений и их количества столбца 'gender'\n",
    "df['gender'].value_counts()"
   ]
  },
  {
   "cell_type": "markdown",
   "metadata": {},
   "source": [
    "При категоризации столбца 'gender' обнаружена запись третьего вида пола, что, скорее всего, является неправильным соединением данных из разных источников или ошибкой сотрудника при занесении информации. Воспользуемся методом loc для замены категориального значения. Большая часть пользователей банка являются женщины, поэтому с большей вероятностью можем заменить значение 'XNA' на 'F' в столбце 'gender'."
   ]
  },
  {
   "cell_type": "code",
   "execution_count": 30,
   "metadata": {},
   "outputs": [
    {
     "data": {
      "text/plain": [
       "F    14175\n",
       "M     7279\n",
       "Name: gender, dtype: int64"
      ]
     },
     "execution_count": 30,
     "metadata": {},
     "output_type": "execute_result"
    }
   ],
   "source": [
    "# замена строковых значений методом loc с осуществлением логической индексации\n",
    "df.loc[df['gender'] == 'XNA','gender'] = 'F'\n",
    "# просмотр уникальных значений и их количества столбца 'gender'\n",
    "df['gender'].value_counts()"
   ]
  },
  {
   "cell_type": "code",
   "execution_count": 31,
   "metadata": {},
   "outputs": [
    {
     "data": {
      "text/plain": [
       " 0     14091\n",
       " 1      4808\n",
       " 2      2052\n",
       " 3       330\n",
       " 20       76\n",
       "-1        47\n",
       " 4        41\n",
       " 5         9\n",
       "Name: children, dtype: int64"
      ]
     },
     "execution_count": 31,
     "metadata": {},
     "output_type": "execute_result"
    }
   ],
   "source": [
    "# просмотр уникальных значений и их количества столбца 'children'\n",
    "df['children'].value_counts()"
   ]
  },
  {
   "cell_type": "markdown",
   "metadata": {},
   "source": [
    "Значение 20 в столбце 'children' аномально большое, можем предположить, что имеет место ошибка в данных. Вместо 20 детей принимаем 2 ребенка. Также заменим колчество детей -1 на 1."
   ]
  },
  {
   "cell_type": "code",
   "execution_count": 32,
   "metadata": {},
   "outputs": [
    {
     "data": {
      "text/plain": [
       " 0    14091\n",
       " 1     4808\n",
       " 2     2128\n",
       " 3      330\n",
       "-1       47\n",
       " 4       41\n",
       " 5        9\n",
       "Name: children, dtype: int64"
      ]
     },
     "execution_count": 32,
     "metadata": {},
     "output_type": "execute_result"
    }
   ],
   "source": [
    "# замена строковых значений методом loc с осуществлением логической индексации\n",
    "df.loc[df['children'] == 20,'children'] = 2\n",
    "# просмотр уникальных значений и их количества столбца 'gender'\n",
    "df['children'].value_counts()"
   ]
  },
  {
   "cell_type": "code",
   "execution_count": 33,
   "metadata": {},
   "outputs": [
    {
     "data": {
      "text/plain": [
       "0    14091\n",
       "1     4855\n",
       "2     2128\n",
       "3      330\n",
       "4       41\n",
       "5        9\n",
       "Name: children, dtype: int64"
      ]
     },
     "execution_count": 33,
     "metadata": {},
     "output_type": "execute_result"
    }
   ],
   "source": [
    "# замена строковых значений методом loc с осуществлением логической индексации\n",
    "df.loc[df['children'] == -1,'children'] = 1\n",
    "# просмотр уникальных значений и их количества столбца 'gender'\n",
    "df['children'].value_counts()"
   ]
  },
  {
   "cell_type": "markdown",
   "metadata": {},
   "source": [
    "Узнаем разброс значений, среднее значение и медиану, используя метод describe к столбцу 'total_income'.'education'."
   ]
  },
  {
   "cell_type": "code",
   "execution_count": 34,
   "metadata": {},
   "outputs": [
    {
     "data": {
      "text/plain": [
       "count    2.145400e+04\n",
       "mean     1.653196e+05\n",
       "std      9.818730e+04\n",
       "min      2.066700e+04\n",
       "25%      1.076230e+05\n",
       "50%      1.425940e+05\n",
       "75%      1.958202e+05\n",
       "max      2.265604e+06\n",
       "Name: total_income, dtype: float64"
      ]
     },
     "execution_count": 34,
     "metadata": {},
     "output_type": "execute_result"
    }
   ],
   "source": [
    "# использование метода describe к столбцу'total_income'\n",
    "df['total_income'].describe()"
   ]
  },
  {
   "cell_type": "markdown",
   "metadata": {},
   "source": [
    "Создадим функцию для категоризации уровня доходов клинтов банка, где на вход функции попадает ежемесячный доход, а возвращает она категорию клиента."
   ]
  },
  {
   "cell_type": "code",
   "execution_count": 35,
   "metadata": {},
   "outputs": [],
   "source": [
    "# создание функции total_income_group для категоризации уровня доходов клинтов банка\n",
    "def total_income_group(total_income):\n",
    "    if total_income <= 40000:\n",
    "        return 'низкий уровень дохода'\n",
    "    if total_income <= 80000:\n",
    "        return 'средний уровень дохода'\n",
    "    if total_income <= 160000:\n",
    "        return 'высокий уровень дохода'\n",
    "    return 'очень высокий уровень дохода'"
   ]
  },
  {
   "cell_type": "markdown",
   "metadata": {},
   "source": [
    "Создадим отдельный столбец с категориями уровня доходов, и в его ячейках запишем значения, возвращаемые функцией total_income_group."
   ]
  },
  {
   "cell_type": "code",
   "execution_count": 36,
   "metadata": {},
   "outputs": [],
   "source": [
    "# создание отдельного столбца с категориями уровня доходов\n",
    "df['total_income_group'] = df['total_income'].apply(total_income_group)"
   ]
  },
  {
   "cell_type": "code",
   "execution_count": 37,
   "metadata": {},
   "outputs": [
    {
     "data": {
      "text/html": [
       "<div>\n",
       "<style scoped>\n",
       "    .dataframe tbody tr th:only-of-type {\n",
       "        vertical-align: middle;\n",
       "    }\n",
       "\n",
       "    .dataframe tbody tr th {\n",
       "        vertical-align: top;\n",
       "    }\n",
       "\n",
       "    .dataframe thead th {\n",
       "        text-align: right;\n",
       "    }\n",
       "</style>\n",
       "<table border=\"1\" class=\"dataframe\">\n",
       "  <thead>\n",
       "    <tr style=\"text-align: right;\">\n",
       "      <th></th>\n",
       "      <th>children</th>\n",
       "      <th>days_employed</th>\n",
       "      <th>dob_years</th>\n",
       "      <th>education</th>\n",
       "      <th>education_id</th>\n",
       "      <th>family_status</th>\n",
       "      <th>family_status_id</th>\n",
       "      <th>gender</th>\n",
       "      <th>income_type</th>\n",
       "      <th>debt</th>\n",
       "      <th>total_income</th>\n",
       "      <th>purpose</th>\n",
       "      <th>lemmas_purposes</th>\n",
       "      <th>total_income_group</th>\n",
       "    </tr>\n",
       "  </thead>\n",
       "  <tbody>\n",
       "    <tr>\n",
       "      <th>0</th>\n",
       "      <td>1</td>\n",
       "      <td>8437</td>\n",
       "      <td>42</td>\n",
       "      <td>высшее</td>\n",
       "      <td>0</td>\n",
       "      <td>женат / замужем</td>\n",
       "      <td>0</td>\n",
       "      <td>F</td>\n",
       "      <td>сотрудник</td>\n",
       "      <td>0</td>\n",
       "      <td>253875</td>\n",
       "      <td>покупка жилья</td>\n",
       "      <td>цель не определена</td>\n",
       "      <td>очень высокий уровень дохода</td>\n",
       "    </tr>\n",
       "    <tr>\n",
       "      <th>1</th>\n",
       "      <td>1</td>\n",
       "      <td>4024</td>\n",
       "      <td>36</td>\n",
       "      <td>среднее</td>\n",
       "      <td>1</td>\n",
       "      <td>женат / замужем</td>\n",
       "      <td>0</td>\n",
       "      <td>F</td>\n",
       "      <td>сотрудник</td>\n",
       "      <td>0</td>\n",
       "      <td>112080</td>\n",
       "      <td>приобретение автомобиля</td>\n",
       "      <td>автомобиль</td>\n",
       "      <td>высокий уровень дохода</td>\n",
       "    </tr>\n",
       "    <tr>\n",
       "      <th>2</th>\n",
       "      <td>0</td>\n",
       "      <td>5623</td>\n",
       "      <td>33</td>\n",
       "      <td>среднее</td>\n",
       "      <td>1</td>\n",
       "      <td>женат / замужем</td>\n",
       "      <td>0</td>\n",
       "      <td>M</td>\n",
       "      <td>сотрудник</td>\n",
       "      <td>0</td>\n",
       "      <td>145885</td>\n",
       "      <td>покупка жилья</td>\n",
       "      <td>цель не определена</td>\n",
       "      <td>высокий уровень дохода</td>\n",
       "    </tr>\n",
       "    <tr>\n",
       "      <th>3</th>\n",
       "      <td>3</td>\n",
       "      <td>4124</td>\n",
       "      <td>32</td>\n",
       "      <td>среднее</td>\n",
       "      <td>1</td>\n",
       "      <td>женат / замужем</td>\n",
       "      <td>0</td>\n",
       "      <td>M</td>\n",
       "      <td>сотрудник</td>\n",
       "      <td>0</td>\n",
       "      <td>267628</td>\n",
       "      <td>дополнительное образование</td>\n",
       "      <td>образование</td>\n",
       "      <td>очень высокий уровень дохода</td>\n",
       "    </tr>\n",
       "    <tr>\n",
       "      <th>4</th>\n",
       "      <td>0</td>\n",
       "      <td>14177</td>\n",
       "      <td>53</td>\n",
       "      <td>среднее</td>\n",
       "      <td>1</td>\n",
       "      <td>гражданский брак</td>\n",
       "      <td>1</td>\n",
       "      <td>F</td>\n",
       "      <td>пенсионер</td>\n",
       "      <td>0</td>\n",
       "      <td>158616</td>\n",
       "      <td>сыграть свадьбу</td>\n",
       "      <td>свадьба</td>\n",
       "      <td>высокий уровень дохода</td>\n",
       "    </tr>\n",
       "  </tbody>\n",
       "</table>\n",
       "</div>"
      ],
      "text/plain": [
       "   children  days_employed  dob_years education  education_id  \\\n",
       "0         1           8437         42    высшее             0   \n",
       "1         1           4024         36   среднее             1   \n",
       "2         0           5623         33   среднее             1   \n",
       "3         3           4124         32   среднее             1   \n",
       "4         0          14177         53   среднее             1   \n",
       "\n",
       "      family_status  family_status_id gender income_type  debt  total_income  \\\n",
       "0   женат / замужем                 0      F   сотрудник     0        253875   \n",
       "1   женат / замужем                 0      F   сотрудник     0        112080   \n",
       "2   женат / замужем                 0      M   сотрудник     0        145885   \n",
       "3   женат / замужем                 0      M   сотрудник     0        267628   \n",
       "4  гражданский брак                 1      F   пенсионер     0        158616   \n",
       "\n",
       "                      purpose     lemmas_purposes  \\\n",
       "0               покупка жилья  цель не определена   \n",
       "1     приобретение автомобиля          автомобиль   \n",
       "2               покупка жилья  цель не определена   \n",
       "3  дополнительное образование         образование   \n",
       "4             сыграть свадьбу             свадьба   \n",
       "\n",
       "             total_income_group  \n",
       "0  очень высокий уровень дохода  \n",
       "1        высокий уровень дохода  \n",
       "2        высокий уровень дохода  \n",
       "3  очень высокий уровень дохода  \n",
       "4        высокий уровень дохода  "
      ]
     },
     "execution_count": 37,
     "metadata": {},
     "output_type": "execute_result"
    }
   ],
   "source": [
    "# проверка результатов\n",
    "df.head(5)"
   ]
  },
  {
   "cell_type": "markdown",
   "metadata": {},
   "source": [
    "**Вывод**"
   ]
  },
  {
   "cell_type": "markdown",
   "metadata": {},
   "source": [
    "Проведена категоризация данных и выялены все категориальные переменные. Также при категоризации были выялены ошибки и учтены в окончательных результатх."
   ]
  },
  {
   "cell_type": "markdown",
   "metadata": {},
   "source": [
    "## Анализ факторов, влияющих на возврата кредита в срок"
   ]
  },
  {
   "cell_type": "markdown",
   "metadata": {},
   "source": [
    "### Анализ корреляции наличия детей и возврата кредита в срок"
   ]
  },
  {
   "cell_type": "markdown",
   "metadata": {},
   "source": [
    "Сделаем сводную таблицу методом pivot_table()."
   ]
  },
  {
   "cell_type": "code",
   "execution_count": 38,
   "metadata": {},
   "outputs": [
    {
     "data": {
      "text/html": [
       "<div>\n",
       "<style scoped>\n",
       "    .dataframe tbody tr th:only-of-type {\n",
       "        vertical-align: middle;\n",
       "    }\n",
       "\n",
       "    .dataframe tbody tr th {\n",
       "        vertical-align: top;\n",
       "    }\n",
       "\n",
       "    .dataframe thead th {\n",
       "        text-align: right;\n",
       "    }\n",
       "</style>\n",
       "<table border=\"1\" class=\"dataframe\">\n",
       "  <thead>\n",
       "    <tr style=\"text-align: right;\">\n",
       "      <th></th>\n",
       "      <th>has_debt</th>\n",
       "      <th>total</th>\n",
       "      <th>%</th>\n",
       "    </tr>\n",
       "    <tr>\n",
       "      <th>children</th>\n",
       "      <th></th>\n",
       "      <th></th>\n",
       "      <th></th>\n",
       "    </tr>\n",
       "  </thead>\n",
       "  <tbody>\n",
       "    <tr>\n",
       "      <th>4</th>\n",
       "      <td>4</td>\n",
       "      <td>41</td>\n",
       "      <td>9.76</td>\n",
       "    </tr>\n",
       "    <tr>\n",
       "      <th>2</th>\n",
       "      <td>202</td>\n",
       "      <td>2128</td>\n",
       "      <td>9.49</td>\n",
       "    </tr>\n",
       "    <tr>\n",
       "      <th>1</th>\n",
       "      <td>445</td>\n",
       "      <td>4855</td>\n",
       "      <td>9.17</td>\n",
       "    </tr>\n",
       "    <tr>\n",
       "      <th>3</th>\n",
       "      <td>27</td>\n",
       "      <td>330</td>\n",
       "      <td>8.18</td>\n",
       "    </tr>\n",
       "    <tr>\n",
       "      <th>0</th>\n",
       "      <td>1063</td>\n",
       "      <td>14091</td>\n",
       "      <td>7.54</td>\n",
       "    </tr>\n",
       "    <tr>\n",
       "      <th>5</th>\n",
       "      <td>0</td>\n",
       "      <td>9</td>\n",
       "      <td>0.00</td>\n",
       "    </tr>\n",
       "  </tbody>\n",
       "</table>\n",
       "</div>"
      ],
      "text/plain": [
       "          has_debt  total     %\n",
       "children                       \n",
       "4                4     41  9.76\n",
       "2              202   2128  9.49\n",
       "1              445   4855  9.17\n",
       "3               27    330  8.18\n",
       "0             1063  14091  7.54\n",
       "5                0      9  0.00"
      ]
     },
     "metadata": {},
     "output_type": "display_data"
    }
   ],
   "source": [
    "# делаем сводную таблицу. Столбец, по которому группируем данные - children. Значения для сводной таблицы по колонке \n",
    "# debt\n",
    "# применяем функции sum, count, mean к значениям.\n",
    "pivot_children = df.pivot_table(index = ['children'], values = 'debt', aggfunc = ['sum', 'count', 'mean'])\n",
    "# отражаем процент\n",
    "pivot_children['mean'] = pivot_children['mean'] * 100\n",
    "# именуем столбцы\n",
    "pivot_children.columns = ['has_debt', 'total', '%']\n",
    "# сортируем таблицу по убыванию\n",
    "pivot_children = pivot_children.sort_values(by = '%', ascending = False)\n",
    "# округляем проценты в столбце '%' таблицы pivot_children до двух знаков после запятой\n",
    "pivot_children['%'] = pivot_children['%'].round(2)\n",
    "# выводим\n",
    "display(pivot_children)\n"
   ]
  },
  {
   "cell_type": "markdown",
   "metadata": {},
   "source": [
    "**Вывод**"
   ]
  },
  {
   "cell_type": "markdown",
   "metadata": {},
   "source": [
    "По представленным результатам можно сделать вывод, что на задолжность по возврату влияет скорее наличие детей, чем их количество. При этом колличество семей с пятью детьми существенно меньше и принимать их к оценке некорректно. В остальных случаях  доля клиентов (семьи с детьми), имеющих задолжность по возврату, приблизительно равна."
   ]
  },
  {
   "cell_type": "markdown",
   "metadata": {},
   "source": [
    "### Анализ корреляции семейного положения и возврата кредита в срок"
   ]
  },
  {
   "cell_type": "code",
   "execution_count": 39,
   "metadata": {},
   "outputs": [
    {
     "data": {
      "text/html": [
       "<div>\n",
       "<style scoped>\n",
       "    .dataframe tbody tr th:only-of-type {\n",
       "        vertical-align: middle;\n",
       "    }\n",
       "\n",
       "    .dataframe tbody tr th {\n",
       "        vertical-align: top;\n",
       "    }\n",
       "\n",
       "    .dataframe thead th {\n",
       "        text-align: right;\n",
       "    }\n",
       "</style>\n",
       "<table border=\"1\" class=\"dataframe\">\n",
       "  <thead>\n",
       "    <tr style=\"text-align: right;\">\n",
       "      <th></th>\n",
       "      <th>has_debt</th>\n",
       "      <th>total</th>\n",
       "      <th>%</th>\n",
       "    </tr>\n",
       "    <tr>\n",
       "      <th>family_status</th>\n",
       "      <th></th>\n",
       "      <th></th>\n",
       "      <th></th>\n",
       "    </tr>\n",
       "  </thead>\n",
       "  <tbody>\n",
       "    <tr>\n",
       "      <th>Не женат / не замужем</th>\n",
       "      <td>274</td>\n",
       "      <td>2810</td>\n",
       "      <td>9.75</td>\n",
       "    </tr>\n",
       "    <tr>\n",
       "      <th>гражданский брак</th>\n",
       "      <td>388</td>\n",
       "      <td>4151</td>\n",
       "      <td>9.35</td>\n",
       "    </tr>\n",
       "    <tr>\n",
       "      <th>женат / замужем</th>\n",
       "      <td>931</td>\n",
       "      <td>12339</td>\n",
       "      <td>7.55</td>\n",
       "    </tr>\n",
       "    <tr>\n",
       "      <th>в разводе</th>\n",
       "      <td>85</td>\n",
       "      <td>1195</td>\n",
       "      <td>7.11</td>\n",
       "    </tr>\n",
       "    <tr>\n",
       "      <th>вдовец / вдова</th>\n",
       "      <td>63</td>\n",
       "      <td>959</td>\n",
       "      <td>6.57</td>\n",
       "    </tr>\n",
       "  </tbody>\n",
       "</table>\n",
       "</div>"
      ],
      "text/plain": [
       "                       has_debt  total     %\n",
       "family_status                               \n",
       "Не женат / не замужем       274   2810  9.75\n",
       "гражданский брак            388   4151  9.35\n",
       "женат / замужем             931  12339  7.55\n",
       "в разводе                    85   1195  7.11\n",
       "вдовец / вдова               63    959  6.57"
      ]
     },
     "metadata": {},
     "output_type": "display_data"
    }
   ],
   "source": [
    "# делаем сводную таблицу. Столбец, по которому группируем данные - family_status. Значения для сводной таблицы по колонке \n",
    "# debt\n",
    "# применяем функции sum, count, mean к значениям.\n",
    "pivot_family_status = df.pivot_table(index = ['family_status'], values = 'debt', aggfunc = ['sum', 'count', 'mean'])\n",
    "# отражаем процент\n",
    "pivot_family_status['mean'] = pivot_family_status['mean'] * 100\n",
    "# именуем столбцы\n",
    "pivot_family_status.columns = ['has_debt', 'total', '%']\n",
    "# сортируем таблицу по убыванию\n",
    "pivot_family_status = pivot_family_status.sort_values(by = '%', ascending = False)\n",
    "# округляем проценты в столбце '%' таблицы pivot_family_status до двух знаков после запятой\n",
    "pivot_family_status['%'] = pivot_family_status['%'].round(2)\n",
    "# выводим\n",
    "display(pivot_family_status)"
   ]
  },
  {
   "cell_type": "markdown",
   "metadata": {},
   "source": [
    "**Вывод**"
   ]
  },
  {
   "cell_type": "markdown",
   "metadata": {},
   "source": [
    "Самый большой процент должников банка составляют клиенты, не состоящие в официальном браке и состоящие в гражданском браке. Самый маленький процент имеет категория клиентов \"вдовец / вдова\". "
   ]
  },
  {
   "cell_type": "markdown",
   "metadata": {},
   "source": [
    "### Анализ корреляции уровня дохода и возврата кредита в срок"
   ]
  },
  {
   "cell_type": "code",
   "execution_count": 40,
   "metadata": {},
   "outputs": [
    {
     "data": {
      "text/html": [
       "<div>\n",
       "<style scoped>\n",
       "    .dataframe tbody tr th:only-of-type {\n",
       "        vertical-align: middle;\n",
       "    }\n",
       "\n",
       "    .dataframe tbody tr th {\n",
       "        vertical-align: top;\n",
       "    }\n",
       "\n",
       "    .dataframe thead th {\n",
       "        text-align: right;\n",
       "    }\n",
       "</style>\n",
       "<table border=\"1\" class=\"dataframe\">\n",
       "  <thead>\n",
       "    <tr style=\"text-align: right;\">\n",
       "      <th></th>\n",
       "      <th>has_debt</th>\n",
       "      <th>total</th>\n",
       "      <th>%</th>\n",
       "    </tr>\n",
       "    <tr>\n",
       "      <th>total_income_group</th>\n",
       "      <th></th>\n",
       "      <th></th>\n",
       "      <th></th>\n",
       "    </tr>\n",
       "  </thead>\n",
       "  <tbody>\n",
       "    <tr>\n",
       "      <th>высокий уровень дохода</th>\n",
       "      <td>899</td>\n",
       "      <td>10458</td>\n",
       "      <td>8.60</td>\n",
       "    </tr>\n",
       "    <tr>\n",
       "      <th>низкий уровень дохода</th>\n",
       "      <td>10</td>\n",
       "      <td>125</td>\n",
       "      <td>8.00</td>\n",
       "    </tr>\n",
       "    <tr>\n",
       "      <th>очень высокий уровень дохода</th>\n",
       "      <td>668</td>\n",
       "      <td>8720</td>\n",
       "      <td>7.66</td>\n",
       "    </tr>\n",
       "    <tr>\n",
       "      <th>средний уровень дохода</th>\n",
       "      <td>164</td>\n",
       "      <td>2151</td>\n",
       "      <td>7.62</td>\n",
       "    </tr>\n",
       "  </tbody>\n",
       "</table>\n",
       "</div>"
      ],
      "text/plain": [
       "                              has_debt  total     %\n",
       "total_income_group                                 \n",
       "высокий уровень дохода             899  10458  8.60\n",
       "низкий уровень дохода               10    125  8.00\n",
       "очень высокий уровень дохода       668   8720  7.66\n",
       "средний уровень дохода             164   2151  7.62"
      ]
     },
     "metadata": {},
     "output_type": "display_data"
    }
   ],
   "source": [
    "# делаем сводную таблицу. Столбец, по которому группируем данные - total_income_group. Значения для сводной таблицы по колонке \n",
    "# debt\n",
    "# применяем функции sum, count, mean к значениям.\n",
    "pivot_total_income_group = df.pivot_table(index = ['total_income_group'], values = 'debt', aggfunc = ['sum', 'count', 'mean'])\n",
    "# отражаем процент\n",
    "pivot_total_income_group['mean'] = pivot_total_income_group['mean'] * 100\n",
    "# именуем столбцы\n",
    "pivot_total_income_group.columns = ['has_debt', 'total', '%']\n",
    "# сортируем таблицу по убыванию\n",
    "pivot_total_income_group = pivot_total_income_group.sort_values(by = '%', ascending = False)\n",
    "# округляем проценты в столбце '%' таблицы pivot_total_income_group до двух знаков после запятой\n",
    "pivot_total_income_group['%'] = pivot_total_income_group['%'].round(2)\n",
    "# выводим\n",
    "display(pivot_total_income_group)"
   ]
  },
  {
   "cell_type": "markdown",
   "metadata": {},
   "source": [
    "**Вывод**"
   ]
  },
  {
   "cell_type": "markdown",
   "metadata": {},
   "source": [
    "Качественно уровень дохода не влияет на возврат кредита в срок."
   ]
  },
  {
   "cell_type": "markdown",
   "metadata": {},
   "source": [
    "### Анализ влияния целей кредита на его возврат в срок"
   ]
  },
  {
   "cell_type": "code",
   "execution_count": 41,
   "metadata": {},
   "outputs": [
    {
     "data": {
      "text/html": [
       "<div>\n",
       "<style scoped>\n",
       "    .dataframe tbody tr th:only-of-type {\n",
       "        vertical-align: middle;\n",
       "    }\n",
       "\n",
       "    .dataframe tbody tr th {\n",
       "        vertical-align: top;\n",
       "    }\n",
       "\n",
       "    .dataframe thead th {\n",
       "        text-align: right;\n",
       "    }\n",
       "</style>\n",
       "<table border=\"1\" class=\"dataframe\">\n",
       "  <thead>\n",
       "    <tr style=\"text-align: right;\">\n",
       "      <th></th>\n",
       "      <th>has_debt</th>\n",
       "      <th>total</th>\n",
       "      <th>%</th>\n",
       "    </tr>\n",
       "    <tr>\n",
       "      <th>lemmas_purposes</th>\n",
       "      <th></th>\n",
       "      <th></th>\n",
       "      <th></th>\n",
       "    </tr>\n",
       "  </thead>\n",
       "  <tbody>\n",
       "    <tr>\n",
       "      <th>автомобиль</th>\n",
       "      <td>403</td>\n",
       "      <td>4306</td>\n",
       "      <td>9.36</td>\n",
       "    </tr>\n",
       "    <tr>\n",
       "      <th>образование</th>\n",
       "      <td>370</td>\n",
       "      <td>4013</td>\n",
       "      <td>9.22</td>\n",
       "    </tr>\n",
       "    <tr>\n",
       "      <th>свадьба</th>\n",
       "      <td>186</td>\n",
       "      <td>2324</td>\n",
       "      <td>8.00</td>\n",
       "    </tr>\n",
       "    <tr>\n",
       "      <th>недвижимость</th>\n",
       "      <td>568</td>\n",
       "      <td>7649</td>\n",
       "      <td>7.43</td>\n",
       "    </tr>\n",
       "    <tr>\n",
       "      <th>цель не определена</th>\n",
       "      <td>214</td>\n",
       "      <td>3162</td>\n",
       "      <td>6.77</td>\n",
       "    </tr>\n",
       "  </tbody>\n",
       "</table>\n",
       "</div>"
      ],
      "text/plain": [
       "                    has_debt  total     %\n",
       "lemmas_purposes                          \n",
       "автомобиль               403   4306  9.36\n",
       "образование              370   4013  9.22\n",
       "свадьба                  186   2324  8.00\n",
       "недвижимость             568   7649  7.43\n",
       "цель не определена       214   3162  6.77"
      ]
     },
     "metadata": {},
     "output_type": "display_data"
    }
   ],
   "source": [
    "# делаем сводную таблицу. Столбец, по которому группируем данные - lemmas_purposes. Значения для сводной таблицы по колонке \n",
    "# debt\n",
    "# применяем функции sum, count, mean к значениям.\n",
    "pivot_purposes = df.pivot_table(index = ['lemmas_purposes'], values = 'debt', aggfunc = ['sum', 'count', 'mean'])\n",
    "# отражаем процент\n",
    "pivot_purposes['mean'] = pivot_purposes['mean'] * 100\n",
    "# именуем столбцы\n",
    "pivot_purposes.columns = ['has_debt', 'total', '%']\n",
    "# сортируем таблицу по убыванию\n",
    "pivot_purposes = pivot_purposes.sort_values(by = '%', ascending = False)\n",
    "# округляем проценты в столбце '%' таблицы pivot_purposes до двух знаков после запятой\n",
    "pivot_purposes['%'] = pivot_purposes['%'].round(2)\n",
    "# выводим\n",
    "display(pivot_purposes)\n"
   ]
  },
  {
   "cell_type": "markdown",
   "metadata": {},
   "source": [
    "**Вывод**"
   ]
  },
  {
   "cell_type": "markdown",
   "metadata": {},
   "source": [
    "Самый низкий процент не возврата кредита в срок характерен для клиентов с целью покупки недвижимости и организации свадебных мероприятий. Процент должников по кредиту с целью покупки автомобиля и получения образования выше, такие займы более рисованы для банка. "
   ]
  },
  {
   "cell_type": "markdown",
   "metadata": {},
   "source": [
    "## Общий вывод"
   ]
  },
  {
   "cell_type": "markdown",
   "metadata": {},
   "source": [
    "На процент возврата кредита влияют такие параметры как наличие детей, семейное положение, цель получения кредита. На процент возврата кредита не влияет уровень дохода.\n",
    "Самые надежные клиенты без детей, не женатые, с целью кредита - покупка недвижимости. Самые ненадежные клиенты, имеющие детей, не состоящие в официальном браке, с целью получения кредита - покупка автомобиля.  "
   ]
  }
 ],
 "metadata": {
  "ExecuteTimeLog": [
   {
    "duration": 896,
    "start_time": "2021-12-06T12:03:07.203Z"
   },
   {
    "duration": 102,
    "start_time": "2021-12-06T12:03:24.771Z"
   },
   {
    "duration": 79,
    "start_time": "2021-12-06T12:03:37.443Z"
   },
   {
    "duration": 15,
    "start_time": "2021-12-06T12:04:56.943Z"
   },
   {
    "duration": 15,
    "start_time": "2021-12-06T12:11:21.486Z"
   },
   {
    "duration": 373,
    "start_time": "2021-12-06T13:02:35.571Z"
   },
   {
    "duration": 12,
    "start_time": "2021-12-06T13:02:50.635Z"
   },
   {
    "duration": 13,
    "start_time": "2021-12-06T13:03:14.853Z"
   },
   {
    "duration": 12,
    "start_time": "2021-12-06T13:03:27.801Z"
   },
   {
    "duration": 8,
    "start_time": "2021-12-06T13:04:08.547Z"
   },
   {
    "duration": 6,
    "start_time": "2021-12-06T13:04:14.109Z"
   },
   {
    "duration": 8,
    "start_time": "2021-12-06T13:04:53.317Z"
   },
   {
    "duration": 6,
    "start_time": "2021-12-06T13:04:56.944Z"
   },
   {
    "duration": 6,
    "start_time": "2021-12-06T13:05:04.037Z"
   },
   {
    "duration": 19,
    "start_time": "2021-12-06T13:06:14.936Z"
   },
   {
    "duration": 21,
    "start_time": "2021-12-06T13:06:24.894Z"
   },
   {
    "duration": 24,
    "start_time": "2021-12-06T13:06:54.410Z"
   },
   {
    "duration": 22,
    "start_time": "2021-12-06T13:07:04.372Z"
   },
   {
    "duration": 8,
    "start_time": "2021-12-06T13:08:18.117Z"
   },
   {
    "duration": 8,
    "start_time": "2021-12-06T13:08:37.535Z"
   },
   {
    "duration": 8,
    "start_time": "2021-12-06T13:08:52.704Z"
   },
   {
    "duration": 484,
    "start_time": "2021-12-06T18:34:45.114Z"
   },
   {
    "duration": 385,
    "start_time": "2021-12-06T18:35:51.503Z"
   },
   {
    "duration": 915,
    "start_time": "2021-12-06T18:36:07.550Z"
   },
   {
    "duration": 14,
    "start_time": "2021-12-06T18:36:08.468Z"
   },
   {
    "duration": 6,
    "start_time": "2021-12-06T18:36:09.371Z"
   },
   {
    "duration": 7,
    "start_time": "2021-12-06T18:36:09.598Z"
   },
   {
    "duration": 8,
    "start_time": "2021-12-06T18:36:09.909Z"
   },
   {
    "duration": 8,
    "start_time": "2021-12-06T18:36:10.160Z"
   },
   {
    "duration": 21,
    "start_time": "2021-12-06T18:36:10.467Z"
   },
   {
    "duration": 22,
    "start_time": "2021-12-06T18:36:10.844Z"
   },
   {
    "duration": 11,
    "start_time": "2021-12-06T18:36:11.426Z"
   },
   {
    "duration": 22,
    "start_time": "2021-12-06T18:44:04.523Z"
   },
   {
    "duration": 840,
    "start_time": "2021-12-07T09:31:25.097Z"
   },
   {
    "duration": 17,
    "start_time": "2021-12-07T09:31:32.612Z"
   },
   {
    "duration": 7,
    "start_time": "2021-12-07T09:31:36.394Z"
   },
   {
    "duration": 6,
    "start_time": "2021-12-07T09:31:36.849Z"
   },
   {
    "duration": 9,
    "start_time": "2021-12-07T09:31:38.151Z"
   },
   {
    "duration": 7,
    "start_time": "2021-12-07T09:31:38.464Z"
   },
   {
    "duration": 24,
    "start_time": "2021-12-07T09:31:40.125Z"
   },
   {
    "duration": 25,
    "start_time": "2021-12-07T09:31:40.936Z"
   },
   {
    "duration": 11,
    "start_time": "2021-12-07T09:31:43.000Z"
   },
   {
    "duration": 21,
    "start_time": "2021-12-07T09:36:08.242Z"
   },
   {
    "duration": 42,
    "start_time": "2021-12-07T09:47:09.790Z"
   },
   {
    "duration": 10,
    "start_time": "2021-12-07T09:47:34.806Z"
   },
   {
    "duration": 26,
    "start_time": "2021-12-07T09:49:16.944Z"
   },
   {
    "duration": 12,
    "start_time": "2021-12-07T09:49:39.090Z"
   },
   {
    "duration": 29,
    "start_time": "2021-12-07T09:49:59.124Z"
   },
   {
    "duration": 9,
    "start_time": "2021-12-07T09:50:36.993Z"
   },
   {
    "duration": 395,
    "start_time": "2021-12-07T09:50:47.704Z"
   },
   {
    "duration": 10,
    "start_time": "2021-12-07T09:50:53.356Z"
   },
   {
    "duration": 38,
    "start_time": "2021-12-07T10:06:39.661Z"
   },
   {
    "duration": 34,
    "start_time": "2021-12-07T10:08:15.990Z"
   },
   {
    "duration": 14,
    "start_time": "2021-12-07T10:08:43.669Z"
   },
   {
    "duration": 37,
    "start_time": "2021-12-07T10:08:50.329Z"
   },
   {
    "duration": 35,
    "start_time": "2021-12-07T10:13:46.485Z"
   },
   {
    "duration": 345,
    "start_time": "2021-12-07T10:16:43.495Z"
   },
   {
    "duration": 41,
    "start_time": "2021-12-07T10:16:59.479Z"
   },
   {
    "duration": 34,
    "start_time": "2021-12-07T10:17:03.785Z"
   },
   {
    "duration": 415,
    "start_time": "2021-12-07T10:20:23.709Z"
   },
   {
    "duration": 46,
    "start_time": "2021-12-07T10:21:03.242Z"
   },
   {
    "duration": 77,
    "start_time": "2021-12-07T10:23:22.523Z"
   },
   {
    "duration": 16,
    "start_time": "2021-12-07T10:23:23.446Z"
   },
   {
    "duration": 46,
    "start_time": "2021-12-07T10:23:24.362Z"
   },
   {
    "duration": 7,
    "start_time": "2021-12-07T10:23:26.886Z"
   },
   {
    "duration": 7,
    "start_time": "2021-12-07T10:23:27.500Z"
   },
   {
    "duration": 8,
    "start_time": "2021-12-07T10:23:28.141Z"
   },
   {
    "duration": 7,
    "start_time": "2021-12-07T10:23:28.538Z"
   },
   {
    "duration": 22,
    "start_time": "2021-12-07T10:23:30.940Z"
   },
   {
    "duration": 22,
    "start_time": "2021-12-07T10:23:31.712Z"
   },
   {
    "duration": 13,
    "start_time": "2021-12-07T10:23:33.590Z"
   },
   {
    "duration": 32,
    "start_time": "2021-12-07T10:23:36.343Z"
   },
   {
    "duration": 37,
    "start_time": "2021-12-07T10:23:37.728Z"
   },
   {
    "duration": 35,
    "start_time": "2021-12-07T10:23:41.679Z"
   },
   {
    "duration": 35,
    "start_time": "2021-12-07T10:23:42.992Z"
   },
   {
    "duration": 10,
    "start_time": "2021-12-07T10:23:43.987Z"
   },
   {
    "duration": 10,
    "start_time": "2021-12-07T10:33:50.720Z"
   },
   {
    "duration": 31,
    "start_time": "2021-12-07T10:37:56.417Z"
   },
   {
    "duration": 8,
    "start_time": "2021-12-07T10:38:07.074Z"
   },
   {
    "duration": 22,
    "start_time": "2021-12-07T10:38:16.821Z"
   },
   {
    "duration": 22,
    "start_time": "2021-12-07T10:41:25.322Z"
   },
   {
    "duration": 20,
    "start_time": "2021-12-07T10:41:58.853Z"
   },
   {
    "duration": 22,
    "start_time": "2021-12-07T10:43:48.463Z"
   },
   {
    "duration": 23,
    "start_time": "2021-12-07T10:45:35.677Z"
   },
   {
    "duration": 19,
    "start_time": "2021-12-07T10:46:39.596Z"
   },
   {
    "duration": 18,
    "start_time": "2021-12-07T10:47:42.975Z"
   },
   {
    "duration": 18,
    "start_time": "2021-12-07T10:49:15.107Z"
   },
   {
    "duration": 18,
    "start_time": "2021-12-07T10:49:22.798Z"
   },
   {
    "duration": 5,
    "start_time": "2021-12-07T10:52:56.344Z"
   },
   {
    "duration": 5,
    "start_time": "2021-12-07T10:53:00.755Z"
   },
   {
    "duration": 6,
    "start_time": "2021-12-07T10:53:03.244Z"
   },
   {
    "duration": 22,
    "start_time": "2021-12-07T10:54:45.014Z"
   },
   {
    "duration": 6,
    "start_time": "2021-12-07T10:55:39.984Z"
   },
   {
    "duration": 21,
    "start_time": "2021-12-07T10:56:31.460Z"
   },
   {
    "duration": 7,
    "start_time": "2021-12-07T10:56:53.254Z"
   },
   {
    "duration": 6,
    "start_time": "2021-12-07T11:06:25.071Z"
   },
   {
    "duration": 6,
    "start_time": "2021-12-07T11:06:40.409Z"
   },
   {
    "duration": 7,
    "start_time": "2021-12-07T11:06:51.244Z"
   },
   {
    "duration": 7,
    "start_time": "2021-12-07T11:10:11.582Z"
   },
   {
    "duration": 6,
    "start_time": "2021-12-07T11:10:23.711Z"
   },
   {
    "duration": 6,
    "start_time": "2021-12-07T11:10:28.651Z"
   },
   {
    "duration": 7,
    "start_time": "2021-12-07T11:12:07.324Z"
   },
   {
    "duration": 7,
    "start_time": "2021-12-07T11:12:38.956Z"
   },
   {
    "duration": 6,
    "start_time": "2021-12-07T11:12:56.381Z"
   },
   {
    "duration": 32,
    "start_time": "2021-12-07T11:13:03.017Z"
   },
   {
    "duration": 32,
    "start_time": "2021-12-07T11:13:07.265Z"
   },
   {
    "duration": 6,
    "start_time": "2021-12-07T11:27:10.161Z"
   },
   {
    "duration": 5,
    "start_time": "2021-12-07T11:27:19.729Z"
   },
   {
    "duration": 8,
    "start_time": "2021-12-07T11:32:48.918Z"
   },
   {
    "duration": 6,
    "start_time": "2021-12-07T11:32:51.228Z"
   },
   {
    "duration": 412,
    "start_time": "2021-12-07T15:39:39.069Z"
   },
   {
    "duration": 76,
    "start_time": "2021-12-07T15:42:58.000Z"
   },
   {
    "duration": 13,
    "start_time": "2021-12-07T15:42:58.079Z"
   },
   {
    "duration": 63,
    "start_time": "2021-12-07T15:42:58.095Z"
   },
   {
    "duration": 6,
    "start_time": "2021-12-07T15:42:58.161Z"
   },
   {
    "duration": 8,
    "start_time": "2021-12-07T15:42:58.169Z"
   },
   {
    "duration": 8,
    "start_time": "2021-12-07T15:42:58.179Z"
   },
   {
    "duration": 41,
    "start_time": "2021-12-07T15:42:58.189Z"
   },
   {
    "duration": 22,
    "start_time": "2021-12-07T15:42:58.233Z"
   },
   {
    "duration": 24,
    "start_time": "2021-12-07T15:42:58.257Z"
   },
   {
    "duration": 13,
    "start_time": "2021-12-07T15:42:58.324Z"
   },
   {
    "duration": 44,
    "start_time": "2021-12-07T15:42:58.340Z"
   },
   {
    "duration": 66,
    "start_time": "2021-12-07T15:42:58.387Z"
   },
   {
    "duration": 33,
    "start_time": "2021-12-07T15:42:58.456Z"
   },
   {
    "duration": 61,
    "start_time": "2021-12-07T15:42:58.491Z"
   },
   {
    "duration": 11,
    "start_time": "2021-12-07T15:42:58.555Z"
   },
   {
    "duration": 300,
    "start_time": "2021-12-07T15:43:01.145Z"
   },
   {
    "duration": 44,
    "start_time": "2021-12-07T16:27:48.253Z"
   },
   {
    "duration": 5,
    "start_time": "2021-12-07T16:27:48.385Z"
   },
   {
    "duration": 9,
    "start_time": "2021-12-07T16:27:48.483Z"
   },
   {
    "duration": 8,
    "start_time": "2021-12-07T16:27:48.577Z"
   },
   {
    "duration": 8,
    "start_time": "2021-12-07T16:27:48.751Z"
   },
   {
    "duration": 38,
    "start_time": "2021-12-07T16:27:48.843Z"
   },
   {
    "duration": 33,
    "start_time": "2021-12-07T16:27:49.002Z"
   },
   {
    "duration": 10,
    "start_time": "2021-12-07T16:27:49.088Z"
   },
   {
    "duration": 48,
    "start_time": "2021-12-07T16:27:49.188Z"
   },
   {
    "duration": 41,
    "start_time": "2021-12-07T16:27:49.327Z"
   },
   {
    "duration": 37,
    "start_time": "2021-12-07T16:27:49.467Z"
   },
   {
    "duration": 50,
    "start_time": "2021-12-07T16:27:49.506Z"
   },
   {
    "duration": 9,
    "start_time": "2021-12-07T16:27:49.558Z"
   },
   {
    "duration": 89,
    "start_time": "2021-12-07T16:27:49.686Z"
   },
   {
    "duration": 14,
    "start_time": "2021-12-07T16:27:49.777Z"
   },
   {
    "duration": 75,
    "start_time": "2021-12-07T16:33:16.905Z"
   },
   {
    "duration": 79,
    "start_time": "2021-12-07T16:33:29.877Z"
   },
   {
    "duration": 17,
    "start_time": "2021-12-07T16:33:29.959Z"
   },
   {
    "duration": 72,
    "start_time": "2021-12-07T16:33:29.979Z"
   },
   {
    "duration": 5,
    "start_time": "2021-12-07T16:33:30.054Z"
   },
   {
    "duration": 20,
    "start_time": "2021-12-07T16:33:30.062Z"
   },
   {
    "duration": 10,
    "start_time": "2021-12-07T16:33:30.085Z"
   },
   {
    "duration": 43,
    "start_time": "2021-12-07T16:33:30.098Z"
   },
   {
    "duration": 27,
    "start_time": "2021-12-07T16:33:30.144Z"
   },
   {
    "duration": 21,
    "start_time": "2021-12-07T16:33:30.174Z"
   },
   {
    "duration": 31,
    "start_time": "2021-12-07T16:33:30.197Z"
   },
   {
    "duration": 53,
    "start_time": "2021-12-07T16:33:30.231Z"
   },
   {
    "duration": 62,
    "start_time": "2021-12-07T16:33:30.287Z"
   },
   {
    "duration": 38,
    "start_time": "2021-12-07T16:33:30.352Z"
   },
   {
    "duration": 61,
    "start_time": "2021-12-07T16:33:30.393Z"
   },
   {
    "duration": 10,
    "start_time": "2021-12-07T16:33:30.456Z"
   },
   {
    "duration": 108,
    "start_time": "2021-12-07T16:33:30.468Z"
   },
   {
    "duration": 33,
    "start_time": "2021-12-07T16:33:54.180Z"
   },
   {
    "duration": 6,
    "start_time": "2021-12-07T16:34:17.264Z"
   },
   {
    "duration": 7,
    "start_time": "2021-12-07T16:35:03.399Z"
   },
   {
    "duration": 70,
    "start_time": "2021-12-07T16:36:09.418Z"
   },
   {
    "duration": 7,
    "start_time": "2021-12-07T16:36:11.393Z"
   },
   {
    "duration": 69,
    "start_time": "2021-12-07T16:38:38.587Z"
   },
   {
    "duration": 6,
    "start_time": "2021-12-07T16:38:49.202Z"
   },
   {
    "duration": 9,
    "start_time": "2021-12-07T16:40:11.164Z"
   },
   {
    "duration": 9,
    "start_time": "2021-12-07T16:40:15.205Z"
   },
   {
    "duration": 16,
    "start_time": "2021-12-07T16:40:40.399Z"
   },
   {
    "duration": 7,
    "start_time": "2021-12-07T16:41:37.123Z"
   },
   {
    "duration": 3,
    "start_time": "2021-12-07T16:41:39.966Z"
   },
   {
    "duration": 9,
    "start_time": "2021-12-07T16:42:14.988Z"
   },
   {
    "duration": 10,
    "start_time": "2021-12-07T16:42:28.217Z"
   },
   {
    "duration": 3,
    "start_time": "2021-12-07T16:42:40.088Z"
   },
   {
    "duration": 63,
    "start_time": "2021-12-07T16:43:57.656Z"
   },
   {
    "duration": 79,
    "start_time": "2021-12-07T16:44:58.517Z"
   },
   {
    "duration": 34,
    "start_time": "2021-12-07T16:44:58.599Z"
   },
   {
    "duration": 19,
    "start_time": "2021-12-07T16:44:58.637Z"
   },
   {
    "duration": 9,
    "start_time": "2021-12-07T16:44:58.661Z"
   },
   {
    "duration": 8,
    "start_time": "2021-12-07T16:44:58.673Z"
   },
   {
    "duration": 46,
    "start_time": "2021-12-07T16:44:58.684Z"
   },
   {
    "duration": 3,
    "start_time": "2021-12-07T16:44:58.733Z"
   },
   {
    "duration": 12,
    "start_time": "2021-12-07T16:44:58.741Z"
   },
   {
    "duration": 10,
    "start_time": "2021-12-07T16:44:58.756Z"
   },
   {
    "duration": 4,
    "start_time": "2021-12-07T16:44:58.769Z"
   },
   {
    "duration": 13,
    "start_time": "2021-12-07T16:44:58.775Z"
   },
   {
    "duration": 93,
    "start_time": "2021-12-07T16:44:58.791Z"
   },
   {
    "duration": 67,
    "start_time": "2021-12-07T16:45:00.657Z"
   },
   {
    "duration": 16,
    "start_time": "2021-12-07T16:48:32.070Z"
   },
   {
    "duration": 32,
    "start_time": "2021-12-07T16:49:57.459Z"
   },
   {
    "duration": 7,
    "start_time": "2021-12-07T16:59:02.164Z"
   },
   {
    "duration": 42,
    "start_time": "2021-12-07T16:59:05.121Z"
   },
   {
    "duration": 5,
    "start_time": "2021-12-07T16:59:32.798Z"
   },
   {
    "duration": 29,
    "start_time": "2021-12-07T16:59:33.740Z"
   },
   {
    "duration": 5,
    "start_time": "2021-12-07T17:07:24.131Z"
   },
   {
    "duration": 4,
    "start_time": "2021-12-07T17:07:24.468Z"
   },
   {
    "duration": 31,
    "start_time": "2021-12-07T17:07:25.228Z"
   },
   {
    "duration": 5,
    "start_time": "2021-12-07T17:07:42.388Z"
   },
   {
    "duration": 5,
    "start_time": "2021-12-07T17:07:42.958Z"
   },
   {
    "duration": 30,
    "start_time": "2021-12-07T17:07:43.926Z"
   },
   {
    "duration": 4,
    "start_time": "2021-12-07T17:17:06.036Z"
   },
   {
    "duration": 24,
    "start_time": "2021-12-07T17:19:10.700Z"
   },
   {
    "duration": 25,
    "start_time": "2021-12-07T17:19:43.899Z"
   },
   {
    "duration": 25,
    "start_time": "2021-12-07T17:19:49.281Z"
   },
   {
    "duration": 22,
    "start_time": "2021-12-07T17:19:56.259Z"
   },
   {
    "duration": 876,
    "start_time": "2021-12-08T06:52:36.962Z"
   },
   {
    "duration": 21,
    "start_time": "2021-12-08T06:52:37.841Z"
   },
   {
    "duration": 25,
    "start_time": "2021-12-08T06:52:37.869Z"
   },
   {
    "duration": 8,
    "start_time": "2021-12-08T06:52:37.897Z"
   },
   {
    "duration": 9,
    "start_time": "2021-12-08T06:52:37.907Z"
   },
   {
    "duration": 4,
    "start_time": "2021-12-08T06:52:37.919Z"
   },
   {
    "duration": 4,
    "start_time": "2021-12-08T06:52:37.969Z"
   },
   {
    "duration": 18,
    "start_time": "2021-12-08T06:52:37.977Z"
   },
   {
    "duration": 15,
    "start_time": "2021-12-08T06:52:37.999Z"
   },
   {
    "duration": 3,
    "start_time": "2021-12-08T06:52:38.017Z"
   },
   {
    "duration": 59,
    "start_time": "2021-12-08T06:52:38.022Z"
   },
   {
    "duration": 106,
    "start_time": "2021-12-08T06:52:38.084Z"
   },
   {
    "duration": 107,
    "start_time": "2021-12-08T06:52:38.193Z"
   },
   {
    "duration": 16,
    "start_time": "2021-12-08T06:52:38.302Z"
   },
   {
    "duration": 6,
    "start_time": "2021-12-08T06:52:38.320Z"
   },
   {
    "duration": 7,
    "start_time": "2021-12-08T06:52:38.328Z"
   },
   {
    "duration": 42,
    "start_time": "2021-12-08T06:52:38.337Z"
   },
   {
    "duration": 36,
    "start_time": "2021-12-08T06:52:38.382Z"
   },
   {
    "duration": 69,
    "start_time": "2021-12-08T06:52:38.420Z"
   },
   {
    "duration": 33,
    "start_time": "2021-12-08T06:52:40.385Z"
   },
   {
    "duration": 41,
    "start_time": "2021-12-08T06:52:40.763Z"
   },
   {
    "duration": 23,
    "start_time": "2021-12-08T06:53:22.734Z"
   },
   {
    "duration": 31,
    "start_time": "2021-12-08T07:03:20.665Z"
   },
   {
    "duration": 429,
    "start_time": "2021-12-08T07:03:44.526Z"
   },
   {
    "duration": 977,
    "start_time": "2021-12-08T07:03:54.759Z"
   },
   {
    "duration": 6,
    "start_time": "2021-12-08T07:04:37.579Z"
   },
   {
    "duration": 1006,
    "start_time": "2021-12-08T07:04:44.935Z"
   },
   {
    "duration": 5,
    "start_time": "2021-12-08T07:04:45.944Z"
   },
   {
    "duration": 34,
    "start_time": "2021-12-08T07:16:07.128Z"
   },
   {
    "duration": 14,
    "start_time": "2021-12-08T07:16:14.069Z"
   },
   {
    "duration": 11,
    "start_time": "2021-12-08T07:16:19.527Z"
   },
   {
    "duration": 11,
    "start_time": "2021-12-08T07:17:06.680Z"
   },
   {
    "duration": 9,
    "start_time": "2021-12-08T07:17:59.209Z"
   },
   {
    "duration": 17,
    "start_time": "2021-12-08T07:27:31.569Z"
   },
   {
    "duration": 7,
    "start_time": "2021-12-08T07:29:29.081Z"
   },
   {
    "duration": 14,
    "start_time": "2021-12-08T07:29:34.192Z"
   },
   {
    "duration": 12,
    "start_time": "2021-12-08T07:29:39.820Z"
   },
   {
    "duration": 13,
    "start_time": "2021-12-08T07:30:44.168Z"
   },
   {
    "duration": 9,
    "start_time": "2021-12-08T07:30:52.825Z"
   },
   {
    "duration": 12,
    "start_time": "2021-12-08T07:31:01.637Z"
   },
   {
    "duration": 858,
    "start_time": "2021-12-08T07:31:07.796Z"
   },
   {
    "duration": 14,
    "start_time": "2021-12-08T07:31:12.672Z"
   },
   {
    "duration": 32,
    "start_time": "2021-12-08T07:32:39.761Z"
   },
   {
    "duration": 130,
    "start_time": "2021-12-08T07:34:49.065Z"
   },
   {
    "duration": 13,
    "start_time": "2021-12-08T07:35:23.774Z"
   },
   {
    "duration": 11,
    "start_time": "2021-12-08T07:36:15.545Z"
   },
   {
    "duration": 17,
    "start_time": "2021-12-08T07:36:16.448Z"
   },
   {
    "duration": 4,
    "start_time": "2021-12-08T07:41:47.336Z"
   },
   {
    "duration": 20,
    "start_time": "2021-12-08T07:44:06.360Z"
   },
   {
    "duration": 311,
    "start_time": "2021-12-08T07:45:30.307Z"
   },
   {
    "duration": 15,
    "start_time": "2021-12-08T07:45:35.979Z"
   },
   {
    "duration": 15,
    "start_time": "2021-12-08T07:45:43.923Z"
   },
   {
    "duration": 15,
    "start_time": "2021-12-08T07:45:44.661Z"
   },
   {
    "duration": 13,
    "start_time": "2021-12-08T07:46:08.631Z"
   },
   {
    "duration": 12,
    "start_time": "2021-12-08T07:47:20.933Z"
   },
   {
    "duration": 18,
    "start_time": "2021-12-08T07:47:24.824Z"
   },
   {
    "duration": 19,
    "start_time": "2021-12-08T07:47:42.484Z"
   },
   {
    "duration": 15,
    "start_time": "2021-12-08T07:48:28.422Z"
   },
   {
    "duration": 419,
    "start_time": "2021-12-08T07:48:37.701Z"
   },
   {
    "duration": 283,
    "start_time": "2021-12-08T07:48:41.249Z"
   },
   {
    "duration": 18,
    "start_time": "2021-12-08T07:48:48.752Z"
   },
   {
    "duration": 19,
    "start_time": "2021-12-08T07:49:12.770Z"
   },
   {
    "duration": 10,
    "start_time": "2021-12-08T07:50:16.479Z"
   },
   {
    "duration": 9,
    "start_time": "2021-12-08T07:52:48.653Z"
   },
   {
    "duration": 16,
    "start_time": "2021-12-08T07:52:58.433Z"
   },
   {
    "duration": 92,
    "start_time": "2021-12-08T07:57:42.177Z"
   },
   {
    "duration": 14,
    "start_time": "2021-12-08T07:57:42.272Z"
   },
   {
    "duration": 6,
    "start_time": "2021-12-08T07:57:42.289Z"
   },
   {
    "duration": 10,
    "start_time": "2021-12-08T07:57:42.297Z"
   },
   {
    "duration": 11,
    "start_time": "2021-12-08T07:57:42.309Z"
   },
   {
    "duration": 14,
    "start_time": "2021-12-08T07:57:42.322Z"
   },
   {
    "duration": 42,
    "start_time": "2021-12-08T07:57:42.339Z"
   },
   {
    "duration": 22,
    "start_time": "2021-12-08T07:57:42.384Z"
   },
   {
    "duration": 16,
    "start_time": "2021-12-08T07:57:42.410Z"
   },
   {
    "duration": 21,
    "start_time": "2021-12-08T07:57:42.429Z"
   },
   {
    "duration": 84,
    "start_time": "2021-12-08T07:57:42.453Z"
   },
   {
    "duration": 84,
    "start_time": "2021-12-08T07:57:42.539Z"
   },
   {
    "duration": 14,
    "start_time": "2021-12-08T07:57:42.626Z"
   },
   {
    "duration": 27,
    "start_time": "2021-12-08T07:57:42.643Z"
   },
   {
    "duration": 8,
    "start_time": "2021-12-08T07:57:42.673Z"
   },
   {
    "duration": 10,
    "start_time": "2021-12-08T07:57:42.683Z"
   },
   {
    "duration": 33,
    "start_time": "2021-12-08T07:57:42.696Z"
   },
   {
    "duration": 57,
    "start_time": "2021-12-08T07:57:42.731Z"
   },
   {
    "duration": 24,
    "start_time": "2021-12-08T07:57:42.790Z"
   },
   {
    "duration": 962,
    "start_time": "2021-12-08T07:57:42.817Z"
   },
   {
    "duration": 4,
    "start_time": "2021-12-08T07:57:43.782Z"
   },
   {
    "duration": 10,
    "start_time": "2021-12-08T07:57:43.788Z"
   },
   {
    "duration": 12,
    "start_time": "2021-12-08T07:57:43.800Z"
   },
   {
    "duration": 22,
    "start_time": "2021-12-08T07:57:43.814Z"
   },
   {
    "duration": 39,
    "start_time": "2021-12-08T07:57:43.839Z"
   },
   {
    "duration": 17,
    "start_time": "2021-12-08T07:57:43.880Z"
   },
   {
    "duration": 16,
    "start_time": "2021-12-08T07:57:43.902Z"
   },
   {
    "duration": 47,
    "start_time": "2021-12-08T07:57:43.921Z"
   },
   {
    "duration": 13,
    "start_time": "2021-12-08T07:57:43.971Z"
   },
   {
    "duration": 10,
    "start_time": "2021-12-08T07:57:43.987Z"
   },
   {
    "duration": 24,
    "start_time": "2021-12-08T07:57:43.999Z"
   },
   {
    "duration": 52,
    "start_time": "2021-12-08T07:57:44.025Z"
   },
   {
    "duration": 16,
    "start_time": "2021-12-08T07:57:45.440Z"
   },
   {
    "duration": 17,
    "start_time": "2021-12-08T07:57:45.886Z"
   },
   {
    "duration": 26,
    "start_time": "2021-12-08T07:58:51.288Z"
   },
   {
    "duration": 28,
    "start_time": "2021-12-08T07:59:01.196Z"
   },
   {
    "duration": 79,
    "start_time": "2021-12-08T08:00:19.263Z"
   },
   {
    "duration": 32,
    "start_time": "2021-12-08T08:00:19.344Z"
   },
   {
    "duration": 7,
    "start_time": "2021-12-08T08:00:19.379Z"
   },
   {
    "duration": 9,
    "start_time": "2021-12-08T08:00:19.388Z"
   },
   {
    "duration": 3,
    "start_time": "2021-12-08T08:00:19.400Z"
   },
   {
    "duration": 14,
    "start_time": "2021-12-08T08:00:19.405Z"
   },
   {
    "duration": 51,
    "start_time": "2021-12-08T08:00:19.421Z"
   },
   {
    "duration": 16,
    "start_time": "2021-12-08T08:00:19.476Z"
   },
   {
    "duration": 6,
    "start_time": "2021-12-08T08:00:19.495Z"
   },
   {
    "duration": 17,
    "start_time": "2021-12-08T08:00:19.504Z"
   },
   {
    "duration": 94,
    "start_time": "2021-12-08T08:00:19.525Z"
   },
   {
    "duration": 99,
    "start_time": "2021-12-08T08:00:19.621Z"
   },
   {
    "duration": 14,
    "start_time": "2021-12-08T08:00:19.723Z"
   },
   {
    "duration": 28,
    "start_time": "2021-12-08T08:00:19.739Z"
   },
   {
    "duration": 7,
    "start_time": "2021-12-08T08:00:19.770Z"
   },
   {
    "duration": 8,
    "start_time": "2021-12-08T08:00:19.780Z"
   },
   {
    "duration": 30,
    "start_time": "2021-12-08T08:00:19.790Z"
   },
   {
    "duration": 51,
    "start_time": "2021-12-08T08:00:19.822Z"
   },
   {
    "duration": 27,
    "start_time": "2021-12-08T08:00:19.875Z"
   },
   {
    "duration": 1087,
    "start_time": "2021-12-08T08:00:19.905Z"
   },
   {
    "duration": 5,
    "start_time": "2021-12-08T08:00:20.995Z"
   },
   {
    "duration": 12,
    "start_time": "2021-12-08T08:00:21.003Z"
   },
   {
    "duration": 9,
    "start_time": "2021-12-08T08:00:21.020Z"
   },
   {
    "duration": 48,
    "start_time": "2021-12-08T08:00:21.031Z"
   },
   {
    "duration": 17,
    "start_time": "2021-12-08T08:00:21.082Z"
   },
   {
    "duration": 20,
    "start_time": "2021-12-08T08:00:24.858Z"
   },
   {
    "duration": 26,
    "start_time": "2021-12-08T08:03:14.791Z"
   },
   {
    "duration": 18,
    "start_time": "2021-12-08T08:03:18.597Z"
   },
   {
    "duration": 18,
    "start_time": "2021-12-08T08:03:21.939Z"
   },
   {
    "duration": 16,
    "start_time": "2021-12-08T08:05:02.658Z"
   },
   {
    "duration": 16,
    "start_time": "2021-12-08T08:06:29.076Z"
   },
   {
    "duration": 10,
    "start_time": "2021-12-08T08:06:29.624Z"
   },
   {
    "duration": 18,
    "start_time": "2021-12-08T08:06:30.722Z"
   },
   {
    "duration": 15,
    "start_time": "2021-12-08T08:09:58.517Z"
   },
   {
    "duration": 8,
    "start_time": "2021-12-08T08:11:50.205Z"
   },
   {
    "duration": 119,
    "start_time": "2021-12-08T08:12:06.882Z"
   },
   {
    "duration": 17,
    "start_time": "2021-12-08T08:45:48.434Z"
   },
   {
    "duration": 285,
    "start_time": "2021-12-08T08:47:03.168Z"
   },
   {
    "duration": 7,
    "start_time": "2021-12-08T08:47:10.142Z"
   },
   {
    "duration": 6,
    "start_time": "2021-12-08T08:47:10.721Z"
   },
   {
    "duration": 6,
    "start_time": "2021-12-08T08:48:20.856Z"
   },
   {
    "duration": 92,
    "start_time": "2021-12-08T08:48:21.440Z"
   },
   {
    "duration": 6,
    "start_time": "2021-12-08T08:52:49.186Z"
   },
   {
    "duration": 7,
    "start_time": "2021-12-08T08:53:31.696Z"
   },
   {
    "duration": 4,
    "start_time": "2021-12-08T08:53:51.981Z"
   },
   {
    "duration": 284,
    "start_time": "2021-12-08T08:55:10.890Z"
   },
   {
    "duration": 41,
    "start_time": "2021-12-08T08:56:13.946Z"
   },
   {
    "duration": 13,
    "start_time": "2021-12-08T08:57:18.422Z"
   },
   {
    "duration": 303,
    "start_time": "2021-12-08T09:06:53.311Z"
   },
   {
    "duration": 3,
    "start_time": "2021-12-08T09:07:36.500Z"
   },
   {
    "duration": 966,
    "start_time": "2021-12-08T09:07:46.748Z"
   },
   {
    "duration": 7,
    "start_time": "2021-12-08T09:15:58.247Z"
   },
   {
    "duration": 15,
    "start_time": "2021-12-08T09:16:39.507Z"
   },
   {
    "duration": 37,
    "start_time": "2021-12-08T09:24:37.549Z"
   },
   {
    "duration": 35,
    "start_time": "2021-12-08T09:25:09.257Z"
   },
   {
    "duration": 15,
    "start_time": "2021-12-08T09:25:36.245Z"
   },
   {
    "duration": 36,
    "start_time": "2021-12-08T09:25:48.245Z"
   },
   {
    "duration": 12,
    "start_time": "2021-12-08T09:26:01.629Z"
   },
   {
    "duration": 6,
    "start_time": "2021-12-08T09:28:19.405Z"
   },
   {
    "duration": 373,
    "start_time": "2021-12-08T09:28:50.444Z"
   },
   {
    "duration": 5085,
    "start_time": "2021-12-08T09:29:19.832Z"
   },
   {
    "duration": 5,
    "start_time": "2021-12-08T09:30:02.101Z"
   },
   {
    "duration": 6116,
    "start_time": "2021-12-08T09:30:02.981Z"
   },
   {
    "duration": 7,
    "start_time": "2021-12-08T09:30:26.913Z"
   },
   {
    "duration": 6245,
    "start_time": "2021-12-08T09:30:27.547Z"
   },
   {
    "duration": 5,
    "start_time": "2021-12-08T09:30:53.114Z"
   },
   {
    "duration": 5882,
    "start_time": "2021-12-08T09:30:53.723Z"
   },
   {
    "duration": 87,
    "start_time": "2021-12-08T09:31:36.110Z"
   },
   {
    "duration": 18,
    "start_time": "2021-12-08T09:31:36.201Z"
   },
   {
    "duration": 7,
    "start_time": "2021-12-08T09:31:36.223Z"
   },
   {
    "duration": 7,
    "start_time": "2021-12-08T09:31:36.266Z"
   },
   {
    "duration": 4,
    "start_time": "2021-12-08T09:31:36.276Z"
   },
   {
    "duration": 8,
    "start_time": "2021-12-08T09:31:36.283Z"
   },
   {
    "duration": 25,
    "start_time": "2021-12-08T09:31:36.294Z"
   },
   {
    "duration": 13,
    "start_time": "2021-12-08T09:31:36.323Z"
   },
   {
    "duration": 34,
    "start_time": "2021-12-08T09:31:36.340Z"
   },
   {
    "duration": 17,
    "start_time": "2021-12-08T09:31:36.377Z"
   },
   {
    "duration": 97,
    "start_time": "2021-12-08T09:31:36.397Z"
   },
   {
    "duration": 98,
    "start_time": "2021-12-08T09:31:36.497Z"
   },
   {
    "duration": 17,
    "start_time": "2021-12-08T09:31:36.598Z"
   },
   {
    "duration": 16,
    "start_time": "2021-12-08T09:31:36.618Z"
   },
   {
    "duration": 30,
    "start_time": "2021-12-08T09:31:36.637Z"
   },
   {
    "duration": 27,
    "start_time": "2021-12-08T09:31:36.671Z"
   },
   {
    "duration": 30,
    "start_time": "2021-12-08T09:31:36.701Z"
   },
   {
    "duration": 26,
    "start_time": "2021-12-08T09:31:36.734Z"
   },
   {
    "duration": 33,
    "start_time": "2021-12-08T09:31:36.763Z"
   },
   {
    "duration": 34,
    "start_time": "2021-12-08T09:31:36.798Z"
   },
   {
    "duration": 1443,
    "start_time": "2021-12-08T09:31:36.834Z"
   },
   {
    "duration": 5,
    "start_time": "2021-12-08T09:31:38.280Z"
   },
   {
    "duration": 6,
    "start_time": "2021-12-08T09:32:16.396Z"
   },
   {
    "duration": 5730,
    "start_time": "2021-12-08T09:32:16.934Z"
   },
   {
    "duration": 6,
    "start_time": "2021-12-08T09:32:47.049Z"
   },
   {
    "duration": 5655,
    "start_time": "2021-12-08T09:32:47.676Z"
   },
   {
    "duration": 5,
    "start_time": "2021-12-08T09:33:32.680Z"
   },
   {
    "duration": 5362,
    "start_time": "2021-12-08T09:33:33.645Z"
   },
   {
    "duration": 5,
    "start_time": "2021-12-08T09:35:06.610Z"
   },
   {
    "duration": 5384,
    "start_time": "2021-12-08T09:35:06.941Z"
   },
   {
    "duration": 13,
    "start_time": "2021-12-08T09:35:52.617Z"
   },
   {
    "duration": 6,
    "start_time": "2021-12-08T09:35:55.438Z"
   },
   {
    "duration": 5314,
    "start_time": "2021-12-08T09:35:55.991Z"
   },
   {
    "duration": 390,
    "start_time": "2021-12-08T11:55:19.320Z"
   },
   {
    "duration": 460,
    "start_time": "2021-12-08T11:55:27.138Z"
   },
   {
    "duration": 287,
    "start_time": "2021-12-08T11:55:34.306Z"
   },
   {
    "duration": 899,
    "start_time": "2021-12-08T11:55:44.288Z"
   },
   {
    "duration": 16,
    "start_time": "2021-12-08T11:55:45.190Z"
   },
   {
    "duration": 13,
    "start_time": "2021-12-08T11:55:45.208Z"
   },
   {
    "duration": 10,
    "start_time": "2021-12-08T11:55:45.224Z"
   },
   {
    "duration": 11,
    "start_time": "2021-12-08T11:55:45.236Z"
   },
   {
    "duration": 10,
    "start_time": "2021-12-08T11:55:45.250Z"
   },
   {
    "duration": 17,
    "start_time": "2021-12-08T11:55:45.262Z"
   },
   {
    "duration": 34,
    "start_time": "2021-12-08T11:55:45.283Z"
   },
   {
    "duration": 3,
    "start_time": "2021-12-08T11:55:45.320Z"
   },
   {
    "duration": 12,
    "start_time": "2021-12-08T11:55:45.326Z"
   },
   {
    "duration": 92,
    "start_time": "2021-12-08T11:55:45.340Z"
   },
   {
    "duration": 82,
    "start_time": "2021-12-08T11:55:45.435Z"
   },
   {
    "duration": 15,
    "start_time": "2021-12-08T11:55:45.519Z"
   },
   {
    "duration": 4,
    "start_time": "2021-12-08T11:55:45.536Z"
   },
   {
    "duration": 13,
    "start_time": "2021-12-08T11:55:45.542Z"
   },
   {
    "duration": 6,
    "start_time": "2021-12-08T11:55:45.557Z"
   },
   {
    "duration": 55,
    "start_time": "2021-12-08T11:55:45.566Z"
   },
   {
    "duration": 26,
    "start_time": "2021-12-08T11:55:45.623Z"
   },
   {
    "duration": 22,
    "start_time": "2021-12-08T11:55:45.651Z"
   },
   {
    "duration": 5,
    "start_time": "2021-12-08T11:55:45.675Z"
   },
   {
    "duration": 981,
    "start_time": "2021-12-08T11:55:45.683Z"
   },
   {
    "duration": 6,
    "start_time": "2021-12-08T11:55:46.666Z"
   },
   {
    "duration": 4656,
    "start_time": "2021-12-08T11:55:46.677Z"
   },
   {
    "duration": 27,
    "start_time": "2021-12-08T11:55:51.336Z"
   },
   {
    "duration": 16,
    "start_time": "2021-12-08T11:55:51.366Z"
   },
   {
    "duration": 45,
    "start_time": "2021-12-08T11:55:51.384Z"
   },
   {
    "duration": 15,
    "start_time": "2021-12-08T11:55:51.432Z"
   },
   {
    "duration": 13,
    "start_time": "2021-12-08T11:55:51.449Z"
   },
   {
    "duration": 62,
    "start_time": "2021-12-08T11:55:51.465Z"
   },
   {
    "duration": 10,
    "start_time": "2021-12-08T11:55:51.529Z"
   },
   {
    "duration": 26,
    "start_time": "2021-12-08T11:55:51.541Z"
   },
   {
    "duration": 49,
    "start_time": "2021-12-08T11:55:51.570Z"
   },
   {
    "duration": 26,
    "start_time": "2021-12-08T11:55:51.621Z"
   },
   {
    "duration": 15,
    "start_time": "2021-12-08T11:55:51.649Z"
   },
   {
    "duration": 15,
    "start_time": "2021-12-08T11:55:51.666Z"
   },
   {
    "duration": 9,
    "start_time": "2021-12-08T11:55:51.683Z"
   },
   {
    "duration": 30,
    "start_time": "2021-12-08T11:55:51.694Z"
   },
   {
    "duration": 31,
    "start_time": "2021-12-08T11:55:51.808Z"
   },
   {
    "duration": 336,
    "start_time": "2021-12-08T12:21:25.414Z"
   },
   {
    "duration": 49,
    "start_time": "2021-12-08T12:21:53.766Z"
   },
   {
    "duration": 9,
    "start_time": "2021-12-08T12:24:07.144Z"
   },
   {
    "duration": 19,
    "start_time": "2021-12-08T12:24:12.243Z"
   },
   {
    "duration": 19,
    "start_time": "2021-12-08T12:25:16.031Z"
   },
   {
    "duration": -1386,
    "start_time": "2021-12-08T12:25:48.024Z"
   },
   {
    "duration": 7693,
    "start_time": "2021-12-08T12:25:46.737Z"
   },
   {
    "duration": 8639,
    "start_time": "2021-12-08T12:26:11.442Z"
   },
   {
    "duration": 48,
    "start_time": "2021-12-08T12:27:26.537Z"
   },
   {
    "duration": 10,
    "start_time": "2021-12-08T12:27:27.441Z"
   },
   {
    "duration": 8161,
    "start_time": "2021-12-08T12:27:43.516Z"
   },
   {
    "duration": 85,
    "start_time": "2021-12-08T12:27:51.769Z"
   },
   {
    "duration": 17,
    "start_time": "2021-12-08T12:27:51.857Z"
   },
   {
    "duration": 6,
    "start_time": "2021-12-08T12:27:51.877Z"
   },
   {
    "duration": 6,
    "start_time": "2021-12-08T12:27:51.918Z"
   },
   {
    "duration": 5,
    "start_time": "2021-12-08T12:27:51.926Z"
   },
   {
    "duration": 5,
    "start_time": "2021-12-08T12:27:51.934Z"
   },
   {
    "duration": 11,
    "start_time": "2021-12-08T12:27:51.941Z"
   },
   {
    "duration": 10,
    "start_time": "2021-12-08T12:27:51.956Z"
   },
   {
    "duration": 3,
    "start_time": "2021-12-08T12:27:51.969Z"
   },
   {
    "duration": 52,
    "start_time": "2021-12-08T12:27:51.975Z"
   },
   {
    "duration": 97,
    "start_time": "2021-12-08T12:27:52.030Z"
   },
   {
    "duration": 65,
    "start_time": "2021-12-08T12:27:52.129Z"
   },
   {
    "duration": 30,
    "start_time": "2021-12-08T12:27:52.197Z"
   },
   {
    "duration": 5,
    "start_time": "2021-12-08T12:27:52.229Z"
   },
   {
    "duration": 12,
    "start_time": "2021-12-08T12:27:52.236Z"
   },
   {
    "duration": 6,
    "start_time": "2021-12-08T12:27:52.250Z"
   },
   {
    "duration": 25,
    "start_time": "2021-12-08T12:27:52.258Z"
   },
   {
    "duration": 27,
    "start_time": "2021-12-08T12:27:52.318Z"
   },
   {
    "duration": 24,
    "start_time": "2021-12-08T12:27:52.347Z"
   },
   {
    "duration": 51,
    "start_time": "2021-12-08T12:27:52.373Z"
   },
   {
    "duration": 932,
    "start_time": "2021-12-08T12:27:52.427Z"
   },
   {
    "duration": 5,
    "start_time": "2021-12-08T12:27:53.362Z"
   },
   {
    "duration": 4698,
    "start_time": "2021-12-08T12:27:53.372Z"
   },
   {
    "duration": 26,
    "start_time": "2021-12-08T12:27:58.074Z"
   },
   {
    "duration": 15,
    "start_time": "2021-12-08T12:27:58.117Z"
   },
   {
    "duration": 15,
    "start_time": "2021-12-08T12:27:58.134Z"
   },
   {
    "duration": 14,
    "start_time": "2021-12-08T12:27:58.151Z"
   },
   {
    "duration": 54,
    "start_time": "2021-12-08T12:27:58.167Z"
   },
   {
    "duration": 13,
    "start_time": "2021-12-08T12:27:58.223Z"
   },
   {
    "duration": 11,
    "start_time": "2021-12-08T12:27:58.239Z"
   },
   {
    "duration": 19,
    "start_time": "2021-12-08T12:27:58.253Z"
   },
   {
    "duration": 52,
    "start_time": "2021-12-08T12:27:58.274Z"
   },
   {
    "duration": 17,
    "start_time": "2021-12-08T12:27:58.329Z"
   },
   {
    "duration": 6,
    "start_time": "2021-12-08T12:27:58.349Z"
   },
   {
    "duration": 5,
    "start_time": "2021-12-08T12:27:58.358Z"
   },
   {
    "duration": 5,
    "start_time": "2021-12-08T12:27:58.365Z"
   },
   {
    "duration": 57,
    "start_time": "2021-12-08T12:27:58.372Z"
   },
   {
    "duration": 48,
    "start_time": "2021-12-08T12:27:58.431Z"
   },
   {
    "duration": 59,
    "start_time": "2021-12-08T12:27:58.482Z"
   },
   {
    "duration": 15,
    "start_time": "2021-12-08T12:27:58.563Z"
   },
   {
    "duration": 329,
    "start_time": "2021-12-08T12:28:06.379Z"
   },
   {
    "duration": 48,
    "start_time": "2021-12-08T12:28:25.601Z"
   },
   {
    "duration": 46,
    "start_time": "2021-12-08T12:28:54.251Z"
   },
   {
    "duration": 17,
    "start_time": "2021-12-08T12:28:55.157Z"
   },
   {
    "duration": 49,
    "start_time": "2021-12-08T12:28:56.694Z"
   },
   {
    "duration": 7394,
    "start_time": "2021-12-08T12:29:42.168Z"
   },
   {
    "duration": 8641,
    "start_time": "2021-12-08T12:30:05.259Z"
   },
   {
    "duration": 47,
    "start_time": "2021-12-08T12:30:23.015Z"
   },
   {
    "duration": 49,
    "start_time": "2021-12-08T12:30:56.923Z"
   },
   {
    "duration": 31,
    "start_time": "2021-12-08T12:32:56.055Z"
   },
   {
    "duration": 46,
    "start_time": "2021-12-08T12:35:34.145Z"
   },
   {
    "duration": 35,
    "start_time": "2021-12-08T12:36:39.498Z"
   },
   {
    "duration": 48,
    "start_time": "2021-12-08T12:39:06.509Z"
   },
   {
    "duration": 29,
    "start_time": "2021-12-08T12:40:50.361Z"
   },
   {
    "duration": 49,
    "start_time": "2021-12-08T12:42:13.165Z"
   },
   {
    "duration": 48,
    "start_time": "2021-12-08T12:43:38.089Z"
   },
   {
    "duration": 83,
    "start_time": "2021-12-08T12:43:57.885Z"
   },
   {
    "duration": 51,
    "start_time": "2021-12-08T12:43:57.971Z"
   },
   {
    "duration": 6,
    "start_time": "2021-12-08T12:43:58.024Z"
   },
   {
    "duration": 6,
    "start_time": "2021-12-08T12:43:58.032Z"
   },
   {
    "duration": 4,
    "start_time": "2021-12-08T12:43:58.040Z"
   },
   {
    "duration": 5,
    "start_time": "2021-12-08T12:43:58.046Z"
   },
   {
    "duration": 10,
    "start_time": "2021-12-08T12:43:58.053Z"
   },
   {
    "duration": 55,
    "start_time": "2021-12-08T12:43:58.066Z"
   },
   {
    "duration": 3,
    "start_time": "2021-12-08T12:43:58.124Z"
   },
   {
    "duration": 10,
    "start_time": "2021-12-08T12:43:58.130Z"
   },
   {
    "duration": 97,
    "start_time": "2021-12-08T12:43:58.142Z"
   },
   {
    "duration": 86,
    "start_time": "2021-12-08T12:43:58.241Z"
   },
   {
    "duration": 14,
    "start_time": "2021-12-08T12:43:58.329Z"
   },
   {
    "duration": 4,
    "start_time": "2021-12-08T12:43:58.346Z"
   },
   {
    "duration": 4,
    "start_time": "2021-12-08T12:43:58.353Z"
   },
   {
    "duration": 4,
    "start_time": "2021-12-08T12:43:58.360Z"
   },
   {
    "duration": 66,
    "start_time": "2021-12-08T12:43:58.367Z"
   },
   {
    "duration": 27,
    "start_time": "2021-12-08T12:43:58.436Z"
   },
   {
    "duration": 24,
    "start_time": "2021-12-08T12:43:58.465Z"
   },
   {
    "duration": 53,
    "start_time": "2021-12-08T12:43:58.491Z"
   },
   {
    "duration": 961,
    "start_time": "2021-12-08T12:43:58.546Z"
   },
   {
    "duration": 5,
    "start_time": "2021-12-08T12:43:59.517Z"
   },
   {
    "duration": 4712,
    "start_time": "2021-12-08T12:43:59.527Z"
   },
   {
    "duration": 27,
    "start_time": "2021-12-08T12:44:04.241Z"
   },
   {
    "duration": 15,
    "start_time": "2021-12-08T12:44:04.270Z"
   },
   {
    "duration": 40,
    "start_time": "2021-12-08T12:44:04.287Z"
   },
   {
    "duration": 16,
    "start_time": "2021-12-08T12:44:04.329Z"
   },
   {
    "duration": 13,
    "start_time": "2021-12-08T12:44:04.347Z"
   },
   {
    "duration": 12,
    "start_time": "2021-12-08T12:44:04.362Z"
   },
   {
    "duration": 46,
    "start_time": "2021-12-08T12:44:04.376Z"
   },
   {
    "duration": 18,
    "start_time": "2021-12-08T12:44:04.425Z"
   },
   {
    "duration": 15,
    "start_time": "2021-12-08T12:44:04.446Z"
   },
   {
    "duration": 18,
    "start_time": "2021-12-08T12:44:04.463Z"
   },
   {
    "duration": 5,
    "start_time": "2021-12-08T12:44:04.518Z"
   },
   {
    "duration": 8,
    "start_time": "2021-12-08T12:44:04.525Z"
   },
   {
    "duration": 7,
    "start_time": "2021-12-08T12:44:04.535Z"
   },
   {
    "duration": 14,
    "start_time": "2021-12-08T12:44:04.544Z"
   },
   {
    "duration": 69,
    "start_time": "2021-12-08T12:44:04.561Z"
   },
   {
    "duration": 47,
    "start_time": "2021-12-08T12:44:04.633Z"
   },
   {
    "duration": 66,
    "start_time": "2021-12-08T12:44:04.682Z"
   },
   {
    "duration": 66,
    "start_time": "2021-12-08T12:44:04.751Z"
   },
   {
    "duration": 51,
    "start_time": "2021-12-08T12:44:04.819Z"
   },
   {
    "duration": 863,
    "start_time": "2021-12-09T07:19:31.575Z"
   },
   {
    "duration": 19,
    "start_time": "2021-12-09T07:19:32.440Z"
   },
   {
    "duration": 5,
    "start_time": "2021-12-09T07:19:32.462Z"
   },
   {
    "duration": 7,
    "start_time": "2021-12-09T07:19:32.470Z"
   },
   {
    "duration": 6,
    "start_time": "2021-12-09T07:19:32.479Z"
   },
   {
    "duration": 7,
    "start_time": "2021-12-09T07:19:32.487Z"
   },
   {
    "duration": 13,
    "start_time": "2021-12-09T07:19:32.496Z"
   },
   {
    "duration": 9,
    "start_time": "2021-12-09T07:19:32.512Z"
   },
   {
    "duration": 3,
    "start_time": "2021-12-09T07:19:32.561Z"
   },
   {
    "duration": 14,
    "start_time": "2021-12-09T07:19:32.566Z"
   },
   {
    "duration": 85,
    "start_time": "2021-12-09T07:19:32.582Z"
   },
   {
    "duration": 65,
    "start_time": "2021-12-09T07:19:32.669Z"
   },
   {
    "duration": 36,
    "start_time": "2021-12-09T07:19:32.737Z"
   },
   {
    "duration": 5,
    "start_time": "2021-12-09T07:19:32.776Z"
   },
   {
    "duration": 6,
    "start_time": "2021-12-09T07:19:32.784Z"
   },
   {
    "duration": 4,
    "start_time": "2021-12-09T07:19:32.793Z"
   },
   {
    "duration": 73,
    "start_time": "2021-12-09T07:19:32.800Z"
   },
   {
    "duration": 28,
    "start_time": "2021-12-09T07:19:32.876Z"
   },
   {
    "duration": 23,
    "start_time": "2021-12-09T07:19:32.906Z"
   },
   {
    "duration": 32,
    "start_time": "2021-12-09T07:19:32.932Z"
   },
   {
    "duration": 915,
    "start_time": "2021-12-09T07:19:32.966Z"
   },
   {
    "duration": 5,
    "start_time": "2021-12-09T07:19:33.883Z"
   },
   {
    "duration": 5133,
    "start_time": "2021-12-09T07:19:33.893Z"
   },
   {
    "duration": 33,
    "start_time": "2021-12-09T07:19:39.029Z"
   },
   {
    "duration": 14,
    "start_time": "2021-12-09T07:19:39.065Z"
   },
   {
    "duration": 14,
    "start_time": "2021-12-09T07:19:39.081Z"
   },
   {
    "duration": 14,
    "start_time": "2021-12-09T07:19:39.098Z"
   },
   {
    "duration": 54,
    "start_time": "2021-12-09T07:19:39.114Z"
   },
   {
    "duration": 13,
    "start_time": "2021-12-09T07:19:39.170Z"
   },
   {
    "duration": 10,
    "start_time": "2021-12-09T07:19:39.185Z"
   },
   {
    "duration": 19,
    "start_time": "2021-12-09T07:19:39.198Z"
   },
   {
    "duration": 53,
    "start_time": "2021-12-09T07:19:39.219Z"
   },
   {
    "duration": 22,
    "start_time": "2021-12-09T07:19:39.274Z"
   },
   {
    "duration": 7,
    "start_time": "2021-12-09T07:19:39.298Z"
   },
   {
    "duration": 5,
    "start_time": "2021-12-09T07:19:39.308Z"
   },
   {
    "duration": 46,
    "start_time": "2021-12-09T07:19:39.315Z"
   },
   {
    "duration": 16,
    "start_time": "2021-12-09T07:19:39.364Z"
   },
   {
    "duration": 32,
    "start_time": "2021-12-09T07:19:39.382Z"
   },
   {
    "duration": 80,
    "start_time": "2021-12-09T07:19:39.416Z"
   },
   {
    "duration": 61,
    "start_time": "2021-12-09T07:19:39.498Z"
   },
   {
    "duration": 49,
    "start_time": "2021-12-09T07:19:39.561Z"
   },
   {
    "duration": 1277,
    "start_time": "2021-12-09T07:20:11.056Z"
   },
   {
    "duration": 17,
    "start_time": "2021-12-09T07:21:48.540Z"
   },
   {
    "duration": 75,
    "start_time": "2021-12-09T07:23:25.806Z"
   },
   {
    "duration": 15,
    "start_time": "2021-12-09T07:23:27.686Z"
   },
   {
    "duration": 14,
    "start_time": "2021-12-09T07:26:35.880Z"
   },
   {
    "duration": 13,
    "start_time": "2021-12-09T07:27:35.714Z"
   },
   {
    "duration": 22,
    "start_time": "2021-12-09T07:27:55.612Z"
   },
   {
    "duration": 19,
    "start_time": "2021-12-09T07:27:59.157Z"
   },
   {
    "duration": 21,
    "start_time": "2021-12-09T07:28:04.607Z"
   },
   {
    "duration": 21,
    "start_time": "2021-12-09T07:28:13.818Z"
   },
   {
    "duration": 21,
    "start_time": "2021-12-09T07:32:15.966Z"
   },
   {
    "duration": 22,
    "start_time": "2021-12-09T07:32:17.556Z"
   },
   {
    "duration": 20,
    "start_time": "2021-12-09T07:33:50.229Z"
   },
   {
    "duration": 20,
    "start_time": "2021-12-09T07:33:53.417Z"
   },
   {
    "duration": 19,
    "start_time": "2021-12-09T07:33:54.746Z"
   },
   {
    "duration": 38,
    "start_time": "2021-12-09T07:58:22.779Z"
   },
   {
    "duration": 11,
    "start_time": "2021-12-09T07:58:31.054Z"
   },
   {
    "duration": 8,
    "start_time": "2021-12-09T07:58:31.815Z"
   },
   {
    "duration": 36,
    "start_time": "2021-12-09T07:58:32.842Z"
   },
   {
    "duration": 57,
    "start_time": "2021-12-09T07:59:18.961Z"
   },
   {
    "duration": 30,
    "start_time": "2021-12-09T07:59:28.792Z"
   },
   {
    "duration": 28,
    "start_time": "2021-12-09T07:59:39.433Z"
   },
   {
    "duration": 10,
    "start_time": "2021-12-09T07:59:51.581Z"
   },
   {
    "duration": 81,
    "start_time": "2021-12-09T08:05:35.879Z"
   },
   {
    "duration": 16,
    "start_time": "2021-12-09T08:05:35.964Z"
   },
   {
    "duration": 16,
    "start_time": "2021-12-09T08:05:35.983Z"
   },
   {
    "duration": 64,
    "start_time": "2021-12-09T08:05:36.003Z"
   },
   {
    "duration": 28,
    "start_time": "2021-12-09T08:05:36.070Z"
   },
   {
    "duration": 9,
    "start_time": "2021-12-09T08:05:36.101Z"
   },
   {
    "duration": 61,
    "start_time": "2021-12-09T08:05:36.113Z"
   },
   {
    "duration": 9,
    "start_time": "2021-12-09T08:05:36.178Z"
   },
   {
    "duration": 104,
    "start_time": "2021-12-09T08:05:36.189Z"
   },
   {
    "duration": 92,
    "start_time": "2021-12-09T08:05:40.429Z"
   },
   {
    "duration": 66,
    "start_time": "2021-12-09T08:12:35.213Z"
   },
   {
    "duration": 69,
    "start_time": "2021-12-09T08:12:46.317Z"
   },
   {
    "duration": 7,
    "start_time": "2021-12-09T08:13:35.424Z"
   },
   {
    "duration": 9,
    "start_time": "2021-12-09T08:14:15.002Z"
   },
   {
    "duration": 6,
    "start_time": "2021-12-09T08:14:26.239Z"
   },
   {
    "duration": 6,
    "start_time": "2021-12-09T08:15:42.177Z"
   },
   {
    "duration": 6,
    "start_time": "2021-12-09T08:15:55.355Z"
   },
   {
    "duration": 6,
    "start_time": "2021-12-09T08:15:58.947Z"
   },
   {
    "duration": 7,
    "start_time": "2021-12-09T08:16:00.002Z"
   },
   {
    "duration": 69,
    "start_time": "2021-12-09T08:16:06.104Z"
   },
   {
    "duration": 7,
    "start_time": "2021-12-09T08:18:38.197Z"
   },
   {
    "duration": 5,
    "start_time": "2021-12-09T08:18:38.758Z"
   },
   {
    "duration": 32,
    "start_time": "2021-12-09T08:18:45.927Z"
   },
   {
    "duration": 17,
    "start_time": "2021-12-09T08:18:51.248Z"
   },
   {
    "duration": 6,
    "start_time": "2021-12-09T08:19:41.320Z"
   },
   {
    "duration": 5,
    "start_time": "2021-12-09T08:19:41.978Z"
   },
   {
    "duration": 16,
    "start_time": "2021-12-09T08:19:42.388Z"
   },
   {
    "duration": 21,
    "start_time": "2021-12-09T08:25:00.306Z"
   },
   {
    "duration": 20,
    "start_time": "2021-12-09T08:25:58.835Z"
   },
   {
    "duration": 29,
    "start_time": "2021-12-09T08:26:05.147Z"
   },
   {
    "duration": 22,
    "start_time": "2021-12-09T08:26:41.176Z"
   },
   {
    "duration": 28,
    "start_time": "2021-12-09T08:26:42.045Z"
   },
   {
    "duration": 23,
    "start_time": "2021-12-09T08:27:05.287Z"
   },
   {
    "duration": 21,
    "start_time": "2021-12-09T08:27:07.433Z"
   },
   {
    "duration": 29,
    "start_time": "2021-12-09T08:27:11.461Z"
   },
   {
    "duration": 24,
    "start_time": "2021-12-09T08:27:12.287Z"
   },
   {
    "duration": 24,
    "start_time": "2021-12-09T08:27:12.947Z"
   },
   {
    "duration": 82,
    "start_time": "2021-12-09T08:27:23.679Z"
   },
   {
    "duration": 23,
    "start_time": "2021-12-09T08:27:23.763Z"
   },
   {
    "duration": 20,
    "start_time": "2021-12-09T08:27:23.790Z"
   },
   {
    "duration": 30,
    "start_time": "2021-12-09T08:27:23.812Z"
   },
   {
    "duration": 28,
    "start_time": "2021-12-09T08:27:23.860Z"
   },
   {
    "duration": 11,
    "start_time": "2021-12-09T08:27:23.891Z"
   },
   {
    "duration": 57,
    "start_time": "2021-12-09T08:27:23.904Z"
   },
   {
    "duration": 16,
    "start_time": "2021-12-09T08:27:23.964Z"
   },
   {
    "duration": 107,
    "start_time": "2021-12-09T08:27:23.985Z"
   },
   {
    "duration": 7,
    "start_time": "2021-12-09T08:27:24.096Z"
   },
   {
    "duration": 6,
    "start_time": "2021-12-09T08:27:24.107Z"
   },
   {
    "duration": 107,
    "start_time": "2021-12-09T08:27:24.115Z"
   },
   {
    "duration": 40,
    "start_time": "2021-12-09T08:27:24.225Z"
   },
   {
    "duration": 9,
    "start_time": "2021-12-09T08:27:24.269Z"
   },
   {
    "duration": 8,
    "start_time": "2021-12-09T08:27:24.281Z"
   },
   {
    "duration": 22,
    "start_time": "2021-12-09T08:27:24.292Z"
   },
   {
    "duration": 64,
    "start_time": "2021-12-09T08:27:24.317Z"
   },
   {
    "duration": 28,
    "start_time": "2021-12-09T08:27:24.384Z"
   },
   {
    "duration": 27,
    "start_time": "2021-12-09T08:27:28.505Z"
   },
   {
    "duration": 25,
    "start_time": "2021-12-09T08:44:44.902Z"
   },
   {
    "duration": 6111,
    "start_time": "2021-12-09T09:03:25.444Z"
   },
   {
    "duration": 138,
    "start_time": "2021-12-09T09:03:31.741Z"
   },
   {
    "duration": 27,
    "start_time": "2021-12-09T09:03:31.883Z"
   },
   {
    "duration": 91,
    "start_time": "2021-12-09T09:03:31.914Z"
   },
   {
    "duration": 22,
    "start_time": "2021-12-09T09:03:32.009Z"
   },
   {
    "duration": 21,
    "start_time": "2021-12-09T09:03:32.033Z"
   },
   {
    "duration": 9,
    "start_time": "2021-12-09T09:03:32.056Z"
   },
   {
    "duration": 27,
    "start_time": "2021-12-09T09:03:32.068Z"
   },
   {
    "duration": 10,
    "start_time": "2021-12-09T09:03:32.098Z"
   },
   {
    "duration": 98,
    "start_time": "2021-12-09T09:03:32.111Z"
   },
   {
    "duration": 5,
    "start_time": "2021-12-09T09:03:32.212Z"
   },
   {
    "duration": 6,
    "start_time": "2021-12-09T09:03:32.220Z"
   },
   {
    "duration": 93,
    "start_time": "2021-12-09T09:03:32.228Z"
   },
   {
    "duration": 35,
    "start_time": "2021-12-09T09:03:32.324Z"
   },
   {
    "duration": 6,
    "start_time": "2021-12-09T09:03:32.362Z"
   },
   {
    "duration": 4,
    "start_time": "2021-12-09T09:03:32.371Z"
   },
   {
    "duration": 16,
    "start_time": "2021-12-09T09:03:32.378Z"
   },
   {
    "duration": 20,
    "start_time": "2021-12-09T09:03:32.396Z"
   },
   {
    "duration": 63,
    "start_time": "2021-12-09T09:03:32.419Z"
   },
   {
    "duration": 22,
    "start_time": "2021-12-09T09:03:32.484Z"
   },
   {
    "duration": 57,
    "start_time": "2021-12-09T09:03:32.508Z"
   },
   {
    "duration": 913,
    "start_time": "2021-12-09T09:03:32.567Z"
   },
   {
    "duration": 5,
    "start_time": "2021-12-09T09:03:33.482Z"
   },
   {
    "duration": 5396,
    "start_time": "2021-12-09T09:03:33.491Z"
   },
   {
    "duration": 5530,
    "start_time": "2021-12-09T09:03:39.173Z"
   },
   {
    "duration": 513,
    "start_time": "2021-12-09T09:25:30.834Z"
   },
   {
    "duration": 408,
    "start_time": "2021-12-09T09:25:40.725Z"
   },
   {
    "duration": 151,
    "start_time": "2021-12-09T09:25:50.469Z"
   },
   {
    "duration": 15,
    "start_time": "2021-12-09T09:25:56.812Z"
   },
   {
    "duration": 11,
    "start_time": "2021-12-09T09:27:03.789Z"
   },
   {
    "duration": 13,
    "start_time": "2021-12-09T09:28:10.986Z"
   },
   {
    "duration": 5897,
    "start_time": "2021-12-09T16:03:00.181Z"
   },
   {
    "duration": 16,
    "start_time": "2021-12-09T16:03:06.081Z"
   },
   {
    "duration": 79,
    "start_time": "2021-12-09T16:03:08.009Z"
   },
   {
    "duration": 14,
    "start_time": "2021-12-09T16:03:08.091Z"
   },
   {
    "duration": 12,
    "start_time": "2021-12-09T16:03:08.108Z"
   },
   {
    "duration": 53,
    "start_time": "2021-12-09T16:03:08.123Z"
   },
   {
    "duration": 20,
    "start_time": "2021-12-09T16:03:08.179Z"
   },
   {
    "duration": 10,
    "start_time": "2021-12-09T16:03:08.201Z"
   },
   {
    "duration": 62,
    "start_time": "2021-12-09T16:03:08.213Z"
   },
   {
    "duration": 10,
    "start_time": "2021-12-09T16:03:08.279Z"
   },
   {
    "duration": 112,
    "start_time": "2021-12-09T16:03:08.292Z"
   },
   {
    "duration": 5,
    "start_time": "2021-12-09T16:03:08.407Z"
   },
   {
    "duration": 7,
    "start_time": "2021-12-09T16:03:08.415Z"
   },
   {
    "duration": 93,
    "start_time": "2021-12-09T16:03:08.424Z"
   },
   {
    "duration": 20,
    "start_time": "2021-12-09T16:03:08.520Z"
   },
   {
    "duration": 7,
    "start_time": "2021-12-09T16:03:08.561Z"
   },
   {
    "duration": 5,
    "start_time": "2021-12-09T16:03:08.570Z"
   },
   {
    "duration": 18,
    "start_time": "2021-12-09T16:03:08.578Z"
   },
   {
    "duration": 67,
    "start_time": "2021-12-09T16:03:08.599Z"
   },
   {
    "duration": 28,
    "start_time": "2021-12-09T16:03:08.669Z"
   },
   {
    "duration": 24,
    "start_time": "2021-12-09T16:03:08.699Z"
   },
   {
    "duration": 58,
    "start_time": "2021-12-09T16:03:08.726Z"
   },
   {
    "duration": 954,
    "start_time": "2021-12-09T16:03:08.787Z"
   },
   {
    "duration": 15,
    "start_time": "2021-12-09T16:03:09.744Z"
   },
   {
    "duration": 6462,
    "start_time": "2021-12-09T16:03:09.765Z"
   },
   {
    "duration": 15,
    "start_time": "2021-12-09T16:04:37.141Z"
   },
   {
    "duration": 24,
    "start_time": "2021-12-09T16:13:40.719Z"
   },
   {
    "duration": 16,
    "start_time": "2021-12-09T16:13:53.848Z"
   },
   {
    "duration": 13,
    "start_time": "2021-12-09T16:15:38.797Z"
   },
   {
    "duration": 18,
    "start_time": "2021-12-09T16:15:44.040Z"
   },
   {
    "duration": 17,
    "start_time": "2021-12-09T16:15:46.502Z"
   },
   {
    "duration": 15,
    "start_time": "2021-12-09T16:15:48.805Z"
   },
   {
    "duration": 17,
    "start_time": "2021-12-09T16:16:14.269Z"
   },
   {
    "duration": 16,
    "start_time": "2021-12-09T16:16:15.059Z"
   },
   {
    "duration": 15,
    "start_time": "2021-12-09T16:16:19.770Z"
   },
   {
    "duration": 10,
    "start_time": "2021-12-09T16:16:21.295Z"
   },
   {
    "duration": 18,
    "start_time": "2021-12-09T16:16:24.178Z"
   },
   {
    "duration": 16,
    "start_time": "2021-12-09T16:16:53.153Z"
   },
   {
    "duration": 7,
    "start_time": "2021-12-09T16:17:09.790Z"
   },
   {
    "duration": 6,
    "start_time": "2021-12-09T16:17:11.500Z"
   },
   {
    "duration": 29,
    "start_time": "2021-12-09T16:22:42.846Z"
   },
   {
    "duration": 18,
    "start_time": "2021-12-09T16:23:34.297Z"
   },
   {
    "duration": 19,
    "start_time": "2021-12-09T16:24:03.589Z"
   },
   {
    "duration": 15,
    "start_time": "2021-12-09T16:24:37.745Z"
   },
   {
    "duration": 15,
    "start_time": "2021-12-09T16:25:05.811Z"
   },
   {
    "duration": 16,
    "start_time": "2021-12-09T16:25:22.137Z"
   },
   {
    "duration": 27,
    "start_time": "2021-12-09T16:26:46.103Z"
   },
   {
    "duration": 17,
    "start_time": "2021-12-09T16:26:46.969Z"
   },
   {
    "duration": 12,
    "start_time": "2021-12-09T16:26:49.428Z"
   },
   {
    "duration": 18,
    "start_time": "2021-12-09T16:26:50.222Z"
   },
   {
    "duration": 15,
    "start_time": "2021-12-09T16:26:50.771Z"
   },
   {
    "duration": 19,
    "start_time": "2021-12-09T16:26:53.271Z"
   },
   {
    "duration": 16,
    "start_time": "2021-12-09T16:26:53.651Z"
   },
   {
    "duration": 13,
    "start_time": "2021-12-09T16:26:54.820Z"
   },
   {
    "duration": 9,
    "start_time": "2021-12-09T16:28:02.797Z"
   },
   {
    "duration": 14,
    "start_time": "2021-12-09T16:36:48.478Z"
   },
   {
    "duration": 19,
    "start_time": "2021-12-09T16:39:23.458Z"
   },
   {
    "duration": 4,
    "start_time": "2021-12-09T16:42:16.164Z"
   },
   {
    "duration": 18,
    "start_time": "2021-12-09T16:44:28.833Z"
   },
   {
    "duration": 36,
    "start_time": "2021-12-09T16:51:11.043Z"
   },
   {
    "duration": 16,
    "start_time": "2021-12-09T16:51:12.282Z"
   },
   {
    "duration": 16,
    "start_time": "2021-12-09T16:51:12.744Z"
   },
   {
    "duration": 14,
    "start_time": "2021-12-09T16:51:12.956Z"
   },
   {
    "duration": 17,
    "start_time": "2021-12-09T16:51:13.447Z"
   },
   {
    "duration": 10,
    "start_time": "2021-12-09T16:51:13.869Z"
   },
   {
    "duration": 13,
    "start_time": "2021-12-09T16:51:14.206Z"
   },
   {
    "duration": 30,
    "start_time": "2021-12-09T17:49:14.243Z"
   },
   {
    "duration": 8,
    "start_time": "2021-12-09T17:49:24.834Z"
   },
   {
    "duration": 13,
    "start_time": "2021-12-09T17:50:53.043Z"
   },
   {
    "duration": 15,
    "start_time": "2021-12-09T17:51:46.776Z"
   },
   {
    "duration": 8,
    "start_time": "2021-12-09T17:51:57.376Z"
   },
   {
    "duration": 16,
    "start_time": "2021-12-09T17:51:58.211Z"
   },
   {
    "duration": 15,
    "start_time": "2021-12-09T17:52:27.538Z"
   },
   {
    "duration": 99,
    "start_time": "2021-12-09T17:52:32.500Z"
   },
   {
    "duration": 16,
    "start_time": "2021-12-09T17:52:32.602Z"
   },
   {
    "duration": 28,
    "start_time": "2021-12-09T17:52:32.632Z"
   },
   {
    "duration": 21,
    "start_time": "2021-12-09T17:52:32.664Z"
   },
   {
    "duration": 21,
    "start_time": "2021-12-09T17:52:32.688Z"
   },
   {
    "duration": 9,
    "start_time": "2021-12-09T17:52:32.711Z"
   },
   {
    "duration": 27,
    "start_time": "2021-12-09T17:52:32.759Z"
   },
   {
    "duration": 10,
    "start_time": "2021-12-09T17:52:32.790Z"
   },
   {
    "duration": 131,
    "start_time": "2021-12-09T17:52:32.803Z"
   },
   {
    "duration": 7,
    "start_time": "2021-12-09T17:52:32.937Z"
   },
   {
    "duration": 7,
    "start_time": "2021-12-09T17:52:32.960Z"
   },
   {
    "duration": 105,
    "start_time": "2021-12-09T17:52:32.970Z"
   },
   {
    "duration": 17,
    "start_time": "2021-12-09T17:52:33.077Z"
   },
   {
    "duration": 8,
    "start_time": "2021-12-09T17:52:33.097Z"
   },
   {
    "duration": 9,
    "start_time": "2021-12-09T17:52:33.108Z"
   },
   {
    "duration": 50,
    "start_time": "2021-12-09T17:52:33.120Z"
   },
   {
    "duration": 28,
    "start_time": "2021-12-09T17:52:33.173Z"
   },
   {
    "duration": 25,
    "start_time": "2021-12-09T17:52:33.203Z"
   },
   {
    "duration": 52,
    "start_time": "2021-12-09T17:52:33.231Z"
   },
   {
    "duration": 39,
    "start_time": "2021-12-09T17:52:33.285Z"
   },
   {
    "duration": 1159,
    "start_time": "2021-12-09T17:52:33.326Z"
   },
   {
    "duration": 6,
    "start_time": "2021-12-09T17:52:34.489Z"
   },
   {
    "duration": 6105,
    "start_time": "2021-12-09T17:52:34.500Z"
   },
   {
    "duration": 15,
    "start_time": "2021-12-09T17:52:40.608Z"
   },
   {
    "duration": 47,
    "start_time": "2021-12-09T17:52:40.626Z"
   },
   {
    "duration": 18,
    "start_time": "2021-12-09T17:52:40.676Z"
   },
   {
    "duration": 16,
    "start_time": "2021-12-09T17:52:40.696Z"
   },
   {
    "duration": 57,
    "start_time": "2021-12-09T17:52:40.715Z"
   },
   {
    "duration": 14,
    "start_time": "2021-12-09T17:52:40.774Z"
   },
   {
    "duration": 10,
    "start_time": "2021-12-09T17:52:40.791Z"
   },
   {
    "duration": 59,
    "start_time": "2021-12-09T17:52:40.804Z"
   },
   {
    "duration": 16,
    "start_time": "2021-12-09T17:52:40.865Z"
   },
   {
    "duration": 10,
    "start_time": "2021-12-09T17:52:40.884Z"
   },
   {
    "duration": 16,
    "start_time": "2021-12-09T17:52:40.897Z"
   },
   {
    "duration": 15,
    "start_time": "2021-12-09T17:52:47.190Z"
   },
   {
    "duration": 8,
    "start_time": "2021-12-09T17:52:47.779Z"
   },
   {
    "duration": 15,
    "start_time": "2021-12-09T17:52:50.565Z"
   },
   {
    "duration": 12,
    "start_time": "2021-12-09T17:53:11.037Z"
   },
   {
    "duration": 17,
    "start_time": "2021-12-09T17:53:40.929Z"
   },
   {
    "duration": 12,
    "start_time": "2021-12-09T17:54:41.904Z"
   },
   {
    "duration": 12,
    "start_time": "2021-12-09T17:54:42.887Z"
   },
   {
    "duration": 31,
    "start_time": "2021-12-09T17:54:45.272Z"
   },
   {
    "duration": 5,
    "start_time": "2021-12-09T17:54:46.443Z"
   },
   {
    "duration": 6,
    "start_time": "2021-12-09T17:54:49.179Z"
   },
   {
    "duration": 4,
    "start_time": "2021-12-09T17:54:49.791Z"
   },
   {
    "duration": 13,
    "start_time": "2021-12-09T17:54:50.425Z"
   },
   {
    "duration": 20,
    "start_time": "2021-12-09T17:54:50.955Z"
   },
   {
    "duration": 46,
    "start_time": "2021-12-09T17:54:55.527Z"
   },
   {
    "duration": 48,
    "start_time": "2021-12-09T17:55:24.936Z"
   },
   {
    "duration": 76,
    "start_time": "2021-12-09T19:11:25.377Z"
   },
   {
    "duration": 14,
    "start_time": "2021-12-09T19:11:25.455Z"
   },
   {
    "duration": 13,
    "start_time": "2021-12-09T19:11:25.473Z"
   },
   {
    "duration": 20,
    "start_time": "2021-12-09T19:11:25.489Z"
   },
   {
    "duration": 64,
    "start_time": "2021-12-09T19:11:25.512Z"
   },
   {
    "duration": 10,
    "start_time": "2021-12-09T19:11:25.579Z"
   },
   {
    "duration": 28,
    "start_time": "2021-12-09T19:11:25.591Z"
   },
   {
    "duration": 38,
    "start_time": "2021-12-09T19:11:25.623Z"
   },
   {
    "duration": 64,
    "start_time": "2021-12-09T19:11:25.664Z"
   },
   {
    "duration": 29,
    "start_time": "2021-12-09T19:11:25.731Z"
   },
   {
    "duration": 6,
    "start_time": "2021-12-09T19:11:25.763Z"
   },
   {
    "duration": 88,
    "start_time": "2021-12-09T19:11:25.771Z"
   },
   {
    "duration": 15,
    "start_time": "2021-12-09T19:11:25.862Z"
   },
   {
    "duration": 6,
    "start_time": "2021-12-09T19:11:25.879Z"
   },
   {
    "duration": 8,
    "start_time": "2021-12-09T19:11:25.887Z"
   },
   {
    "duration": 21,
    "start_time": "2021-12-09T19:11:25.897Z"
   },
   {
    "duration": 54,
    "start_time": "2021-12-09T19:11:25.920Z"
   },
   {
    "duration": 24,
    "start_time": "2021-12-09T19:11:25.977Z"
   },
   {
    "duration": 22,
    "start_time": "2021-12-09T19:11:26.003Z"
   },
   {
    "duration": 29,
    "start_time": "2021-12-09T19:11:26.059Z"
   },
   {
    "duration": 975,
    "start_time": "2021-12-09T19:11:26.091Z"
   },
   {
    "duration": 6,
    "start_time": "2021-12-09T19:11:27.070Z"
   },
   {
    "duration": 5276,
    "start_time": "2021-12-09T19:11:27.084Z"
   },
   {
    "duration": 15,
    "start_time": "2021-12-09T19:11:32.363Z"
   },
   {
    "duration": 24,
    "start_time": "2021-12-09T19:11:32.380Z"
   },
   {
    "duration": 15,
    "start_time": "2021-12-09T19:11:32.407Z"
   },
   {
    "duration": 48,
    "start_time": "2021-12-09T19:11:32.425Z"
   },
   {
    "duration": 13,
    "start_time": "2021-12-09T19:11:32.475Z"
   },
   {
    "duration": 12,
    "start_time": "2021-12-09T19:11:32.490Z"
   },
   {
    "duration": 9,
    "start_time": "2021-12-09T19:11:32.504Z"
   },
   {
    "duration": 59,
    "start_time": "2021-12-09T19:11:32.515Z"
   },
   {
    "duration": 15,
    "start_time": "2021-12-09T19:11:32.577Z"
   },
   {
    "duration": 7,
    "start_time": "2021-12-09T19:11:32.594Z"
   },
   {
    "duration": 11,
    "start_time": "2021-12-09T19:11:32.604Z"
   },
   {
    "duration": 51,
    "start_time": "2021-12-09T19:11:32.618Z"
   },
   {
    "duration": 33,
    "start_time": "2021-12-09T19:11:32.672Z"
   },
   {
    "duration": 5,
    "start_time": "2021-12-09T19:11:32.708Z"
   },
   {
    "duration": 46,
    "start_time": "2021-12-09T19:11:32.715Z"
   },
   {
    "duration": 4,
    "start_time": "2021-12-09T19:11:32.763Z"
   },
   {
    "duration": 15,
    "start_time": "2021-12-09T19:11:32.769Z"
   },
   {
    "duration": 20,
    "start_time": "2021-12-09T19:11:32.786Z"
   },
   {
    "duration": 86,
    "start_time": "2021-12-09T19:11:32.808Z"
   },
   {
    "duration": 46,
    "start_time": "2021-12-09T19:11:32.897Z"
   },
   {
    "duration": 50,
    "start_time": "2021-12-09T19:11:32.959Z"
   },
   {
    "duration": 67,
    "start_time": "2021-12-09T19:11:33.011Z"
   },
   {
    "duration": 29,
    "start_time": "2021-12-09T19:24:28.239Z"
   },
   {
    "duration": 83,
    "start_time": "2021-12-09T19:24:34.190Z"
   },
   {
    "duration": 15,
    "start_time": "2021-12-09T19:24:34.276Z"
   },
   {
    "duration": 13,
    "start_time": "2021-12-09T19:24:34.294Z"
   },
   {
    "duration": 57,
    "start_time": "2021-12-09T19:24:34.311Z"
   },
   {
    "duration": 20,
    "start_time": "2021-12-09T19:24:34.370Z"
   },
   {
    "duration": 10,
    "start_time": "2021-12-09T19:24:34.393Z"
   },
   {
    "duration": 63,
    "start_time": "2021-12-09T19:24:34.405Z"
   },
   {
    "duration": 12,
    "start_time": "2021-12-09T19:24:34.471Z"
   },
   {
    "duration": 92,
    "start_time": "2021-12-09T19:24:34.488Z"
   },
   {
    "duration": 6,
    "start_time": "2021-12-09T19:24:34.583Z"
   },
   {
    "duration": 11,
    "start_time": "2021-12-09T19:24:34.592Z"
   },
   {
    "duration": 99,
    "start_time": "2021-12-09T19:24:34.605Z"
   },
   {
    "duration": 13,
    "start_time": "2021-12-09T19:24:34.707Z"
   },
   {
    "duration": 6,
    "start_time": "2021-12-09T19:24:34.723Z"
   },
   {
    "duration": 42,
    "start_time": "2021-12-09T19:24:34.731Z"
   },
   {
    "duration": 21,
    "start_time": "2021-12-09T19:24:34.775Z"
   },
   {
    "duration": 24,
    "start_time": "2021-12-09T19:24:34.799Z"
   },
   {
    "duration": 22,
    "start_time": "2021-12-09T19:24:41.853Z"
   },
   {
    "duration": 24,
    "start_time": "2021-12-09T19:25:06.725Z"
   },
   {
    "duration": 23,
    "start_time": "2021-12-09T19:25:07.331Z"
   },
   {
    "duration": 13,
    "start_time": "2021-12-09T19:52:02.386Z"
   },
   {
    "duration": 13,
    "start_time": "2021-12-09T19:52:03.822Z"
   },
   {
    "duration": 50,
    "start_time": "2021-12-09T20:00:34.147Z"
   },
   {
    "duration": 410,
    "start_time": "2021-12-09T20:01:02.165Z"
   },
   {
    "duration": 78,
    "start_time": "2021-12-09T20:01:59.256Z"
   },
   {
    "duration": 35,
    "start_time": "2021-12-09T20:01:59.336Z"
   },
   {
    "duration": 12,
    "start_time": "2021-12-09T20:01:59.374Z"
   },
   {
    "duration": 20,
    "start_time": "2021-12-09T20:01:59.389Z"
   },
   {
    "duration": 59,
    "start_time": "2021-12-09T20:01:59.412Z"
   },
   {
    "duration": 10,
    "start_time": "2021-12-09T20:01:59.473Z"
   },
   {
    "duration": 27,
    "start_time": "2021-12-09T20:01:59.485Z"
   },
   {
    "duration": 10,
    "start_time": "2021-12-09T20:01:59.515Z"
   },
   {
    "duration": 81,
    "start_time": "2021-12-09T20:01:59.559Z"
   },
   {
    "duration": 6,
    "start_time": "2021-12-09T20:01:59.660Z"
   },
   {
    "duration": 6,
    "start_time": "2021-12-09T20:01:59.668Z"
   },
   {
    "duration": 100,
    "start_time": "2021-12-09T20:01:59.676Z"
   },
   {
    "duration": 18,
    "start_time": "2021-12-09T20:01:59.779Z"
   },
   {
    "duration": 6,
    "start_time": "2021-12-09T20:01:59.800Z"
   },
   {
    "duration": 51,
    "start_time": "2021-12-09T20:01:59.808Z"
   },
   {
    "duration": 22,
    "start_time": "2021-12-09T20:01:59.861Z"
   },
   {
    "duration": 25,
    "start_time": "2021-12-09T20:01:59.885Z"
   },
   {
    "duration": 55,
    "start_time": "2021-12-09T20:01:59.912Z"
   },
   {
    "duration": 29,
    "start_time": "2021-12-09T20:01:59.969Z"
   },
   {
    "duration": 998,
    "start_time": "2021-12-09T20:02:00.001Z"
   },
   {
    "duration": 7,
    "start_time": "2021-12-09T20:02:01.003Z"
   },
   {
    "duration": 5049,
    "start_time": "2021-12-09T20:02:01.013Z"
   },
   {
    "duration": 16,
    "start_time": "2021-12-09T20:02:06.069Z"
   },
   {
    "duration": 24,
    "start_time": "2021-12-09T20:02:06.087Z"
   },
   {
    "duration": 50,
    "start_time": "2021-12-09T20:02:06.114Z"
   },
   {
    "duration": 17,
    "start_time": "2021-12-09T20:02:06.167Z"
   },
   {
    "duration": 15,
    "start_time": "2021-12-09T20:02:06.187Z"
   },
   {
    "duration": 14,
    "start_time": "2021-12-09T20:02:06.205Z"
   },
   {
    "duration": 10,
    "start_time": "2021-12-09T20:02:06.259Z"
   },
   {
    "duration": 18,
    "start_time": "2021-12-09T20:02:06.271Z"
   },
   {
    "duration": 9,
    "start_time": "2021-12-09T20:02:06.291Z"
   },
   {
    "duration": 11,
    "start_time": "2021-12-09T20:02:06.302Z"
   },
   {
    "duration": 50,
    "start_time": "2021-12-09T20:02:06.315Z"
   },
   {
    "duration": 4,
    "start_time": "2021-12-09T20:02:06.368Z"
   },
   {
    "duration": 17,
    "start_time": "2021-12-09T20:02:06.374Z"
   },
   {
    "duration": 21,
    "start_time": "2021-12-09T20:02:06.393Z"
   },
   {
    "duration": 76,
    "start_time": "2021-12-09T20:02:06.416Z"
   },
   {
    "duration": 66,
    "start_time": "2021-12-09T20:02:06.495Z"
   },
   {
    "duration": 51,
    "start_time": "2021-12-09T20:02:11.187Z"
   },
   {
    "duration": 48,
    "start_time": "2021-12-09T20:02:48.037Z"
   },
   {
    "duration": 109,
    "start_time": "2021-12-09T20:05:20.153Z"
   },
   {
    "duration": 20,
    "start_time": "2021-12-09T20:05:20.265Z"
   },
   {
    "duration": 14,
    "start_time": "2021-12-09T20:05:20.288Z"
   },
   {
    "duration": 55,
    "start_time": "2021-12-09T20:05:20.305Z"
   },
   {
    "duration": 24,
    "start_time": "2021-12-09T20:05:20.363Z"
   },
   {
    "duration": 12,
    "start_time": "2021-12-09T20:05:20.389Z"
   },
   {
    "duration": 59,
    "start_time": "2021-12-09T20:05:20.404Z"
   },
   {
    "duration": 12,
    "start_time": "2021-12-09T20:05:20.466Z"
   },
   {
    "duration": 95,
    "start_time": "2021-12-09T20:05:20.484Z"
   },
   {
    "duration": 7,
    "start_time": "2021-12-09T20:05:20.583Z"
   },
   {
    "duration": 7,
    "start_time": "2021-12-09T20:05:20.593Z"
   },
   {
    "duration": 118,
    "start_time": "2021-12-09T20:05:20.603Z"
   },
   {
    "duration": 16,
    "start_time": "2021-12-09T20:05:20.723Z"
   },
   {
    "duration": 8,
    "start_time": "2021-12-09T20:05:20.761Z"
   },
   {
    "duration": 22,
    "start_time": "2021-12-09T20:05:20.771Z"
   },
   {
    "duration": 24,
    "start_time": "2021-12-09T20:05:20.797Z"
   },
   {
    "duration": 59,
    "start_time": "2021-12-09T20:05:20.823Z"
   },
   {
    "duration": 25,
    "start_time": "2021-12-09T20:05:20.884Z"
   },
   {
    "duration": 60,
    "start_time": "2021-12-09T20:05:20.911Z"
   },
   {
    "duration": 1017,
    "start_time": "2021-12-09T20:05:20.975Z"
   },
   {
    "duration": 7,
    "start_time": "2021-12-09T20:05:21.996Z"
   },
   {
    "duration": 5476,
    "start_time": "2021-12-09T20:05:22.006Z"
   },
   {
    "duration": 14,
    "start_time": "2021-12-09T20:05:27.484Z"
   },
   {
    "duration": 26,
    "start_time": "2021-12-09T20:05:27.500Z"
   },
   {
    "duration": 43,
    "start_time": "2021-12-09T20:05:27.528Z"
   },
   {
    "duration": 15,
    "start_time": "2021-12-09T20:05:27.573Z"
   },
   {
    "duration": 13,
    "start_time": "2021-12-09T20:05:27.593Z"
   },
   {
    "duration": 12,
    "start_time": "2021-12-09T20:05:27.609Z"
   },
   {
    "duration": 42,
    "start_time": "2021-12-09T20:05:27.623Z"
   },
   {
    "duration": 15,
    "start_time": "2021-12-09T20:05:27.667Z"
   },
   {
    "duration": 8,
    "start_time": "2021-12-09T20:05:27.684Z"
   },
   {
    "duration": 11,
    "start_time": "2021-12-09T20:05:27.695Z"
   },
   {
    "duration": 52,
    "start_time": "2021-12-09T20:05:27.708Z"
   },
   {
    "duration": 4,
    "start_time": "2021-12-09T20:05:27.763Z"
   },
   {
    "duration": 14,
    "start_time": "2021-12-09T20:05:27.769Z"
   },
   {
    "duration": 19,
    "start_time": "2021-12-09T20:05:27.785Z"
   },
   {
    "duration": 80,
    "start_time": "2021-12-09T20:05:27.806Z"
   },
   {
    "duration": 48,
    "start_time": "2021-12-09T20:05:27.888Z"
   },
   {
    "duration": 67,
    "start_time": "2021-12-09T20:05:27.938Z"
   },
   {
    "duration": 72,
    "start_time": "2021-12-09T20:05:28.007Z"
   },
   {
    "duration": 453,
    "start_time": "2021-12-10T11:57:11.937Z"
   },
   {
    "duration": 115,
    "start_time": "2021-12-10T11:57:56.322Z"
   },
   {
    "duration": 135,
    "start_time": "2021-12-10T12:09:13.457Z"
   },
   {
    "duration": 646,
    "start_time": "2021-12-11T14:06:06.302Z"
   },
   {
    "duration": 10,
    "start_time": "2021-12-11T14:06:06.950Z"
   },
   {
    "duration": 9,
    "start_time": "2021-12-11T14:06:06.962Z"
   },
   {
    "duration": 24,
    "start_time": "2021-12-11T14:06:06.973Z"
   },
   {
    "duration": 14,
    "start_time": "2021-12-11T14:06:06.998Z"
   },
   {
    "duration": 6,
    "start_time": "2021-12-11T14:06:07.013Z"
   },
   {
    "duration": 21,
    "start_time": "2021-12-11T14:06:07.021Z"
   },
   {
    "duration": 7,
    "start_time": "2021-12-11T14:06:07.044Z"
   },
   {
    "duration": 81,
    "start_time": "2021-12-11T14:06:07.052Z"
   },
   {
    "duration": 4,
    "start_time": "2021-12-11T14:06:07.134Z"
   },
   {
    "duration": 6,
    "start_time": "2021-12-11T14:06:07.140Z"
   },
   {
    "duration": 72,
    "start_time": "2021-12-11T14:06:07.148Z"
   },
   {
    "duration": 11,
    "start_time": "2021-12-11T14:06:07.222Z"
   },
   {
    "duration": 7,
    "start_time": "2021-12-11T14:06:07.234Z"
   },
   {
    "duration": 14,
    "start_time": "2021-12-11T14:06:07.243Z"
   },
   {
    "duration": 12,
    "start_time": "2021-12-11T14:06:09.766Z"
   },
   {
    "duration": 9,
    "start_time": "2021-12-11T14:08:50.655Z"
   },
   {
    "duration": 59,
    "start_time": "2021-12-11T14:09:03.021Z"
   },
   {
    "duration": 11,
    "start_time": "2021-12-11T14:09:03.082Z"
   },
   {
    "duration": 8,
    "start_time": "2021-12-11T14:09:03.095Z"
   },
   {
    "duration": 13,
    "start_time": "2021-12-11T14:09:03.105Z"
   },
   {
    "duration": 12,
    "start_time": "2021-12-11T14:09:03.120Z"
   },
   {
    "duration": 6,
    "start_time": "2021-12-11T14:09:03.133Z"
   },
   {
    "duration": 54,
    "start_time": "2021-12-11T14:09:03.141Z"
   },
   {
    "duration": 6,
    "start_time": "2021-12-11T14:09:03.198Z"
   },
   {
    "duration": 43,
    "start_time": "2021-12-11T14:09:03.206Z"
   },
   {
    "duration": 4,
    "start_time": "2021-12-11T14:09:03.251Z"
   },
   {
    "duration": 5,
    "start_time": "2021-12-11T14:09:03.256Z"
   },
   {
    "duration": 71,
    "start_time": "2021-12-11T14:09:03.262Z"
   },
   {
    "duration": 10,
    "start_time": "2021-12-11T14:09:03.334Z"
   },
   {
    "duration": 8,
    "start_time": "2021-12-11T14:09:03.345Z"
   },
   {
    "duration": 15,
    "start_time": "2021-12-11T14:09:03.354Z"
   },
   {
    "duration": 24,
    "start_time": "2021-12-11T14:09:03.370Z"
   },
   {
    "duration": 7,
    "start_time": "2021-12-11T14:13:28.649Z"
   },
   {
    "duration": 7,
    "start_time": "2021-12-11T14:14:26.222Z"
   },
   {
    "duration": 10,
    "start_time": "2021-12-11T14:14:27.117Z"
   },
   {
    "duration": 18,
    "start_time": "2021-12-11T14:14:38.679Z"
   },
   {
    "duration": 18,
    "start_time": "2021-12-11T14:14:40.659Z"
   },
   {
    "duration": 16,
    "start_time": "2021-12-11T14:14:42.150Z"
   },
   {
    "duration": 9,
    "start_time": "2021-12-11T14:22:15.208Z"
   },
   {
    "duration": 60,
    "start_time": "2021-12-11T14:22:23.597Z"
   },
   {
    "duration": 9,
    "start_time": "2021-12-11T14:22:23.659Z"
   },
   {
    "duration": 32,
    "start_time": "2021-12-11T14:22:23.669Z"
   },
   {
    "duration": 17,
    "start_time": "2021-12-11T14:22:23.703Z"
   },
   {
    "duration": 30,
    "start_time": "2021-12-11T14:22:23.722Z"
   },
   {
    "duration": 19,
    "start_time": "2021-12-11T14:22:23.754Z"
   },
   {
    "duration": 31,
    "start_time": "2021-12-11T14:22:23.775Z"
   },
   {
    "duration": 6,
    "start_time": "2021-12-11T14:22:23.808Z"
   },
   {
    "duration": 62,
    "start_time": "2021-12-11T14:22:23.815Z"
   },
   {
    "duration": 4,
    "start_time": "2021-12-11T14:22:23.878Z"
   },
   {
    "duration": 10,
    "start_time": "2021-12-11T14:22:23.883Z"
   },
   {
    "duration": 49,
    "start_time": "2021-12-11T14:22:23.894Z"
   },
   {
    "duration": 10,
    "start_time": "2021-12-11T14:22:23.945Z"
   },
   {
    "duration": 21,
    "start_time": "2021-12-11T14:22:23.956Z"
   },
   {
    "duration": 21,
    "start_time": "2021-12-11T14:22:23.978Z"
   },
   {
    "duration": 20,
    "start_time": "2021-12-11T14:22:24.001Z"
   },
   {
    "duration": 7,
    "start_time": "2021-12-11T14:22:37.137Z"
   },
   {
    "duration": 11,
    "start_time": "2021-12-11T14:22:48.503Z"
   },
   {
    "duration": 18,
    "start_time": "2021-12-11T14:22:49.681Z"
   },
   {
    "duration": 18,
    "start_time": "2021-12-11T14:22:52.365Z"
   },
   {
    "duration": 16,
    "start_time": "2021-12-11T14:22:54.175Z"
   },
   {
    "duration": 8,
    "start_time": "2021-12-11T14:44:53.270Z"
   },
   {
    "duration": 60,
    "start_time": "2021-12-11T14:45:08.566Z"
   },
   {
    "duration": 10,
    "start_time": "2021-12-11T14:45:08.627Z"
   },
   {
    "duration": 23,
    "start_time": "2021-12-11T14:45:08.639Z"
   },
   {
    "duration": 31,
    "start_time": "2021-12-11T14:45:08.664Z"
   },
   {
    "duration": 13,
    "start_time": "2021-12-11T14:45:08.696Z"
   },
   {
    "duration": 15,
    "start_time": "2021-12-11T14:45:08.710Z"
   },
   {
    "duration": 37,
    "start_time": "2021-12-11T14:45:08.727Z"
   },
   {
    "duration": 7,
    "start_time": "2021-12-11T14:45:08.766Z"
   },
   {
    "duration": 68,
    "start_time": "2021-12-11T14:45:08.774Z"
   },
   {
    "duration": 3,
    "start_time": "2021-12-11T14:45:08.844Z"
   },
   {
    "duration": 10,
    "start_time": "2021-12-11T14:45:08.849Z"
   },
   {
    "duration": 61,
    "start_time": "2021-12-11T14:45:08.861Z"
   },
   {
    "duration": 9,
    "start_time": "2021-12-11T14:45:08.924Z"
   },
   {
    "duration": 11,
    "start_time": "2021-12-11T14:45:08.935Z"
   },
   {
    "duration": 17,
    "start_time": "2021-12-11T14:45:08.948Z"
   },
   {
    "duration": 6,
    "start_time": "2021-12-11T14:45:08.967Z"
   },
   {
    "duration": 25,
    "start_time": "2021-12-11T14:45:08.974Z"
   },
   {
    "duration": 16,
    "start_time": "2021-12-11T14:45:09.001Z"
   },
   {
    "duration": 16,
    "start_time": "2021-12-11T14:45:09.019Z"
   },
   {
    "duration": 15,
    "start_time": "2021-12-11T14:45:09.036Z"
   },
   {
    "duration": 4,
    "start_time": "2021-12-11T14:45:09.052Z"
   },
   {
    "duration": 676,
    "start_time": "2021-12-11T14:45:09.058Z"
   },
   {
    "duration": 3,
    "start_time": "2021-12-11T14:45:09.738Z"
   },
   {
    "duration": 3439,
    "start_time": "2021-12-11T14:45:09.743Z"
   },
   {
    "duration": 11,
    "start_time": "2021-12-11T14:45:13.191Z"
   },
   {
    "duration": 8,
    "start_time": "2021-12-11T14:45:13.204Z"
   },
   {
    "duration": 13,
    "start_time": "2021-12-11T14:45:13.213Z"
   },
   {
    "duration": 10,
    "start_time": "2021-12-11T14:45:13.227Z"
   },
   {
    "duration": 8,
    "start_time": "2021-12-11T14:45:13.239Z"
   },
   {
    "duration": 8,
    "start_time": "2021-12-11T14:45:13.249Z"
   },
   {
    "duration": 8,
    "start_time": "2021-12-11T14:45:13.292Z"
   },
   {
    "duration": 14,
    "start_time": "2021-12-11T14:45:13.302Z"
   },
   {
    "duration": 6,
    "start_time": "2021-12-11T14:45:13.318Z"
   },
   {
    "duration": 9,
    "start_time": "2021-12-11T14:45:13.326Z"
   },
   {
    "duration": 8,
    "start_time": "2021-12-11T14:45:13.337Z"
   },
   {
    "duration": 62,
    "start_time": "2021-12-11T14:45:21.516Z"
   },
   {
    "duration": 10,
    "start_time": "2021-12-11T14:45:21.580Z"
   },
   {
    "duration": 9,
    "start_time": "2021-12-11T14:45:21.592Z"
   },
   {
    "duration": 13,
    "start_time": "2021-12-11T14:45:21.603Z"
   },
   {
    "duration": 12,
    "start_time": "2021-12-11T14:45:21.618Z"
   },
   {
    "duration": 6,
    "start_time": "2021-12-11T14:45:21.632Z"
   },
   {
    "duration": 53,
    "start_time": "2021-12-11T14:45:21.640Z"
   },
   {
    "duration": 7,
    "start_time": "2021-12-11T14:45:21.696Z"
   },
   {
    "duration": 45,
    "start_time": "2021-12-11T14:45:21.705Z"
   },
   {
    "duration": 5,
    "start_time": "2021-12-11T14:45:21.752Z"
   },
   {
    "duration": 5,
    "start_time": "2021-12-11T14:45:21.758Z"
   },
   {
    "duration": 68,
    "start_time": "2021-12-11T14:45:21.764Z"
   },
   {
    "duration": 10,
    "start_time": "2021-12-11T14:45:21.834Z"
   },
   {
    "duration": 5,
    "start_time": "2021-12-11T14:45:21.846Z"
   },
   {
    "duration": 40,
    "start_time": "2021-12-11T14:45:21.852Z"
   },
   {
    "duration": 8,
    "start_time": "2021-12-11T14:45:21.894Z"
   },
   {
    "duration": 13,
    "start_time": "2021-12-11T14:45:21.903Z"
   },
   {
    "duration": 17,
    "start_time": "2021-12-11T14:45:21.918Z"
   },
   {
    "duration": 18,
    "start_time": "2021-12-11T14:45:21.936Z"
   },
   {
    "duration": 51,
    "start_time": "2021-12-11T14:45:21.955Z"
   },
   {
    "duration": 18,
    "start_time": "2021-12-11T14:45:22.008Z"
   },
   {
    "duration": 666,
    "start_time": "2021-12-11T14:45:22.028Z"
   },
   {
    "duration": 3,
    "start_time": "2021-12-11T14:45:22.698Z"
   },
   {
    "duration": 3363,
    "start_time": "2021-12-11T14:45:22.703Z"
   },
   {
    "duration": 24,
    "start_time": "2021-12-11T14:45:26.068Z"
   },
   {
    "duration": 7,
    "start_time": "2021-12-11T14:45:26.094Z"
   },
   {
    "duration": 11,
    "start_time": "2021-12-11T14:45:26.103Z"
   },
   {
    "duration": 10,
    "start_time": "2021-12-11T14:45:26.115Z"
   },
   {
    "duration": 8,
    "start_time": "2021-12-11T14:45:26.127Z"
   },
   {
    "duration": 8,
    "start_time": "2021-12-11T14:45:26.137Z"
   },
   {
    "duration": 7,
    "start_time": "2021-12-11T14:45:26.146Z"
   },
   {
    "duration": 49,
    "start_time": "2021-12-11T14:45:26.154Z"
   },
   {
    "duration": 5,
    "start_time": "2021-12-11T14:45:26.205Z"
   },
   {
    "duration": 9,
    "start_time": "2021-12-11T14:45:26.211Z"
   },
   {
    "duration": 8,
    "start_time": "2021-12-11T14:45:26.221Z"
   },
   {
    "duration": 3,
    "start_time": "2021-12-11T14:45:26.230Z"
   },
   {
    "duration": 9,
    "start_time": "2021-12-11T14:45:26.235Z"
   },
   {
    "duration": 46,
    "start_time": "2021-12-11T14:45:26.246Z"
   },
   {
    "duration": 34,
    "start_time": "2021-12-11T14:45:26.294Z"
   },
   {
    "duration": 31,
    "start_time": "2021-12-11T14:45:26.329Z"
   },
   {
    "duration": 54,
    "start_time": "2021-12-11T14:45:26.362Z"
   },
   {
    "duration": 33,
    "start_time": "2021-12-11T14:45:29.257Z"
   },
   {
    "duration": 621,
    "start_time": "2021-12-11T20:34:03.363Z"
   },
   {
    "duration": 9,
    "start_time": "2021-12-11T20:34:03.986Z"
   },
   {
    "duration": 10,
    "start_time": "2021-12-11T20:34:03.996Z"
   },
   {
    "duration": 10,
    "start_time": "2021-12-11T20:34:04.008Z"
   },
   {
    "duration": 10,
    "start_time": "2021-12-11T20:34:04.020Z"
   },
   {
    "duration": 5,
    "start_time": "2021-12-11T20:34:04.032Z"
   },
   {
    "duration": 17,
    "start_time": "2021-12-11T20:34:04.039Z"
   },
   {
    "duration": 32,
    "start_time": "2021-12-11T20:34:04.058Z"
   },
   {
    "duration": 41,
    "start_time": "2021-12-11T20:34:04.092Z"
   },
   {
    "duration": 3,
    "start_time": "2021-12-11T20:34:04.135Z"
   },
   {
    "duration": 9,
    "start_time": "2021-12-11T20:34:04.140Z"
   },
   {
    "duration": 58,
    "start_time": "2021-12-11T20:34:04.151Z"
   },
   {
    "duration": 8,
    "start_time": "2021-12-11T20:34:04.211Z"
   },
   {
    "duration": 4,
    "start_time": "2021-12-11T20:34:04.221Z"
   },
   {
    "duration": 12,
    "start_time": "2021-12-11T20:34:04.226Z"
   },
   {
    "duration": 6,
    "start_time": "2021-12-11T20:34:04.239Z"
   },
   {
    "duration": 12,
    "start_time": "2021-12-11T20:34:04.246Z"
   },
   {
    "duration": 37,
    "start_time": "2021-12-11T20:34:04.259Z"
   },
   {
    "duration": 15,
    "start_time": "2021-12-11T20:34:04.298Z"
   },
   {
    "duration": 13,
    "start_time": "2021-12-11T20:34:04.314Z"
   },
   {
    "duration": 4,
    "start_time": "2021-12-11T20:34:04.328Z"
   },
   {
    "duration": 629,
    "start_time": "2021-12-11T20:34:04.333Z"
   },
   {
    "duration": 3,
    "start_time": "2021-12-11T20:34:04.965Z"
   },
   {
    "duration": 3143,
    "start_time": "2021-12-11T20:34:04.970Z"
   },
   {
    "duration": 9,
    "start_time": "2021-12-11T20:34:08.115Z"
   },
   {
    "duration": 7,
    "start_time": "2021-12-11T20:34:08.126Z"
   },
   {
    "duration": 10,
    "start_time": "2021-12-11T20:34:08.134Z"
   },
   {
    "duration": 10,
    "start_time": "2021-12-11T20:34:08.145Z"
   },
   {
    "duration": 32,
    "start_time": "2021-12-11T20:34:08.156Z"
   },
   {
    "duration": 7,
    "start_time": "2021-12-11T20:34:08.190Z"
   },
   {
    "duration": 6,
    "start_time": "2021-12-11T20:34:08.199Z"
   },
   {
    "duration": 10,
    "start_time": "2021-12-11T20:34:08.206Z"
   },
   {
    "duration": 5,
    "start_time": "2021-12-11T20:34:08.217Z"
   },
   {
    "duration": 7,
    "start_time": "2021-12-11T20:34:08.223Z"
   },
   {
    "duration": 8,
    "start_time": "2021-12-11T20:34:08.232Z"
   },
   {
    "duration": 2,
    "start_time": "2021-12-11T20:34:08.241Z"
   },
   {
    "duration": 7,
    "start_time": "2021-12-11T20:34:08.288Z"
   },
   {
    "duration": 12,
    "start_time": "2021-12-11T20:34:08.296Z"
   },
   {
    "duration": 27,
    "start_time": "2021-12-11T20:34:08.309Z"
   },
   {
    "duration": 26,
    "start_time": "2021-12-11T20:34:08.338Z"
   },
   {
    "duration": 46,
    "start_time": "2021-12-11T20:34:08.366Z"
   },
   {
    "duration": 29,
    "start_time": "2021-12-11T20:34:08.414Z"
   },
   {
    "duration": 79,
    "start_time": "2021-12-11T20:48:40.856Z"
   },
   {
    "duration": 79,
    "start_time": "2021-12-11T20:49:29.899Z"
   },
   {
    "duration": 415,
    "start_time": "2021-12-13T11:40:34.702Z"
   },
   {
    "duration": 1135,
    "start_time": "2021-12-13T11:40:39.491Z"
   },
   {
    "duration": 22,
    "start_time": "2021-12-13T11:40:40.630Z"
   },
   {
    "duration": 19,
    "start_time": "2021-12-13T11:40:40.669Z"
   },
   {
    "duration": 29,
    "start_time": "2021-12-13T11:40:40.692Z"
   },
   {
    "duration": 54,
    "start_time": "2021-12-13T11:40:40.723Z"
   },
   {
    "duration": 21,
    "start_time": "2021-12-13T11:40:40.780Z"
   },
   {
    "duration": 32,
    "start_time": "2021-12-13T11:40:40.804Z"
   },
   {
    "duration": 32,
    "start_time": "2021-12-13T11:40:40.840Z"
   },
   {
    "duration": 79,
    "start_time": "2021-12-13T11:40:40.875Z"
   },
   {
    "duration": 7,
    "start_time": "2021-12-13T11:40:40.968Z"
   },
   {
    "duration": 23,
    "start_time": "2021-12-13T11:40:40.977Z"
   },
   {
    "duration": 114,
    "start_time": "2021-12-13T11:40:41.003Z"
   },
   {
    "duration": 21,
    "start_time": "2021-12-13T11:40:41.120Z"
   },
   {
    "duration": 23,
    "start_time": "2021-12-13T11:40:41.144Z"
   },
   {
    "duration": 25,
    "start_time": "2021-12-13T11:40:41.170Z"
   },
   {
    "duration": 20,
    "start_time": "2021-12-13T11:40:41.197Z"
   },
   {
    "duration": 25,
    "start_time": "2021-12-13T11:40:41.219Z"
   },
   {
    "duration": 37,
    "start_time": "2021-12-13T11:40:41.266Z"
   },
   {
    "duration": 36,
    "start_time": "2021-12-13T11:40:41.306Z"
   },
   {
    "duration": 33,
    "start_time": "2021-12-13T11:40:41.367Z"
   },
   {
    "duration": 8,
    "start_time": "2021-12-13T11:40:41.403Z"
   },
   {
    "duration": 983,
    "start_time": "2021-12-13T11:40:41.414Z"
   },
   {
    "duration": 7,
    "start_time": "2021-12-13T11:40:42.405Z"
   },
   {
    "duration": 5329,
    "start_time": "2021-12-13T11:40:42.415Z"
   },
   {
    "duration": 29,
    "start_time": "2021-12-13T11:40:47.747Z"
   },
   {
    "duration": 13,
    "start_time": "2021-12-13T11:40:47.778Z"
   },
   {
    "duration": 18,
    "start_time": "2021-12-13T11:40:47.794Z"
   },
   {
    "duration": 57,
    "start_time": "2021-12-13T11:40:47.814Z"
   },
   {
    "duration": 13,
    "start_time": "2021-12-13T11:40:47.874Z"
   },
   {
    "duration": 17,
    "start_time": "2021-12-13T11:40:47.890Z"
   },
   {
    "duration": 9,
    "start_time": "2021-12-13T11:40:47.910Z"
   },
   {
    "duration": 53,
    "start_time": "2021-12-13T11:40:47.922Z"
   },
   {
    "duration": 8,
    "start_time": "2021-12-13T11:40:47.977Z"
   },
   {
    "duration": 24,
    "start_time": "2021-12-13T11:40:47.987Z"
   },
   {
    "duration": 18,
    "start_time": "2021-12-13T11:40:48.013Z"
   },
   {
    "duration": 83,
    "start_time": "2021-12-13T11:40:48.033Z"
   },
   {
    "duration": 17,
    "start_time": "2021-12-13T11:42:25.155Z"
   },
   {
    "duration": 11,
    "start_time": "2021-12-13T11:49:34.283Z"
   },
   {
    "duration": 79,
    "start_time": "2021-12-13T11:50:14.119Z"
   },
   {
    "duration": 14,
    "start_time": "2021-12-13T11:50:14.201Z"
   },
   {
    "duration": 29,
    "start_time": "2021-12-13T11:50:14.218Z"
   },
   {
    "duration": 20,
    "start_time": "2021-12-13T11:50:14.267Z"
   },
   {
    "duration": 21,
    "start_time": "2021-12-13T11:50:14.289Z"
   },
   {
    "duration": 18,
    "start_time": "2021-12-13T11:50:14.312Z"
   },
   {
    "duration": 58,
    "start_time": "2021-12-13T11:50:14.333Z"
   },
   {
    "duration": 10,
    "start_time": "2021-12-13T11:50:14.395Z"
   },
   {
    "duration": 98,
    "start_time": "2021-12-13T11:50:14.408Z"
   },
   {
    "duration": 6,
    "start_time": "2021-12-13T11:50:14.509Z"
   },
   {
    "duration": 8,
    "start_time": "2021-12-13T11:50:14.517Z"
   },
   {
    "duration": 103,
    "start_time": "2021-12-13T11:50:14.527Z"
   },
   {
    "duration": 35,
    "start_time": "2021-12-13T11:50:14.633Z"
   },
   {
    "duration": 6,
    "start_time": "2021-12-13T11:50:14.671Z"
   },
   {
    "duration": 16,
    "start_time": "2021-12-13T11:50:14.679Z"
   },
   {
    "duration": 9,
    "start_time": "2021-12-13T11:50:14.698Z"
   },
   {
    "duration": 64,
    "start_time": "2021-12-13T11:50:14.710Z"
   },
   {
    "duration": 30,
    "start_time": "2021-12-13T11:50:14.776Z"
   },
   {
    "duration": 27,
    "start_time": "2021-12-13T11:50:14.808Z"
   },
   {
    "duration": 49,
    "start_time": "2021-12-13T11:50:14.837Z"
   },
   {
    "duration": 31,
    "start_time": "2021-12-13T11:50:14.889Z"
   },
   {
    "duration": 960,
    "start_time": "2021-12-13T11:50:14.923Z"
   },
   {
    "duration": 5,
    "start_time": "2021-12-13T11:50:15.888Z"
   },
   {
    "duration": 5516,
    "start_time": "2021-12-13T11:50:15.896Z"
   },
   {
    "duration": 17,
    "start_time": "2021-12-13T11:50:21.415Z"
   },
   {
    "duration": 40,
    "start_time": "2021-12-13T11:50:21.436Z"
   },
   {
    "duration": 39,
    "start_time": "2021-12-13T11:50:21.479Z"
   },
   {
    "duration": 23,
    "start_time": "2021-12-13T11:50:21.521Z"
   },
   {
    "duration": 29,
    "start_time": "2021-12-13T11:50:21.547Z"
   },
   {
    "duration": 14,
    "start_time": "2021-12-13T11:50:21.578Z"
   },
   {
    "duration": 11,
    "start_time": "2021-12-13T11:50:21.595Z"
   },
   {
    "duration": 65,
    "start_time": "2021-12-13T11:50:21.608Z"
   },
   {
    "duration": 8,
    "start_time": "2021-12-13T11:50:21.677Z"
   },
   {
    "duration": 18,
    "start_time": "2021-12-13T11:50:21.687Z"
   },
   {
    "duration": 59,
    "start_time": "2021-12-13T11:50:21.708Z"
   },
   {
    "duration": 16,
    "start_time": "2021-12-13T11:50:21.771Z"
   },
   {
    "duration": 1385,
    "start_time": "2022-04-27T17:34:23.043Z"
   },
   {
    "duration": 620,
    "start_time": "2022-04-27T17:37:52.472Z"
   },
   {
    "duration": 115,
    "start_time": "2022-04-27T17:37:53.096Z"
   },
   {
    "duration": 24,
    "start_time": "2022-04-27T17:37:53.214Z"
   },
   {
    "duration": 15,
    "start_time": "2022-04-27T17:37:53.243Z"
   },
   {
    "duration": 2049,
    "start_time": "2022-04-27T17:37:53.261Z"
   },
   {
    "duration": 0,
    "start_time": "2022-04-27T17:37:55.317Z"
   },
   {
    "duration": 0,
    "start_time": "2022-04-27T17:37:55.319Z"
   },
   {
    "duration": 0,
    "start_time": "2022-04-27T17:37:55.320Z"
   },
   {
    "duration": 0,
    "start_time": "2022-04-27T17:37:55.322Z"
   },
   {
    "duration": 0,
    "start_time": "2022-04-27T17:37:55.324Z"
   },
   {
    "duration": 0,
    "start_time": "2022-04-27T17:37:55.326Z"
   },
   {
    "duration": 0,
    "start_time": "2022-04-27T17:37:55.332Z"
   },
   {
    "duration": 0,
    "start_time": "2022-04-27T17:37:55.333Z"
   },
   {
    "duration": 0,
    "start_time": "2022-04-27T17:37:55.335Z"
   },
   {
    "duration": 1,
    "start_time": "2022-04-27T17:37:55.336Z"
   },
   {
    "duration": 0,
    "start_time": "2022-04-27T17:37:55.339Z"
   },
   {
    "duration": 0,
    "start_time": "2022-04-27T17:37:55.341Z"
   },
   {
    "duration": 0,
    "start_time": "2022-04-27T17:37:55.343Z"
   },
   {
    "duration": 0,
    "start_time": "2022-04-27T17:37:55.344Z"
   },
   {
    "duration": 0,
    "start_time": "2022-04-27T17:37:55.349Z"
   },
   {
    "duration": 0,
    "start_time": "2022-04-27T17:37:55.351Z"
   },
   {
    "duration": 0,
    "start_time": "2022-04-27T17:37:55.353Z"
   },
   {
    "duration": 0,
    "start_time": "2022-04-27T17:37:55.354Z"
   },
   {
    "duration": 0,
    "start_time": "2022-04-27T17:37:55.356Z"
   },
   {
    "duration": 0,
    "start_time": "2022-04-27T17:37:55.358Z"
   },
   {
    "duration": 0,
    "start_time": "2022-04-27T17:37:55.360Z"
   },
   {
    "duration": 0,
    "start_time": "2022-04-27T17:37:55.361Z"
   },
   {
    "duration": 0,
    "start_time": "2022-04-27T17:37:55.363Z"
   },
   {
    "duration": 0,
    "start_time": "2022-04-27T17:37:55.365Z"
   },
   {
    "duration": 0,
    "start_time": "2022-04-27T17:37:55.367Z"
   },
   {
    "duration": 0,
    "start_time": "2022-04-27T17:37:55.369Z"
   },
   {
    "duration": 0,
    "start_time": "2022-04-27T17:37:55.371Z"
   },
   {
    "duration": 0,
    "start_time": "2022-04-27T17:37:55.374Z"
   },
   {
    "duration": 0,
    "start_time": "2022-04-27T17:37:55.376Z"
   },
   {
    "duration": 0,
    "start_time": "2022-04-27T17:37:55.430Z"
   },
   {
    "duration": 0,
    "start_time": "2022-04-27T17:37:55.436Z"
   },
   {
    "duration": 0,
    "start_time": "2022-04-27T17:37:55.438Z"
   },
   {
    "duration": 0,
    "start_time": "2022-04-27T17:37:55.443Z"
   },
   {
    "duration": 0,
    "start_time": "2022-04-27T17:37:55.447Z"
   },
   {
    "duration": 0,
    "start_time": "2022-04-27T17:37:55.448Z"
   },
   {
    "duration": 0,
    "start_time": "2022-04-27T17:37:55.450Z"
   },
   {
    "duration": 0,
    "start_time": "2022-04-27T17:37:55.454Z"
   },
   {
    "duration": 0,
    "start_time": "2022-04-27T17:37:55.457Z"
   },
   {
    "duration": 0,
    "start_time": "2022-04-27T17:37:55.460Z"
   },
   {
    "duration": 96,
    "start_time": "2022-04-27T17:38:15.974Z"
   },
   {
    "duration": 18,
    "start_time": "2022-04-27T17:38:16.073Z"
   },
   {
    "duration": 43,
    "start_time": "2022-04-27T17:38:16.094Z"
   },
   {
    "duration": 1848,
    "start_time": "2022-04-27T17:38:16.141Z"
   },
   {
    "duration": 0,
    "start_time": "2022-04-27T17:38:17.994Z"
   },
   {
    "duration": 0,
    "start_time": "2022-04-27T17:38:17.996Z"
   },
   {
    "duration": 0,
    "start_time": "2022-04-27T17:38:17.998Z"
   },
   {
    "duration": 0,
    "start_time": "2022-04-27T17:38:18.000Z"
   },
   {
    "duration": 0,
    "start_time": "2022-04-27T17:38:18.001Z"
   },
   {
    "duration": 0,
    "start_time": "2022-04-27T17:38:18.005Z"
   },
   {
    "duration": 0,
    "start_time": "2022-04-27T17:38:18.007Z"
   },
   {
    "duration": 0,
    "start_time": "2022-04-27T17:38:18.009Z"
   },
   {
    "duration": 0,
    "start_time": "2022-04-27T17:38:18.012Z"
   },
   {
    "duration": 0,
    "start_time": "2022-04-27T17:38:18.014Z"
   },
   {
    "duration": 1,
    "start_time": "2022-04-27T17:38:18.015Z"
   },
   {
    "duration": 0,
    "start_time": "2022-04-27T17:38:18.018Z"
   },
   {
    "duration": 0,
    "start_time": "2022-04-27T17:38:18.019Z"
   },
   {
    "duration": 0,
    "start_time": "2022-04-27T17:38:18.022Z"
   },
   {
    "duration": 0,
    "start_time": "2022-04-27T17:38:18.024Z"
   },
   {
    "duration": 0,
    "start_time": "2022-04-27T17:38:18.031Z"
   },
   {
    "duration": 0,
    "start_time": "2022-04-27T17:38:18.033Z"
   },
   {
    "duration": 0,
    "start_time": "2022-04-27T17:38:18.035Z"
   },
   {
    "duration": 0,
    "start_time": "2022-04-27T17:38:18.037Z"
   },
   {
    "duration": 0,
    "start_time": "2022-04-27T17:38:18.038Z"
   },
   {
    "duration": 0,
    "start_time": "2022-04-27T17:38:18.043Z"
   },
   {
    "duration": 0,
    "start_time": "2022-04-27T17:38:18.045Z"
   },
   {
    "duration": 0,
    "start_time": "2022-04-27T17:38:18.046Z"
   },
   {
    "duration": 0,
    "start_time": "2022-04-27T17:38:18.050Z"
   },
   {
    "duration": 0,
    "start_time": "2022-04-27T17:38:18.052Z"
   },
   {
    "duration": 0,
    "start_time": "2022-04-27T17:38:18.053Z"
   },
   {
    "duration": 0,
    "start_time": "2022-04-27T17:38:18.054Z"
   },
   {
    "duration": 0,
    "start_time": "2022-04-27T17:38:18.058Z"
   },
   {
    "duration": 0,
    "start_time": "2022-04-27T17:38:18.060Z"
   },
   {
    "duration": 0,
    "start_time": "2022-04-27T17:38:18.061Z"
   },
   {
    "duration": 0,
    "start_time": "2022-04-27T17:38:18.062Z"
   },
   {
    "duration": 0,
    "start_time": "2022-04-27T17:38:18.064Z"
   },
   {
    "duration": 0,
    "start_time": "2022-04-27T17:38:18.065Z"
   },
   {
    "duration": 0,
    "start_time": "2022-04-27T17:38:18.067Z"
   },
   {
    "duration": 0,
    "start_time": "2022-04-27T17:38:18.069Z"
   },
   {
    "duration": 0,
    "start_time": "2022-04-27T17:38:18.071Z"
   },
   {
    "duration": 0,
    "start_time": "2022-04-27T17:38:18.072Z"
   },
   {
    "duration": 0,
    "start_time": "2022-04-27T17:38:18.074Z"
   },
   {
    "duration": 0,
    "start_time": "2022-04-27T17:38:18.075Z"
   },
   {
    "duration": 93,
    "start_time": "2022-04-27T17:39:54.342Z"
   },
   {
    "duration": 29,
    "start_time": "2022-04-27T17:39:58.262Z"
   },
   {
    "duration": 24,
    "start_time": "2022-04-27T17:40:07.098Z"
   },
   {
    "duration": 124,
    "start_time": "2022-04-27T17:40:16.156Z"
   },
   {
    "duration": 58,
    "start_time": "2022-04-27T17:40:16.288Z"
   },
   {
    "duration": 31,
    "start_time": "2022-04-27T17:40:16.348Z"
   },
   {
    "duration": 59,
    "start_time": "2022-04-27T17:40:16.382Z"
   },
   {
    "duration": 31,
    "start_time": "2022-04-27T17:40:16.448Z"
   },
   {
    "duration": 14,
    "start_time": "2022-04-27T17:40:16.481Z"
   },
   {
    "duration": 106,
    "start_time": "2022-04-27T17:40:16.499Z"
   },
   {
    "duration": 13,
    "start_time": "2022-04-27T17:40:16.608Z"
   },
   {
    "duration": 125,
    "start_time": "2022-04-27T17:40:16.628Z"
   },
   {
    "duration": 7,
    "start_time": "2022-04-27T17:40:16.758Z"
   },
   {
    "duration": 40,
    "start_time": "2022-04-27T17:40:16.768Z"
   },
   {
    "duration": 93,
    "start_time": "2022-04-27T17:40:16.810Z"
   },
   {
    "duration": 28,
    "start_time": "2022-04-27T17:40:16.906Z"
   },
   {
    "duration": 30,
    "start_time": "2022-04-27T17:40:16.937Z"
   },
   {
    "duration": 31,
    "start_time": "2022-04-27T17:40:16.970Z"
   },
   {
    "duration": 37,
    "start_time": "2022-04-27T17:40:17.003Z"
   },
   {
    "duration": 40,
    "start_time": "2022-04-27T17:40:17.043Z"
   },
   {
    "duration": 54,
    "start_time": "2022-04-27T17:40:17.086Z"
   },
   {
    "duration": 32,
    "start_time": "2022-04-27T17:40:17.150Z"
   },
   {
    "duration": 50,
    "start_time": "2022-04-27T17:40:17.185Z"
   },
   {
    "duration": 8,
    "start_time": "2022-04-27T17:40:17.241Z"
   },
   {
    "duration": 1352,
    "start_time": "2022-04-27T17:40:17.251Z"
   },
   {
    "duration": 7,
    "start_time": "2022-04-27T17:40:18.606Z"
   },
   {
    "duration": 8509,
    "start_time": "2022-04-27T17:40:18.627Z"
   },
   {
    "duration": 20,
    "start_time": "2022-04-27T17:40:27.142Z"
   },
   {
    "duration": 71,
    "start_time": "2022-04-27T17:40:27.165Z"
   },
   {
    "duration": 93,
    "start_time": "2022-04-27T17:40:27.239Z"
   },
   {
    "duration": 24,
    "start_time": "2022-04-27T17:40:27.340Z"
   },
   {
    "duration": 81,
    "start_time": "2022-04-27T17:40:27.368Z"
   },
   {
    "duration": 75,
    "start_time": "2022-04-27T17:40:27.452Z"
   },
   {
    "duration": 16,
    "start_time": "2022-04-27T17:40:27.530Z"
   },
   {
    "duration": 29,
    "start_time": "2022-04-27T17:40:27.549Z"
   },
   {
    "duration": 31,
    "start_time": "2022-04-27T17:40:27.636Z"
   },
   {
    "duration": 60,
    "start_time": "2022-04-27T17:40:27.670Z"
   },
   {
    "duration": 38,
    "start_time": "2022-04-27T17:40:27.732Z"
   },
   {
    "duration": 53,
    "start_time": "2022-04-27T17:40:27.773Z"
   },
   {
    "duration": 6,
    "start_time": "2022-04-27T17:40:27.838Z"
   },
   {
    "duration": 81,
    "start_time": "2022-04-27T17:40:27.848Z"
   },
   {
    "duration": 38,
    "start_time": "2022-04-27T17:40:27.932Z"
   },
   {
    "duration": 177,
    "start_time": "2022-04-27T17:40:27.972Z"
   },
   {
    "duration": 178,
    "start_time": "2022-04-27T17:40:28.153Z"
   },
   {
    "duration": 196,
    "start_time": "2022-04-27T17:40:28.334Z"
   },
   {
    "duration": 126,
    "start_time": "2022-04-27T17:40:28.536Z"
   }
  ],
  "kernelspec": {
   "display_name": "Python 3 (ipykernel)",
   "language": "python",
   "name": "python3"
  },
  "language_info": {
   "codemirror_mode": {
    "name": "ipython",
    "version": 3
   },
   "file_extension": ".py",
   "mimetype": "text/x-python",
   "name": "python",
   "nbconvert_exporter": "python",
   "pygments_lexer": "ipython3",
   "version": "3.7.8"
  },
  "toc": {
   "base_numbering": 1,
   "nav_menu": {},
   "number_sections": true,
   "sideBar": true,
   "skip_h1_title": true,
   "title_cell": "Table of Contents",
   "title_sidebar": "Contents",
   "toc_cell": false,
   "toc_position": {
    "height": "calc(100% - 180px)",
    "left": "10px",
    "top": "150px",
    "width": "289.6px"
   },
   "toc_section_display": true,
   "toc_window_display": true
  }
 },
 "nbformat": 4,
 "nbformat_minor": 2
}
